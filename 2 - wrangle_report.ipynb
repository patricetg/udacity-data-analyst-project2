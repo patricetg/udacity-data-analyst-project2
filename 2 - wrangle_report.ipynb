{
 "cells": [
  {
   "cell_type": "markdown",
   "metadata": {},
   "source": [
    "## Reporting: Wrangling effort\n",
    "\n",
    "In this report, I will briefly describes my wrangling efforts on [Udacity Data Analyst](https://www.udacity.com/course/data-analyst-nanodegree--nd002) second project. The project was about exploring [WeRateDogs](https://twitter.com/dog_rates), a twitter account where dogs are given ratings for fun. \n",
    "\n",
    "The working dataset was not provided to us, I needed to retrieve it myself from different sources : \n",
    "1. The 1st piece of data come from my Udacity's account. It is to be consired directly received by email.\n",
    "2. The 2nd piece of data was retrieved through an API with the Request library\n",
    "3. The last piece of data was retrieved through the Tweeter API with the Tweepy library\n",
    "\n",
    "Once that step was finalized, the next thing I did was to assess my data. There were tidiness and quality issues that I next addressed. And last, based on the cleaned data, I made an Exploratory Data Analysis in order to gain some insights from my dataset."
   ]
  },
  {
   "cell_type": "code",
   "execution_count": null,
   "metadata": {},
   "outputs": [],
   "source": []
  }
 ],
 "metadata": {
  "kernelspec": {
   "display_name": "Python 3",
   "language": "python",
   "name": "python3"
  },
  "language_info": {
   "codemirror_mode": {
    "name": "ipython",
    "version": 3
   },
   "file_extension": ".py",
   "mimetype": "text/x-python",
   "name": "python",
   "nbconvert_exporter": "python",
   "pygments_lexer": "ipython3",
   "version": "3.8.8"
  }
 },
 "nbformat": 4,
 "nbformat_minor": 2
}
