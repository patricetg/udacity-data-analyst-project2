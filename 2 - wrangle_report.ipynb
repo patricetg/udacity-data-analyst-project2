{
 "cells": [
  {
   "cell_type": "markdown",
   "metadata": {},
   "source": [
    "## Reporting: Wrangling effort\n",
    "\n",
    "In this report, I will briefly describes my wrangling efforts on [Udacity Data Analyst](https://www.udacity.com/course/data-analyst-nanodegree--nd002) second project. The project was about exploring [WeRateDogs](https://twitter.com/dog_rates), a twitter account where dogs are given ratings for fun. \n",
    "\n",
    "The working dataset was not provided to us, I needed to retrieve it myself from different sources : \n",
    "1. The 1st piece of data come from my Udacity's account. It is to be consired directly received by email.\n",
    "2. The 2nd piece of data was retrieved through an API with the Request library\n",
    "3. The last piece of data was retrieved through the Tweeter API with the Tweepy library\n",
    "\n",
    "Once that step was finalized, the next thing I did was to assess my data. I spoted many tidiness and quality issues, which I addressed next. There were many challenges that arise during assessment; here are some of them:\n",
    "* The main challenge is the fact that there are dogs with multiple stage. There cleaning was difficult and tedious. I needed to manually (visually) locate each case, assess its particularity, then define myself which stage should be consired real before doing the cleaning.\n",
    "* Another challenge I resolved was related to the dogs without stages. When applying pandas.melt() to the dataframe to clean the fact that there are dog's stage names as column, I ended up with duplicate values related to those unknown stage. \n",
    "\n",
    "One of the main things I did was to fuse the three pieces of retrieved data together in order to conform to tidiness issue, and to make easier some Exploratory Data Analysis (EDA) works.\n",
    "\n",
    "Here are the documented issues in the retrieved piece of data:                     \n",
    "**Tidiness issues**\n",
    "1. `twitter_archive_df` and `tweets_df` should form one dataframe instead being two different dataframes.\n",
    "1. `twitter_archive_df` has values as columns for the stage of the dog.\n",
    "1. `twitter_archive_df` has useless columns for our purpose, such as status_id, status_user_id, status_timestamp, ...\n",
    "1. `tweets_df.user` should contains the id of another dataframe named `user`.\n",
    "1. `twitter_archive_df` and `image_predictions_df` should form one dataframe instead being two different dataframes.                 \n",
    "\n",
    "**Quality issues** \n",
    "1. `twitter_archive_df['source']` has tag `a` as value instead of the value of `href` attribute\n",
    "1. Wrong datatypes in `twitter_archive_df` in the following columns : `timestamp`\n",
    "1. `twitter_archive_df` has retweet samples, which are useless for our purpose (according to the project instructions)\n",
    "1. Null values in the following columns of `twitter_archive_df` : `in_reply_to_status_id, in_reply_to_user_id, retweeted_status_id, retweeted_status_user_id, retweeted_status_timestamp, expanded_urls`.\n",
    "1. Useless columns in `tweet_df`\n",
    "1. `tweets_df.created` has value beyond August 1st, 2017, which mean those sample will not have corresponding value in image_predictions_df\n",
    "1. Some samples in `image_predictions_df` are not dog\n",
    "1. In columns `p1`, `p2`, and `p3` of `image_predictions_df`, some values are capitalized while others are not\n",
    "1. In `image_predictions_df`, only the most confident prediction is relevant\n",
    "1. In `twitter_archive_df`, there are samples which have more than 1 stage\n",
    "\n",
    "\n",
    "After the tidiness and quality issues were dealt with, I made an EDA base on the clean data in order to gain some insights from my dataset."
   ]
  },
  {
   "cell_type": "code",
   "execution_count": null,
   "metadata": {},
   "outputs": [],
   "source": []
  }
 ],
 "metadata": {
  "kernelspec": {
   "display_name": "Python 3",
   "language": "python",
   "name": "python3"
  },
  "language_info": {
   "codemirror_mode": {
    "name": "ipython",
    "version": 3
   },
   "file_extension": ".py",
   "mimetype": "text/x-python",
   "name": "python",
   "nbconvert_exporter": "python",
   "pygments_lexer": "ipython3",
   "version": "3.8.8"
  }
 },
 "nbformat": 4,
 "nbformat_minor": 2
}
