{
 "cells": [
  {
   "cell_type": "markdown",
   "metadata": {
    "extensions": {
     "jupyter_dashboards": {
      "version": 1,
      "views": {
       "grid_default": {
        "col": 0,
        "height": 4,
        "hidden": false,
        "row": 0,
        "width": 4
       },
       "report_default": {
        "hidden": false
       }
      }
     }
    }
   },
   "source": [
    "# Project: Wrangling and Analyze Data\n",
    "\n",
    "## Table of Contents\n",
    "\n",
    "\n",
    "* [Introduction](#intro)\n",
    "* [Data Wrangling](#wrangling)\n",
    "* [Exploratory Data Analysis](#eda)\n",
    "* [Conclusions](#conclusions)\n",
    "\n",
    "\n"
   ]
  },
  {
   "cell_type": "markdown",
   "metadata": {},
   "source": [
    "<a id='intro'></a>\n",
    "## Introduction\n",
    "\n",
    "This my [Udacity Data Analyst Nanodegree](https://www.udacity.com/course/data-analyst-nanodegree--nd002) second project. The goal here is to demonstrate my Data Wrangling ability. I am required to retrieve piece of data through different sources, put them together to form a whole, assess and clean them, before gaining valuable insights from them."
   ]
  },
  {
   "cell_type": "code",
   "execution_count": null,
   "metadata": {},
   "outputs": [],
   "source": []
  },
  {
   "cell_type": "code",
   "execution_count": 1,
   "metadata": {},
   "outputs": [],
   "source": [
    "import pandas as pd\n",
    "import numpy as np\n",
    "\n",
    "import requests\n",
    "import os\n",
    "\n",
    "import tweepy\n",
    "from tweepy import OAuthHandler\n",
    "import json\n",
    "from timeit import default_timer as timer\n",
    "\n",
    "# regular expression\n",
    "import re\n",
    "\n",
    "import matplotlib.pyplot as plt\n",
    "import seaborn as sb\n",
    "\n",
    "from dateutil.parser import parse\n",
    "from datetime import datetime\n",
    "\n",
    "%matplotlib inline"
   ]
  },
  {
   "cell_type": "code",
   "execution_count": null,
   "metadata": {},
   "outputs": [],
   "source": []
  },
  {
   "cell_type": "code",
   "execution_count": 2,
   "metadata": {},
   "outputs": [],
   "source": [
    "def extract_urls_from_str(value)->str:\n",
    "    \"\"\"\n",
    "    Extract urls the given string\n",
    "    Return : urls, separated by comma\n",
    "    \n",
    "    References : \n",
    "        - https://www.digitalocean.com/community/tutorials/pandas-dataframe-apply-examples\n",
    "        - https://stackoverflow.com/questions/499345/regular-expression-to-extract-url-from-an-html-link\n",
    "    \"\"\"\n",
    "    string = str(value)\n",
    "    urls = re.findall(r'href=[\\'\"]?([^\\'\" >]+)', string)\n",
    "    return ', '.join(urls) "
   ]
  },
  {
   "cell_type": "code",
   "execution_count": null,
   "metadata": {},
   "outputs": [],
   "source": []
  },
  {
   "cell_type": "code",
   "execution_count": 3,
   "metadata": {},
   "outputs": [],
   "source": [
    "def operate_datetime_feature_engineering(df:pd.DataFrame, datetime_column:str, verbose=False)->pd.DataFrame:\n",
    "    \"\"\"\n",
    "        Generate new features for our samples, in order to answer questions related to :\n",
    "            - day periods (morning, miday, evening, afternoon, ...)\n",
    "            - day (monday, tuesday, ...)\n",
    "            - month (Jan, Feb, ...)\n",
    "\n",
    "        Code based on the courses given by Prof @Stanley Omeike on OneCampus Academy.\n",
    "        \n",
    "        @param df:pd.DataFrame : the dataframe in which to do the feature engineering\n",
    "        @param datetime_column:str : column based on which to do the feature engineering\n",
    "        \n",
    "        @return : the new dataframe, containing the generated columns\n",
    "        \n",
    "        References :\n",
    "            - Code based on a course given by Prof @Stanley Omeike on OneCampus Academy\n",
    "            - https://sparkbyexamples.com/pandas/how-to-format-pandas-datetime/\n",
    "            - https://stackoverflow.com/questions/1759455/how-can-i-account-for-period-am-pm-using-strftime\n",
    "    \"\"\"\n",
    "\n",
    "    # standardize the format of the column, and parse it to str in order to allow further work on it\n",
    "    dCol = tweets_master_df[datetime_column].dt.strftime(\"%Y-%m-%d %I:%M:%S %p\").astype(str) #tweets_master_df[\"timestamp\"].astype(str)\n",
    "    #dCol\n",
    "\n",
    "    # print(dates[:2] ) will give something like : [('Sat Jul 26 02:30:00 2008', 'PM'), ('Tue Jul 31 10:57:00 2018', 'AM')]\n",
    "    dates = [( datetime.ctime(parse(x[0:-3])), x[-2:] ) for x in dCol]\n",
    "\n",
    "#     print(\"dates[:2] : \")\n",
    "#     print(dates[:2])\n",
    "    \n",
    "    days = []\n",
    "    months = []\n",
    "    periods = []\n",
    "\n",
    "    unprocesseds = []\n",
    "\n",
    "    for row in dates:\n",
    "        day = row[0][0:4]\n",
    "        month = row[0][4:7]\n",
    "        time = int(row[0][11:13])\n",
    "\n",
    "        if row[1]=='AM' and time<=4:\n",
    "            period = 'Night (after midnight)'\n",
    "        elif row[1]=='AM' and time<=7:\n",
    "            period = \"Morning\"\n",
    "        elif row[1]=='AM' and time>7:\n",
    "            period = \"Day Time\"\n",
    "        elif row[1] =='PM' and time<=4:\n",
    "            period = 'Afternoon'\n",
    "        elif row[1] =='PM' and time<=6:\n",
    "            period = 'Evening' \n",
    "        elif row[1] =='PM' and (time>6 and time<=10):\n",
    "            period = 'Night (start)'\n",
    "        elif row[1] =='PM' and time>10:\n",
    "            period = 'Near Midnight'\n",
    "        else:\n",
    "            period = \"TODO\"\n",
    "            unprocesseds.append(row[0]+\" \"+row[1])\n",
    "\n",
    "        days.append(day)\n",
    "        months.append(month)\n",
    "        periods.append(period)\n",
    "    \n",
    "    if(len(unprocesseds)>0):\n",
    "        print(\"unprocesseds\")\n",
    "        print(unprocesseds)\n",
    "        print(\"len(unprocesseds)\")\n",
    "        print(len(unprocesseds))\n",
    "    \n",
    "    df['month'] = months\n",
    "    df['day'] = days\n",
    "    df['period']= periods\n",
    "    \n",
    "    if(verbose):\n",
    "        df.sample(3).T\n",
    "        \n",
    "    return df"
   ]
  },
  {
   "cell_type": "code",
   "execution_count": null,
   "metadata": {},
   "outputs": [],
   "source": []
  },
  {
   "cell_type": "code",
   "execution_count": null,
   "metadata": {},
   "outputs": [],
   "source": []
  },
  {
   "cell_type": "markdown",
   "metadata": {},
   "source": [
    "## Data Gathering\n",
    "In the cells below, I will gather all three pieces of data for this project and load them in the notebook.  \n",
    "**Note:** the methods required to gather each data are different.\n",
    "\n",
    "\n",
    "**1. 1st piece of data** : Download the WeRateDogs Twitter archive data through a link.                            \n",
    "*Here, the dataset come from my Udacity account. It is to be consired directly sent to me by email.*"
   ]
  },
  {
   "cell_type": "code",
   "execution_count": 4,
   "metadata": {
    "extensions": {
     "jupyter_dashboards": {
      "version": 1,
      "views": {
       "grid_default": {
        "hidden": true
       },
       "report_default": {
        "hidden": true
       }
      }
     }
    }
   },
   "outputs": [
    {
     "data": {
      "text/html": [
       "<div>\n",
       "<style scoped>\n",
       "    .dataframe tbody tr th:only-of-type {\n",
       "        vertical-align: middle;\n",
       "    }\n",
       "\n",
       "    .dataframe tbody tr th {\n",
       "        vertical-align: top;\n",
       "    }\n",
       "\n",
       "    .dataframe thead th {\n",
       "        text-align: right;\n",
       "    }\n",
       "</style>\n",
       "<table border=\"1\" class=\"dataframe\">\n",
       "  <thead>\n",
       "    <tr style=\"text-align: right;\">\n",
       "      <th></th>\n",
       "      <th>0</th>\n",
       "      <th>1</th>\n",
       "      <th>2</th>\n",
       "    </tr>\n",
       "  </thead>\n",
       "  <tbody>\n",
       "    <tr>\n",
       "      <th>tweet_id</th>\n",
       "      <td>892420643555336193</td>\n",
       "      <td>892177421306343426</td>\n",
       "      <td>891815181378084864</td>\n",
       "    </tr>\n",
       "    <tr>\n",
       "      <th>in_reply_to_status_id</th>\n",
       "      <td>NaN</td>\n",
       "      <td>NaN</td>\n",
       "      <td>NaN</td>\n",
       "    </tr>\n",
       "    <tr>\n",
       "      <th>in_reply_to_user_id</th>\n",
       "      <td>NaN</td>\n",
       "      <td>NaN</td>\n",
       "      <td>NaN</td>\n",
       "    </tr>\n",
       "    <tr>\n",
       "      <th>timestamp</th>\n",
       "      <td>2017-08-01 16:23:56 +0000</td>\n",
       "      <td>2017-08-01 00:17:27 +0000</td>\n",
       "      <td>2017-07-31 00:18:03 +0000</td>\n",
       "    </tr>\n",
       "    <tr>\n",
       "      <th>source</th>\n",
       "      <td>&lt;a href=\"http://twitter.com/download/iphone\" r...</td>\n",
       "      <td>&lt;a href=\"http://twitter.com/download/iphone\" r...</td>\n",
       "      <td>&lt;a href=\"http://twitter.com/download/iphone\" r...</td>\n",
       "    </tr>\n",
       "    <tr>\n",
       "      <th>text</th>\n",
       "      <td>This is Phineas. He's a mystical boy. Only eve...</td>\n",
       "      <td>This is Tilly. She's just checking pup on you....</td>\n",
       "      <td>This is Archie. He is a rare Norwegian Pouncin...</td>\n",
       "    </tr>\n",
       "    <tr>\n",
       "      <th>retweeted_status_id</th>\n",
       "      <td>NaN</td>\n",
       "      <td>NaN</td>\n",
       "      <td>NaN</td>\n",
       "    </tr>\n",
       "    <tr>\n",
       "      <th>retweeted_status_user_id</th>\n",
       "      <td>NaN</td>\n",
       "      <td>NaN</td>\n",
       "      <td>NaN</td>\n",
       "    </tr>\n",
       "    <tr>\n",
       "      <th>retweeted_status_timestamp</th>\n",
       "      <td>NaN</td>\n",
       "      <td>NaN</td>\n",
       "      <td>NaN</td>\n",
       "    </tr>\n",
       "    <tr>\n",
       "      <th>expanded_urls</th>\n",
       "      <td>https://twitter.com/dog_rates/status/892420643...</td>\n",
       "      <td>https://twitter.com/dog_rates/status/892177421...</td>\n",
       "      <td>https://twitter.com/dog_rates/status/891815181...</td>\n",
       "    </tr>\n",
       "    <tr>\n",
       "      <th>rating_numerator</th>\n",
       "      <td>13</td>\n",
       "      <td>13</td>\n",
       "      <td>12</td>\n",
       "    </tr>\n",
       "    <tr>\n",
       "      <th>rating_denominator</th>\n",
       "      <td>10</td>\n",
       "      <td>10</td>\n",
       "      <td>10</td>\n",
       "    </tr>\n",
       "    <tr>\n",
       "      <th>name</th>\n",
       "      <td>Phineas</td>\n",
       "      <td>Tilly</td>\n",
       "      <td>Archie</td>\n",
       "    </tr>\n",
       "    <tr>\n",
       "      <th>doggo</th>\n",
       "      <td>None</td>\n",
       "      <td>None</td>\n",
       "      <td>None</td>\n",
       "    </tr>\n",
       "    <tr>\n",
       "      <th>floofer</th>\n",
       "      <td>None</td>\n",
       "      <td>None</td>\n",
       "      <td>None</td>\n",
       "    </tr>\n",
       "    <tr>\n",
       "      <th>pupper</th>\n",
       "      <td>None</td>\n",
       "      <td>None</td>\n",
       "      <td>None</td>\n",
       "    </tr>\n",
       "    <tr>\n",
       "      <th>puppo</th>\n",
       "      <td>None</td>\n",
       "      <td>None</td>\n",
       "      <td>None</td>\n",
       "    </tr>\n",
       "  </tbody>\n",
       "</table>\n",
       "</div>"
      ],
      "text/plain": [
       "                                                                            0  \\\n",
       "tweet_id                                                   892420643555336193   \n",
       "in_reply_to_status_id                                                     NaN   \n",
       "in_reply_to_user_id                                                       NaN   \n",
       "timestamp                                           2017-08-01 16:23:56 +0000   \n",
       "source                      <a href=\"http://twitter.com/download/iphone\" r...   \n",
       "text                        This is Phineas. He's a mystical boy. Only eve...   \n",
       "retweeted_status_id                                                       NaN   \n",
       "retweeted_status_user_id                                                  NaN   \n",
       "retweeted_status_timestamp                                                NaN   \n",
       "expanded_urls               https://twitter.com/dog_rates/status/892420643...   \n",
       "rating_numerator                                                           13   \n",
       "rating_denominator                                                         10   \n",
       "name                                                                  Phineas   \n",
       "doggo                                                                    None   \n",
       "floofer                                                                  None   \n",
       "pupper                                                                   None   \n",
       "puppo                                                                    None   \n",
       "\n",
       "                                                                            1  \\\n",
       "tweet_id                                                   892177421306343426   \n",
       "in_reply_to_status_id                                                     NaN   \n",
       "in_reply_to_user_id                                                       NaN   \n",
       "timestamp                                           2017-08-01 00:17:27 +0000   \n",
       "source                      <a href=\"http://twitter.com/download/iphone\" r...   \n",
       "text                        This is Tilly. She's just checking pup on you....   \n",
       "retweeted_status_id                                                       NaN   \n",
       "retweeted_status_user_id                                                  NaN   \n",
       "retweeted_status_timestamp                                                NaN   \n",
       "expanded_urls               https://twitter.com/dog_rates/status/892177421...   \n",
       "rating_numerator                                                           13   \n",
       "rating_denominator                                                         10   \n",
       "name                                                                    Tilly   \n",
       "doggo                                                                    None   \n",
       "floofer                                                                  None   \n",
       "pupper                                                                   None   \n",
       "puppo                                                                    None   \n",
       "\n",
       "                                                                            2  \n",
       "tweet_id                                                   891815181378084864  \n",
       "in_reply_to_status_id                                                     NaN  \n",
       "in_reply_to_user_id                                                       NaN  \n",
       "timestamp                                           2017-07-31 00:18:03 +0000  \n",
       "source                      <a href=\"http://twitter.com/download/iphone\" r...  \n",
       "text                        This is Archie. He is a rare Norwegian Pouncin...  \n",
       "retweeted_status_id                                                       NaN  \n",
       "retweeted_status_user_id                                                  NaN  \n",
       "retweeted_status_timestamp                                                NaN  \n",
       "expanded_urls               https://twitter.com/dog_rates/status/891815181...  \n",
       "rating_numerator                                                           12  \n",
       "rating_denominator                                                         10  \n",
       "name                                                                   Archie  \n",
       "doggo                                                                    None  \n",
       "floofer                                                                  None  \n",
       "pupper                                                                   None  \n",
       "puppo                                                                    None  "
      ]
     },
     "execution_count": 4,
     "metadata": {},
     "output_type": "execute_result"
    }
   ],
   "source": [
    "twitter_archive_df = pd.read_csv(\"twitter-archive-enhanced.csv\")\n",
    "twitter_archive_df.head(3).T"
   ]
  },
  {
   "cell_type": "code",
   "execution_count": null,
   "metadata": {},
   "outputs": [],
   "source": []
  },
  {
   "cell_type": "markdown",
   "metadata": {},
   "source": [
    "**2. 2nd piece of data** : Download data through an API              \n",
    "*I will use the Requests library to download through an API the tweet image prediction (image_predictions.tsv)*"
   ]
  },
  {
   "cell_type": "code",
   "execution_count": 5,
   "metadata": {},
   "outputs": [],
   "source": [
    "# Create download folder if not exist\n",
    "folder_name = \"downloads\"\n",
    "folder_path = \"./{}\".format(folder_name)\n",
    "if not os.path.exists(folder_path):\n",
    "    os.makedirs(folder_path)"
   ]
  },
  {
   "cell_type": "code",
   "execution_count": 6,
   "metadata": {},
   "outputs": [
    {
     "name": "stdout",
     "output_type": "stream",
     "text": [
      "Request successful\n"
     ]
    }
   ],
   "source": [
    "# Make the download request\n",
    "\n",
    "# download's url provided in the project's instructions\n",
    "image_url = \"https://d17h27t6h515a5.cloudfront.net/topher/2017/August/599fd2ad_image-predictions/image-predictions.tsv\"\n",
    "image_response = requests.get(image_url)\n",
    "\n",
    "if image_response.status_code != 200:\n",
    "    raise Exception(\"Response status code != from 200\")\n",
    "else:\n",
    "    print(\"Request successful\")"
   ]
  },
  {
   "cell_type": "code",
   "execution_count": 7,
   "metadata": {},
   "outputs": [
    {
     "name": "stdout",
     "output_type": "stream",
     "text": [
      "File saved on disk\n"
     ]
    }
   ],
   "source": [
    "# Save downloaded file\n",
    "file_name = image_url.split(\"/\")[-1]\n",
    "file_path = os.path.join(folder_path, file_name)\n",
    "with open( file_path , mode=\"wb\" ) as file:\n",
    "    file.write(image_response.content)\n",
    "    print(\"File saved on disk\")"
   ]
  },
  {
   "cell_type": "code",
   "execution_count": 8,
   "metadata": {},
   "outputs": [
    {
     "data": {
      "text/html": [
       "<div>\n",
       "<style scoped>\n",
       "    .dataframe tbody tr th:only-of-type {\n",
       "        vertical-align: middle;\n",
       "    }\n",
       "\n",
       "    .dataframe tbody tr th {\n",
       "        vertical-align: top;\n",
       "    }\n",
       "\n",
       "    .dataframe thead th {\n",
       "        text-align: right;\n",
       "    }\n",
       "</style>\n",
       "<table border=\"1\" class=\"dataframe\">\n",
       "  <thead>\n",
       "    <tr style=\"text-align: right;\">\n",
       "      <th></th>\n",
       "      <th>0</th>\n",
       "      <th>1</th>\n",
       "      <th>2</th>\n",
       "    </tr>\n",
       "  </thead>\n",
       "  <tbody>\n",
       "    <tr>\n",
       "      <th>tweet_id</th>\n",
       "      <td>666020888022790149</td>\n",
       "      <td>666029285002620928</td>\n",
       "      <td>666033412701032449</td>\n",
       "    </tr>\n",
       "    <tr>\n",
       "      <th>jpg_url</th>\n",
       "      <td>https://pbs.twimg.com/media/CT4udn0WwAA0aMy.jpg</td>\n",
       "      <td>https://pbs.twimg.com/media/CT42GRgUYAA5iDo.jpg</td>\n",
       "      <td>https://pbs.twimg.com/media/CT4521TWwAEvMyu.jpg</td>\n",
       "    </tr>\n",
       "    <tr>\n",
       "      <th>img_num</th>\n",
       "      <td>1</td>\n",
       "      <td>1</td>\n",
       "      <td>1</td>\n",
       "    </tr>\n",
       "    <tr>\n",
       "      <th>p1</th>\n",
       "      <td>Welsh_springer_spaniel</td>\n",
       "      <td>redbone</td>\n",
       "      <td>German_shepherd</td>\n",
       "    </tr>\n",
       "    <tr>\n",
       "      <th>p1_conf</th>\n",
       "      <td>0.465074</td>\n",
       "      <td>0.506826</td>\n",
       "      <td>0.596461</td>\n",
       "    </tr>\n",
       "    <tr>\n",
       "      <th>p1_dog</th>\n",
       "      <td>True</td>\n",
       "      <td>True</td>\n",
       "      <td>True</td>\n",
       "    </tr>\n",
       "    <tr>\n",
       "      <th>p2</th>\n",
       "      <td>collie</td>\n",
       "      <td>miniature_pinscher</td>\n",
       "      <td>malinois</td>\n",
       "    </tr>\n",
       "    <tr>\n",
       "      <th>p2_conf</th>\n",
       "      <td>0.156665</td>\n",
       "      <td>0.074192</td>\n",
       "      <td>0.138584</td>\n",
       "    </tr>\n",
       "    <tr>\n",
       "      <th>p2_dog</th>\n",
       "      <td>True</td>\n",
       "      <td>True</td>\n",
       "      <td>True</td>\n",
       "    </tr>\n",
       "    <tr>\n",
       "      <th>p3</th>\n",
       "      <td>Shetland_sheepdog</td>\n",
       "      <td>Rhodesian_ridgeback</td>\n",
       "      <td>bloodhound</td>\n",
       "    </tr>\n",
       "    <tr>\n",
       "      <th>p3_conf</th>\n",
       "      <td>0.061428</td>\n",
       "      <td>0.07201</td>\n",
       "      <td>0.116197</td>\n",
       "    </tr>\n",
       "    <tr>\n",
       "      <th>p3_dog</th>\n",
       "      <td>True</td>\n",
       "      <td>True</td>\n",
       "      <td>True</td>\n",
       "    </tr>\n",
       "  </tbody>\n",
       "</table>\n",
       "</div>"
      ],
      "text/plain": [
       "                                                        0  \\\n",
       "tweet_id                               666020888022790149   \n",
       "jpg_url   https://pbs.twimg.com/media/CT4udn0WwAA0aMy.jpg   \n",
       "img_num                                                 1   \n",
       "p1                                 Welsh_springer_spaniel   \n",
       "p1_conf                                          0.465074   \n",
       "p1_dog                                               True   \n",
       "p2                                                 collie   \n",
       "p2_conf                                          0.156665   \n",
       "p2_dog                                               True   \n",
       "p3                                      Shetland_sheepdog   \n",
       "p3_conf                                          0.061428   \n",
       "p3_dog                                               True   \n",
       "\n",
       "                                                        1  \\\n",
       "tweet_id                               666029285002620928   \n",
       "jpg_url   https://pbs.twimg.com/media/CT42GRgUYAA5iDo.jpg   \n",
       "img_num                                                 1   \n",
       "p1                                                redbone   \n",
       "p1_conf                                          0.506826   \n",
       "p1_dog                                               True   \n",
       "p2                                     miniature_pinscher   \n",
       "p2_conf                                          0.074192   \n",
       "p2_dog                                               True   \n",
       "p3                                    Rhodesian_ridgeback   \n",
       "p3_conf                                           0.07201   \n",
       "p3_dog                                               True   \n",
       "\n",
       "                                                        2  \n",
       "tweet_id                               666033412701032449  \n",
       "jpg_url   https://pbs.twimg.com/media/CT4521TWwAEvMyu.jpg  \n",
       "img_num                                                 1  \n",
       "p1                                        German_shepherd  \n",
       "p1_conf                                          0.596461  \n",
       "p1_dog                                               True  \n",
       "p2                                               malinois  \n",
       "p2_conf                                          0.138584  \n",
       "p2_dog                                               True  \n",
       "p3                                             bloodhound  \n",
       "p3_conf                                          0.116197  \n",
       "p3_dog                                               True  "
      ]
     },
     "execution_count": 8,
     "metadata": {},
     "output_type": "execute_result"
    }
   ],
   "source": [
    "# Import downloaded file in a dataframe\n",
    "image_predictions_df = pd.read_csv(file_path, sep=\"\\t\")\n",
    "image_predictions_df.head(3).T"
   ]
  },
  {
   "cell_type": "code",
   "execution_count": null,
   "metadata": {},
   "outputs": [],
   "source": []
  },
  {
   "cell_type": "markdown",
   "metadata": {},
   "source": [
    "**3. 3rd piece of data** : Download data through the Twitter API             \n",
    "*I will use the Tweepy library to query additional data via the Twitter API (tweet_json.txt)*"
   ]
  },
  {
   "cell_type": "code",
   "execution_count": 9,
   "metadata": {},
   "outputs": [
    {
     "data": {
      "text/plain": [
       "array([666020888022790149, 666029285002620928, 666033412701032449, ...,\n",
       "       891815181378084864, 892177421306343426, 892420643555336193],\n",
       "      dtype=int64)"
      ]
     },
     "execution_count": 9,
     "metadata": {},
     "output_type": "execute_result"
    }
   ],
   "source": [
    "tweet_ids = image_predictions_df[\"tweet_id\"].values\n",
    "tweet_ids"
   ]
  },
  {
   "cell_type": "code",
   "execution_count": null,
   "metadata": {},
   "outputs": [],
   "source": []
  },
  {
   "cell_type": "code",
   "execution_count": 10,
   "metadata": {},
   "outputs": [],
   "source": [
    "# Signify that I have not put my own twitter api key in this notebook\n",
    "have_put_my_own_api_key = False\n",
    "\n",
    "# Query Twitter API for each tweet in the Twitter archive and save JSON in a text file\n",
    "# These are hidden to comply with Twitter's API terms and conditions\n",
    "consumer_key = \"XXX\"\n",
    "consumer_secret = \"XXX\"\n",
    "access_token = \"XXX\"\n",
    "access_secret = \"XXX\"\n",
    "\n",
    "tweet_json_file_name = \"tweet_json.txt\"\n",
    "tweet_json_file_path = \"./{}\".format(tweet_json_file_name)\n",
    "\n",
    "if have_put_my_own_api_key:\n",
    "    \"\"\" The code below was taken from my Udacity's classroom \"\"\"\n",
    "    \n",
    "    auth = OAuthHandler(consumer_key, consumer_secret)\n",
    "    auth.set_access_token(access_token, access_secret)\n",
    "\n",
    "    api = tweepy.API(auth, wait_on_rate_limit=True)\n",
    "\n",
    "    # Query Twitter's API for JSON data for each tweet ID in the Twitter archive\n",
    "    count = 0\n",
    "    fails_dict = {}\n",
    "    start = timer()\n",
    "    # Save each tweet's returned JSON as a new line in a .txt file\n",
    "    with open('tweet_json.txt', 'w') as outfile:\n",
    "        # This loop will likely take 20-30 minutes to run because of Twitter's rate limit\n",
    "        for tweet_id in tweet_ids:\n",
    "            count += 1\n",
    "            print(str(count) + \": \" + str(tweet_id))\n",
    "            try:\n",
    "                tweet = api.get_status(tweet_id, tweet_mode='extended')\n",
    "                print(\"Success\")\n",
    "                json.dump(tweet._json, outfile)\n",
    "                outfile.write('\\n')\n",
    "            except tweepy.TweepError as e:\n",
    "                print(\"Fail\")\n",
    "                fails_dict[tweet_id] = e\n",
    "                pass\n",
    "    end = timer()\n",
    "    print(end - start)\n",
    "    print(fails_dict)"
   ]
  },
  {
   "cell_type": "markdown",
   "metadata": {},
   "source": [
    "Import json file into a dataframe"
   ]
  },
  {
   "cell_type": "code",
   "execution_count": 11,
   "metadata": {},
   "outputs": [
    {
     "data": {
      "text/plain": [
       "[{'created_at': 'Tue Aug 01 16:23:56 +0000 2017',\n",
       "  'id': 892420643555336193,\n",
       "  'id_str': '892420643555336193',\n",
       "  'full_text': \"This is Phineas. He's a mystical boy. Only ever appears in the hole of a donut. 13/10 https://t.co/MgUWQ76dJU\",\n",
       "  'truncated': False,\n",
       "  'display_text_range': [0, 85],\n",
       "  'entities': {'hashtags': [],\n",
       "   'symbols': [],\n",
       "   'user_mentions': [],\n",
       "   'urls': [],\n",
       "   'media': [{'id': 892420639486877696,\n",
       "     'id_str': '892420639486877696',\n",
       "     'indices': [86, 109],\n",
       "     'media_url': 'http://pbs.twimg.com/media/DGKD1-bXoAAIAUK.jpg',\n",
       "     'media_url_https': 'https://pbs.twimg.com/media/DGKD1-bXoAAIAUK.jpg',\n",
       "     'url': 'https://t.co/MgUWQ76dJU',\n",
       "     'display_url': 'pic.twitter.com/MgUWQ76dJU',\n",
       "     'expanded_url': 'https://twitter.com/dog_rates/status/892420643555336193/photo/1',\n",
       "     'type': 'photo',\n",
       "     'sizes': {'large': {'w': 540, 'h': 528, 'resize': 'fit'},\n",
       "      'thumb': {'w': 150, 'h': 150, 'resize': 'crop'},\n",
       "      'small': {'w': 540, 'h': 528, 'resize': 'fit'},\n",
       "      'medium': {'w': 540, 'h': 528, 'resize': 'fit'}}}]},\n",
       "  'extended_entities': {'media': [{'id': 892420639486877696,\n",
       "     'id_str': '892420639486877696',\n",
       "     'indices': [86, 109],\n",
       "     'media_url': 'http://pbs.twimg.com/media/DGKD1-bXoAAIAUK.jpg',\n",
       "     'media_url_https': 'https://pbs.twimg.com/media/DGKD1-bXoAAIAUK.jpg',\n",
       "     'url': 'https://t.co/MgUWQ76dJU',\n",
       "     'display_url': 'pic.twitter.com/MgUWQ76dJU',\n",
       "     'expanded_url': 'https://twitter.com/dog_rates/status/892420643555336193/photo/1',\n",
       "     'type': 'photo',\n",
       "     'sizes': {'large': {'w': 540, 'h': 528, 'resize': 'fit'},\n",
       "      'thumb': {'w': 150, 'h': 150, 'resize': 'crop'},\n",
       "      'small': {'w': 540, 'h': 528, 'resize': 'fit'},\n",
       "      'medium': {'w': 540, 'h': 528, 'resize': 'fit'}}}]},\n",
       "  'source': '<a href=\"http://twitter.com/download/iphone\" rel=\"nofollow\">Twitter for iPhone</a>',\n",
       "  'in_reply_to_status_id': None,\n",
       "  'in_reply_to_status_id_str': None,\n",
       "  'in_reply_to_user_id': None,\n",
       "  'in_reply_to_user_id_str': None,\n",
       "  'in_reply_to_screen_name': None,\n",
       "  'user': {'id': 4196983835,\n",
       "   'id_str': '4196983835',\n",
       "   'name': 'WeRateDogs™ (author)',\n",
       "   'screen_name': 'dog_rates',\n",
       "   'location': 'DM YOUR DOGS, WE WILL RATE',\n",
       "   'description': '#1 Source for Professional Dog Ratings | STORE: @ShopWeRateDogs | IG, FB & SC: WeRateDogs MOBILE APP: @GoodDogsGame | Business: dogratingtwitter@gmail.com',\n",
       "   'url': 'https://t.co/N7sNNHAEXS',\n",
       "   'entities': {'url': {'urls': [{'url': 'https://t.co/N7sNNHAEXS',\n",
       "       'expanded_url': 'http://weratedogs.com',\n",
       "       'display_url': 'weratedogs.com',\n",
       "       'indices': [0, 23]}]},\n",
       "    'description': {'urls': []}},\n",
       "   'protected': False,\n",
       "   'followers_count': 3200889,\n",
       "   'friends_count': 104,\n",
       "   'listed_count': 2784,\n",
       "   'created_at': 'Sun Nov 15 21:41:29 +0000 2015',\n",
       "   'favourites_count': 114031,\n",
       "   'utc_offset': None,\n",
       "   'time_zone': None,\n",
       "   'geo_enabled': True,\n",
       "   'verified': True,\n",
       "   'statuses_count': 5288,\n",
       "   'lang': 'en',\n",
       "   'contributors_enabled': False,\n",
       "   'is_translator': False,\n",
       "   'is_translation_enabled': False,\n",
       "   'profile_background_color': '000000',\n",
       "   'profile_background_image_url': 'http://abs.twimg.com/images/themes/theme1/bg.png',\n",
       "   'profile_background_image_url_https': 'https://abs.twimg.com/images/themes/theme1/bg.png',\n",
       "   'profile_background_tile': False,\n",
       "   'profile_image_url': 'http://pbs.twimg.com/profile_images/861415328504569856/R2xOOfwe_normal.jpg',\n",
       "   'profile_image_url_https': 'https://pbs.twimg.com/profile_images/861415328504569856/R2xOOfwe_normal.jpg',\n",
       "   'profile_banner_url': 'https://pbs.twimg.com/profile_banners/4196983835/1501129017',\n",
       "   'profile_link_color': 'F5ABB5',\n",
       "   'profile_sidebar_border_color': '000000',\n",
       "   'profile_sidebar_fill_color': '000000',\n",
       "   'profile_text_color': '000000',\n",
       "   'profile_use_background_image': False,\n",
       "   'has_extended_profile': True,\n",
       "   'default_profile': False,\n",
       "   'default_profile_image': False,\n",
       "   'following': True,\n",
       "   'follow_request_sent': False,\n",
       "   'notifications': False,\n",
       "   'translator_type': 'none'},\n",
       "  'geo': None,\n",
       "  'coordinates': None,\n",
       "  'place': None,\n",
       "  'contributors': None,\n",
       "  'is_quote_status': False,\n",
       "  'retweet_count': 8853,\n",
       "  'favorite_count': 39467,\n",
       "  'favorited': False,\n",
       "  'retweeted': False,\n",
       "  'possibly_sensitive': False,\n",
       "  'possibly_sensitive_appealable': False,\n",
       "  'lang': 'en'},\n",
       " {'created_at': 'Tue Aug 01 00:17:27 +0000 2017',\n",
       "  'id': 892177421306343426,\n",
       "  'id_str': '892177421306343426',\n",
       "  'full_text': \"This is Tilly. She's just checking pup on you. Hopes you're doing ok. If not, she's available for pats, snugs, boops, the whole bit. 13/10 https://t.co/0Xxu71qeIV\",\n",
       "  'truncated': False,\n",
       "  'display_text_range': [0, 138],\n",
       "  'entities': {'hashtags': [],\n",
       "   'symbols': [],\n",
       "   'user_mentions': [],\n",
       "   'urls': [],\n",
       "   'media': [{'id': 892177413194625024,\n",
       "     'id_str': '892177413194625024',\n",
       "     'indices': [139, 162],\n",
       "     'media_url': 'http://pbs.twimg.com/media/DGGmoV4XsAAUL6n.jpg',\n",
       "     'media_url_https': 'https://pbs.twimg.com/media/DGGmoV4XsAAUL6n.jpg',\n",
       "     'url': 'https://t.co/0Xxu71qeIV',\n",
       "     'display_url': 'pic.twitter.com/0Xxu71qeIV',\n",
       "     'expanded_url': 'https://twitter.com/dog_rates/status/892177421306343426/photo/1',\n",
       "     'type': 'photo',\n",
       "     'sizes': {'large': {'w': 1407, 'h': 1600, 'resize': 'fit'},\n",
       "      'thumb': {'w': 150, 'h': 150, 'resize': 'crop'},\n",
       "      'small': {'w': 598, 'h': 680, 'resize': 'fit'},\n",
       "      'medium': {'w': 1055, 'h': 1200, 'resize': 'fit'}}}]},\n",
       "  'extended_entities': {'media': [{'id': 892177413194625024,\n",
       "     'id_str': '892177413194625024',\n",
       "     'indices': [139, 162],\n",
       "     'media_url': 'http://pbs.twimg.com/media/DGGmoV4XsAAUL6n.jpg',\n",
       "     'media_url_https': 'https://pbs.twimg.com/media/DGGmoV4XsAAUL6n.jpg',\n",
       "     'url': 'https://t.co/0Xxu71qeIV',\n",
       "     'display_url': 'pic.twitter.com/0Xxu71qeIV',\n",
       "     'expanded_url': 'https://twitter.com/dog_rates/status/892177421306343426/photo/1',\n",
       "     'type': 'photo',\n",
       "     'sizes': {'large': {'w': 1407, 'h': 1600, 'resize': 'fit'},\n",
       "      'thumb': {'w': 150, 'h': 150, 'resize': 'crop'},\n",
       "      'small': {'w': 598, 'h': 680, 'resize': 'fit'},\n",
       "      'medium': {'w': 1055, 'h': 1200, 'resize': 'fit'}}}]},\n",
       "  'source': '<a href=\"http://twitter.com/download/iphone\" rel=\"nofollow\">Twitter for iPhone</a>',\n",
       "  'in_reply_to_status_id': None,\n",
       "  'in_reply_to_status_id_str': None,\n",
       "  'in_reply_to_user_id': None,\n",
       "  'in_reply_to_user_id_str': None,\n",
       "  'in_reply_to_screen_name': None,\n",
       "  'user': {'id': 4196983835,\n",
       "   'id_str': '4196983835',\n",
       "   'name': 'WeRateDogs™ (author)',\n",
       "   'screen_name': 'dog_rates',\n",
       "   'location': 'DM YOUR DOGS, WE WILL RATE',\n",
       "   'description': '#1 Source for Professional Dog Ratings | STORE: @ShopWeRateDogs | IG, FB & SC: WeRateDogs MOBILE APP: @GoodDogsGame | Business: dogratingtwitter@gmail.com',\n",
       "   'url': 'https://t.co/N7sNNHAEXS',\n",
       "   'entities': {'url': {'urls': [{'url': 'https://t.co/N7sNNHAEXS',\n",
       "       'expanded_url': 'http://weratedogs.com',\n",
       "       'display_url': 'weratedogs.com',\n",
       "       'indices': [0, 23]}]},\n",
       "    'description': {'urls': []}},\n",
       "   'protected': False,\n",
       "   'followers_count': 3200889,\n",
       "   'friends_count': 104,\n",
       "   'listed_count': 2784,\n",
       "   'created_at': 'Sun Nov 15 21:41:29 +0000 2015',\n",
       "   'favourites_count': 114031,\n",
       "   'utc_offset': None,\n",
       "   'time_zone': None,\n",
       "   'geo_enabled': True,\n",
       "   'verified': True,\n",
       "   'statuses_count': 5288,\n",
       "   'lang': 'en',\n",
       "   'contributors_enabled': False,\n",
       "   'is_translator': False,\n",
       "   'is_translation_enabled': False,\n",
       "   'profile_background_color': '000000',\n",
       "   'profile_background_image_url': 'http://abs.twimg.com/images/themes/theme1/bg.png',\n",
       "   'profile_background_image_url_https': 'https://abs.twimg.com/images/themes/theme1/bg.png',\n",
       "   'profile_background_tile': False,\n",
       "   'profile_image_url': 'http://pbs.twimg.com/profile_images/861415328504569856/R2xOOfwe_normal.jpg',\n",
       "   'profile_image_url_https': 'https://pbs.twimg.com/profile_images/861415328504569856/R2xOOfwe_normal.jpg',\n",
       "   'profile_banner_url': 'https://pbs.twimg.com/profile_banners/4196983835/1501129017',\n",
       "   'profile_link_color': 'F5ABB5',\n",
       "   'profile_sidebar_border_color': '000000',\n",
       "   'profile_sidebar_fill_color': '000000',\n",
       "   'profile_text_color': '000000',\n",
       "   'profile_use_background_image': False,\n",
       "   'has_extended_profile': True,\n",
       "   'default_profile': False,\n",
       "   'default_profile_image': False,\n",
       "   'following': True,\n",
       "   'follow_request_sent': False,\n",
       "   'notifications': False,\n",
       "   'translator_type': 'none'},\n",
       "  'geo': None,\n",
       "  'coordinates': None,\n",
       "  'place': None,\n",
       "  'contributors': None,\n",
       "  'is_quote_status': False,\n",
       "  'retweet_count': 6514,\n",
       "  'favorite_count': 33819,\n",
       "  'favorited': False,\n",
       "  'retweeted': False,\n",
       "  'possibly_sensitive': False,\n",
       "  'possibly_sensitive_appealable': False,\n",
       "  'lang': 'en'}]"
      ]
     },
     "execution_count": 11,
     "metadata": {},
     "output_type": "execute_result"
    }
   ],
   "source": [
    "\"\"\"\n",
    "\n",
    "References : \n",
    "\n",
    "- https://www.geeksforgeeks.org/read-json-file-using-python/\n",
    "- https://www.pythontutorial.net/python-basics/python-read-text-file/\n",
    "- https://www.freecodecamp.org/news/python-json-how-to-convert-a-string-to-json/\n",
    "\n",
    "\"\"\"\n",
    "df_list = []\n",
    "\n",
    "# Open file\n",
    "with open(tweet_json_file_path,\"r\") as file:\n",
    "    #file_content = json.load(file)\n",
    "    lines = file.readlines()\n",
    "    #print(lines[0])\n",
    "    #print(json.loads(lines[0])[\"created_at\"])\n",
    "    for line in lines:\n",
    "         df_list.append(json.loads(line))\n",
    "\n",
    "df_list[:2]"
   ]
  },
  {
   "cell_type": "code",
   "execution_count": 12,
   "metadata": {},
   "outputs": [
    {
     "data": {
      "text/html": [
       "<div>\n",
       "<style scoped>\n",
       "    .dataframe tbody tr th:only-of-type {\n",
       "        vertical-align: middle;\n",
       "    }\n",
       "\n",
       "    .dataframe tbody tr th {\n",
       "        vertical-align: top;\n",
       "    }\n",
       "\n",
       "    .dataframe thead th {\n",
       "        text-align: right;\n",
       "    }\n",
       "</style>\n",
       "<table border=\"1\" class=\"dataframe\">\n",
       "  <thead>\n",
       "    <tr style=\"text-align: right;\">\n",
       "      <th></th>\n",
       "      <th>0</th>\n",
       "      <th>1</th>\n",
       "      <th>2</th>\n",
       "    </tr>\n",
       "  </thead>\n",
       "  <tbody>\n",
       "    <tr>\n",
       "      <th>created_at</th>\n",
       "      <td>Tue Aug 01 16:23:56 +0000 2017</td>\n",
       "      <td>Tue Aug 01 00:17:27 +0000 2017</td>\n",
       "      <td>Mon Jul 31 00:18:03 +0000 2017</td>\n",
       "    </tr>\n",
       "    <tr>\n",
       "      <th>id</th>\n",
       "      <td>892420643555336193</td>\n",
       "      <td>892177421306343426</td>\n",
       "      <td>891815181378084864</td>\n",
       "    </tr>\n",
       "    <tr>\n",
       "      <th>id_str</th>\n",
       "      <td>892420643555336193</td>\n",
       "      <td>892177421306343426</td>\n",
       "      <td>891815181378084864</td>\n",
       "    </tr>\n",
       "    <tr>\n",
       "      <th>full_text</th>\n",
       "      <td>This is Phineas. He's a mystical boy. Only eve...</td>\n",
       "      <td>This is Tilly. She's just checking pup on you....</td>\n",
       "      <td>This is Archie. He is a rare Norwegian Pouncin...</td>\n",
       "    </tr>\n",
       "    <tr>\n",
       "      <th>truncated</th>\n",
       "      <td>False</td>\n",
       "      <td>False</td>\n",
       "      <td>False</td>\n",
       "    </tr>\n",
       "    <tr>\n",
       "      <th>display_text_range</th>\n",
       "      <td>[0, 85]</td>\n",
       "      <td>[0, 138]</td>\n",
       "      <td>[0, 121]</td>\n",
       "    </tr>\n",
       "    <tr>\n",
       "      <th>entities</th>\n",
       "      <td>{'hashtags': [], 'symbols': [], 'user_mentions...</td>\n",
       "      <td>{'hashtags': [], 'symbols': [], 'user_mentions...</td>\n",
       "      <td>{'hashtags': [], 'symbols': [], 'user_mentions...</td>\n",
       "    </tr>\n",
       "    <tr>\n",
       "      <th>extended_entities</th>\n",
       "      <td>{'media': [{'id': 892420639486877696, 'id_str'...</td>\n",
       "      <td>{'media': [{'id': 892177413194625024, 'id_str'...</td>\n",
       "      <td>{'media': [{'id': 891815175371796480, 'id_str'...</td>\n",
       "    </tr>\n",
       "    <tr>\n",
       "      <th>source</th>\n",
       "      <td>&lt;a href=\"http://twitter.com/download/iphone\" r...</td>\n",
       "      <td>&lt;a href=\"http://twitter.com/download/iphone\" r...</td>\n",
       "      <td>&lt;a href=\"http://twitter.com/download/iphone\" r...</td>\n",
       "    </tr>\n",
       "    <tr>\n",
       "      <th>in_reply_to_status_id</th>\n",
       "      <td>NaN</td>\n",
       "      <td>NaN</td>\n",
       "      <td>NaN</td>\n",
       "    </tr>\n",
       "    <tr>\n",
       "      <th>in_reply_to_status_id_str</th>\n",
       "      <td>None</td>\n",
       "      <td>None</td>\n",
       "      <td>None</td>\n",
       "    </tr>\n",
       "    <tr>\n",
       "      <th>in_reply_to_user_id</th>\n",
       "      <td>NaN</td>\n",
       "      <td>NaN</td>\n",
       "      <td>NaN</td>\n",
       "    </tr>\n",
       "    <tr>\n",
       "      <th>in_reply_to_user_id_str</th>\n",
       "      <td>None</td>\n",
       "      <td>None</td>\n",
       "      <td>None</td>\n",
       "    </tr>\n",
       "    <tr>\n",
       "      <th>in_reply_to_screen_name</th>\n",
       "      <td>None</td>\n",
       "      <td>None</td>\n",
       "      <td>None</td>\n",
       "    </tr>\n",
       "    <tr>\n",
       "      <th>user</th>\n",
       "      <td>{'id': 4196983835, 'id_str': '4196983835', 'na...</td>\n",
       "      <td>{'id': 4196983835, 'id_str': '4196983835', 'na...</td>\n",
       "      <td>{'id': 4196983835, 'id_str': '4196983835', 'na...</td>\n",
       "    </tr>\n",
       "    <tr>\n",
       "      <th>geo</th>\n",
       "      <td>None</td>\n",
       "      <td>None</td>\n",
       "      <td>None</td>\n",
       "    </tr>\n",
       "    <tr>\n",
       "      <th>coordinates</th>\n",
       "      <td>None</td>\n",
       "      <td>None</td>\n",
       "      <td>None</td>\n",
       "    </tr>\n",
       "    <tr>\n",
       "      <th>place</th>\n",
       "      <td>None</td>\n",
       "      <td>None</td>\n",
       "      <td>None</td>\n",
       "    </tr>\n",
       "    <tr>\n",
       "      <th>contributors</th>\n",
       "      <td>None</td>\n",
       "      <td>None</td>\n",
       "      <td>None</td>\n",
       "    </tr>\n",
       "    <tr>\n",
       "      <th>is_quote_status</th>\n",
       "      <td>False</td>\n",
       "      <td>False</td>\n",
       "      <td>False</td>\n",
       "    </tr>\n",
       "    <tr>\n",
       "      <th>retweet_count</th>\n",
       "      <td>8853</td>\n",
       "      <td>6514</td>\n",
       "      <td>4328</td>\n",
       "    </tr>\n",
       "    <tr>\n",
       "      <th>favorite_count</th>\n",
       "      <td>39467</td>\n",
       "      <td>33819</td>\n",
       "      <td>25461</td>\n",
       "    </tr>\n",
       "    <tr>\n",
       "      <th>favorited</th>\n",
       "      <td>False</td>\n",
       "      <td>False</td>\n",
       "      <td>False</td>\n",
       "    </tr>\n",
       "    <tr>\n",
       "      <th>retweeted</th>\n",
       "      <td>False</td>\n",
       "      <td>False</td>\n",
       "      <td>False</td>\n",
       "    </tr>\n",
       "    <tr>\n",
       "      <th>possibly_sensitive</th>\n",
       "      <td>False</td>\n",
       "      <td>False</td>\n",
       "      <td>False</td>\n",
       "    </tr>\n",
       "    <tr>\n",
       "      <th>possibly_sensitive_appealable</th>\n",
       "      <td>False</td>\n",
       "      <td>False</td>\n",
       "      <td>False</td>\n",
       "    </tr>\n",
       "    <tr>\n",
       "      <th>lang</th>\n",
       "      <td>en</td>\n",
       "      <td>en</td>\n",
       "      <td>en</td>\n",
       "    </tr>\n",
       "    <tr>\n",
       "      <th>retweeted_status</th>\n",
       "      <td>NaN</td>\n",
       "      <td>NaN</td>\n",
       "      <td>NaN</td>\n",
       "    </tr>\n",
       "    <tr>\n",
       "      <th>quoted_status_id</th>\n",
       "      <td>NaN</td>\n",
       "      <td>NaN</td>\n",
       "      <td>NaN</td>\n",
       "    </tr>\n",
       "    <tr>\n",
       "      <th>quoted_status_id_str</th>\n",
       "      <td>NaN</td>\n",
       "      <td>NaN</td>\n",
       "      <td>NaN</td>\n",
       "    </tr>\n",
       "    <tr>\n",
       "      <th>quoted_status</th>\n",
       "      <td>NaN</td>\n",
       "      <td>NaN</td>\n",
       "      <td>NaN</td>\n",
       "    </tr>\n",
       "  </tbody>\n",
       "</table>\n",
       "</div>"
      ],
      "text/plain": [
       "                                                                               0  \\\n",
       "created_at                                        Tue Aug 01 16:23:56 +0000 2017   \n",
       "id                                                            892420643555336193   \n",
       "id_str                                                        892420643555336193   \n",
       "full_text                      This is Phineas. He's a mystical boy. Only eve...   \n",
       "truncated                                                                  False   \n",
       "display_text_range                                                       [0, 85]   \n",
       "entities                       {'hashtags': [], 'symbols': [], 'user_mentions...   \n",
       "extended_entities              {'media': [{'id': 892420639486877696, 'id_str'...   \n",
       "source                         <a href=\"http://twitter.com/download/iphone\" r...   \n",
       "in_reply_to_status_id                                                        NaN   \n",
       "in_reply_to_status_id_str                                                   None   \n",
       "in_reply_to_user_id                                                          NaN   \n",
       "in_reply_to_user_id_str                                                     None   \n",
       "in_reply_to_screen_name                                                     None   \n",
       "user                           {'id': 4196983835, 'id_str': '4196983835', 'na...   \n",
       "geo                                                                         None   \n",
       "coordinates                                                                 None   \n",
       "place                                                                       None   \n",
       "contributors                                                                None   \n",
       "is_quote_status                                                            False   \n",
       "retweet_count                                                               8853   \n",
       "favorite_count                                                             39467   \n",
       "favorited                                                                  False   \n",
       "retweeted                                                                  False   \n",
       "possibly_sensitive                                                         False   \n",
       "possibly_sensitive_appealable                                              False   \n",
       "lang                                                                          en   \n",
       "retweeted_status                                                             NaN   \n",
       "quoted_status_id                                                             NaN   \n",
       "quoted_status_id_str                                                         NaN   \n",
       "quoted_status                                                                NaN   \n",
       "\n",
       "                                                                               1  \\\n",
       "created_at                                        Tue Aug 01 00:17:27 +0000 2017   \n",
       "id                                                            892177421306343426   \n",
       "id_str                                                        892177421306343426   \n",
       "full_text                      This is Tilly. She's just checking pup on you....   \n",
       "truncated                                                                  False   \n",
       "display_text_range                                                      [0, 138]   \n",
       "entities                       {'hashtags': [], 'symbols': [], 'user_mentions...   \n",
       "extended_entities              {'media': [{'id': 892177413194625024, 'id_str'...   \n",
       "source                         <a href=\"http://twitter.com/download/iphone\" r...   \n",
       "in_reply_to_status_id                                                        NaN   \n",
       "in_reply_to_status_id_str                                                   None   \n",
       "in_reply_to_user_id                                                          NaN   \n",
       "in_reply_to_user_id_str                                                     None   \n",
       "in_reply_to_screen_name                                                     None   \n",
       "user                           {'id': 4196983835, 'id_str': '4196983835', 'na...   \n",
       "geo                                                                         None   \n",
       "coordinates                                                                 None   \n",
       "place                                                                       None   \n",
       "contributors                                                                None   \n",
       "is_quote_status                                                            False   \n",
       "retweet_count                                                               6514   \n",
       "favorite_count                                                             33819   \n",
       "favorited                                                                  False   \n",
       "retweeted                                                                  False   \n",
       "possibly_sensitive                                                         False   \n",
       "possibly_sensitive_appealable                                              False   \n",
       "lang                                                                          en   \n",
       "retweeted_status                                                             NaN   \n",
       "quoted_status_id                                                             NaN   \n",
       "quoted_status_id_str                                                         NaN   \n",
       "quoted_status                                                                NaN   \n",
       "\n",
       "                                                                               2  \n",
       "created_at                                        Mon Jul 31 00:18:03 +0000 2017  \n",
       "id                                                            891815181378084864  \n",
       "id_str                                                        891815181378084864  \n",
       "full_text                      This is Archie. He is a rare Norwegian Pouncin...  \n",
       "truncated                                                                  False  \n",
       "display_text_range                                                      [0, 121]  \n",
       "entities                       {'hashtags': [], 'symbols': [], 'user_mentions...  \n",
       "extended_entities              {'media': [{'id': 891815175371796480, 'id_str'...  \n",
       "source                         <a href=\"http://twitter.com/download/iphone\" r...  \n",
       "in_reply_to_status_id                                                        NaN  \n",
       "in_reply_to_status_id_str                                                   None  \n",
       "in_reply_to_user_id                                                          NaN  \n",
       "in_reply_to_user_id_str                                                     None  \n",
       "in_reply_to_screen_name                                                     None  \n",
       "user                           {'id': 4196983835, 'id_str': '4196983835', 'na...  \n",
       "geo                                                                         None  \n",
       "coordinates                                                                 None  \n",
       "place                                                                       None  \n",
       "contributors                                                                None  \n",
       "is_quote_status                                                            False  \n",
       "retweet_count                                                               4328  \n",
       "favorite_count                                                             25461  \n",
       "favorited                                                                  False  \n",
       "retweeted                                                                  False  \n",
       "possibly_sensitive                                                         False  \n",
       "possibly_sensitive_appealable                                              False  \n",
       "lang                                                                          en  \n",
       "retweeted_status                                                             NaN  \n",
       "quoted_status_id                                                             NaN  \n",
       "quoted_status_id_str                                                         NaN  \n",
       "quoted_status                                                                NaN  "
      ]
     },
     "execution_count": 12,
     "metadata": {},
     "output_type": "execute_result"
    }
   ],
   "source": [
    "tweets_df = pd.DataFrame(df_list)\n",
    "tweets_df.head(3).T"
   ]
  },
  {
   "cell_type": "code",
   "execution_count": 13,
   "metadata": {
    "scrolled": true
   },
   "outputs": [],
   "source": [
    "# # Keep useful columns while discarding the others, as per the project instructions\n",
    "# tweets_df = tweets_df[ [\"id\",\"retweet_count\",\"favorite_count\",\"user\",\"retweeted\"] ]\n",
    "# tweets_df.head(3)"
   ]
  },
  {
   "cell_type": "code",
   "execution_count": null,
   "metadata": {},
   "outputs": [],
   "source": []
  },
  {
   "cell_type": "markdown",
   "metadata": {
    "extensions": {
     "jupyter_dashboards": {
      "version": 1,
      "views": {
       "grid_default": {
        "col": 4,
        "height": 4,
        "hidden": false,
        "row": 28,
        "width": 4
       },
       "report_default": {
        "hidden": false
       }
      }
     }
    }
   },
   "source": [
    "<a href=\"assessment\"> </a>\n",
    "\n",
    "## Assessing Data\n",
    "In this section, I will detect and document quality issues and tidiness issue. I will use **both** visual assessment and\n",
    "programmatic assessement to assess the data.\n",
    "\n",
    "**Note:** There are few key points to pay attention to when accessing the data.\n",
    "\n",
    "* I only want original ratings (no retweets) that have images. Though there are 5000+ tweets in the dataset, not all are dog ratings and some are retweets.\n",
    "* Assessing and cleaning the entire dataset completely would require a lot of time, and is not necessary to practice and demonstrate my skills in data wrangling. Therefore, the requirements of this project are only to assess and clean at least 8 quality issues and at least 2 tidiness issues in this dataset.\n",
    "* The fact that the rating numerators are greater than the denominators does not need to be cleaned. This [unique rating system](http://knowyourmeme.com/memes/theyre-good-dogs-brent) is a big part of the popularity of WeRateDogs.\n",
    "* I do not need to gather the tweets beyond August 1st, 2017. I can, but I won't be able to gather the image predictions for these tweets since I don't have access to the algorithm used.\n",
    "\n"
   ]
  },
  {
   "cell_type": "markdown",
   "metadata": {},
   "source": [
    " "
   ]
  },
  {
   "cell_type": "code",
   "execution_count": 14,
   "metadata": {},
   "outputs": [
    {
     "data": {
      "text/html": [
       "<div>\n",
       "<style scoped>\n",
       "    .dataframe tbody tr th:only-of-type {\n",
       "        vertical-align: middle;\n",
       "    }\n",
       "\n",
       "    .dataframe tbody tr th {\n",
       "        vertical-align: top;\n",
       "    }\n",
       "\n",
       "    .dataframe thead th {\n",
       "        text-align: right;\n",
       "    }\n",
       "</style>\n",
       "<table border=\"1\" class=\"dataframe\">\n",
       "  <thead>\n",
       "    <tr style=\"text-align: right;\">\n",
       "      <th></th>\n",
       "      <th>0</th>\n",
       "      <th>1</th>\n",
       "      <th>2</th>\n",
       "    </tr>\n",
       "  </thead>\n",
       "  <tbody>\n",
       "    <tr>\n",
       "      <th>tweet_id</th>\n",
       "      <td>892420643555336193</td>\n",
       "      <td>892177421306343426</td>\n",
       "      <td>891815181378084864</td>\n",
       "    </tr>\n",
       "    <tr>\n",
       "      <th>in_reply_to_status_id</th>\n",
       "      <td>NaN</td>\n",
       "      <td>NaN</td>\n",
       "      <td>NaN</td>\n",
       "    </tr>\n",
       "    <tr>\n",
       "      <th>in_reply_to_user_id</th>\n",
       "      <td>NaN</td>\n",
       "      <td>NaN</td>\n",
       "      <td>NaN</td>\n",
       "    </tr>\n",
       "    <tr>\n",
       "      <th>timestamp</th>\n",
       "      <td>2017-08-01 16:23:56 +0000</td>\n",
       "      <td>2017-08-01 00:17:27 +0000</td>\n",
       "      <td>2017-07-31 00:18:03 +0000</td>\n",
       "    </tr>\n",
       "    <tr>\n",
       "      <th>source</th>\n",
       "      <td>&lt;a href=\"http://twitter.com/download/iphone\" r...</td>\n",
       "      <td>&lt;a href=\"http://twitter.com/download/iphone\" r...</td>\n",
       "      <td>&lt;a href=\"http://twitter.com/download/iphone\" r...</td>\n",
       "    </tr>\n",
       "    <tr>\n",
       "      <th>text</th>\n",
       "      <td>This is Phineas. He's a mystical boy. Only eve...</td>\n",
       "      <td>This is Tilly. She's just checking pup on you....</td>\n",
       "      <td>This is Archie. He is a rare Norwegian Pouncin...</td>\n",
       "    </tr>\n",
       "    <tr>\n",
       "      <th>retweeted_status_id</th>\n",
       "      <td>NaN</td>\n",
       "      <td>NaN</td>\n",
       "      <td>NaN</td>\n",
       "    </tr>\n",
       "    <tr>\n",
       "      <th>retweeted_status_user_id</th>\n",
       "      <td>NaN</td>\n",
       "      <td>NaN</td>\n",
       "      <td>NaN</td>\n",
       "    </tr>\n",
       "    <tr>\n",
       "      <th>retweeted_status_timestamp</th>\n",
       "      <td>NaN</td>\n",
       "      <td>NaN</td>\n",
       "      <td>NaN</td>\n",
       "    </tr>\n",
       "    <tr>\n",
       "      <th>expanded_urls</th>\n",
       "      <td>https://twitter.com/dog_rates/status/892420643...</td>\n",
       "      <td>https://twitter.com/dog_rates/status/892177421...</td>\n",
       "      <td>https://twitter.com/dog_rates/status/891815181...</td>\n",
       "    </tr>\n",
       "    <tr>\n",
       "      <th>rating_numerator</th>\n",
       "      <td>13</td>\n",
       "      <td>13</td>\n",
       "      <td>12</td>\n",
       "    </tr>\n",
       "    <tr>\n",
       "      <th>rating_denominator</th>\n",
       "      <td>10</td>\n",
       "      <td>10</td>\n",
       "      <td>10</td>\n",
       "    </tr>\n",
       "    <tr>\n",
       "      <th>name</th>\n",
       "      <td>Phineas</td>\n",
       "      <td>Tilly</td>\n",
       "      <td>Archie</td>\n",
       "    </tr>\n",
       "    <tr>\n",
       "      <th>doggo</th>\n",
       "      <td>None</td>\n",
       "      <td>None</td>\n",
       "      <td>None</td>\n",
       "    </tr>\n",
       "    <tr>\n",
       "      <th>floofer</th>\n",
       "      <td>None</td>\n",
       "      <td>None</td>\n",
       "      <td>None</td>\n",
       "    </tr>\n",
       "    <tr>\n",
       "      <th>pupper</th>\n",
       "      <td>None</td>\n",
       "      <td>None</td>\n",
       "      <td>None</td>\n",
       "    </tr>\n",
       "    <tr>\n",
       "      <th>puppo</th>\n",
       "      <td>None</td>\n",
       "      <td>None</td>\n",
       "      <td>None</td>\n",
       "    </tr>\n",
       "  </tbody>\n",
       "</table>\n",
       "</div>"
      ],
      "text/plain": [
       "                                                                            0  \\\n",
       "tweet_id                                                   892420643555336193   \n",
       "in_reply_to_status_id                                                     NaN   \n",
       "in_reply_to_user_id                                                       NaN   \n",
       "timestamp                                           2017-08-01 16:23:56 +0000   \n",
       "source                      <a href=\"http://twitter.com/download/iphone\" r...   \n",
       "text                        This is Phineas. He's a mystical boy. Only eve...   \n",
       "retweeted_status_id                                                       NaN   \n",
       "retweeted_status_user_id                                                  NaN   \n",
       "retweeted_status_timestamp                                                NaN   \n",
       "expanded_urls               https://twitter.com/dog_rates/status/892420643...   \n",
       "rating_numerator                                                           13   \n",
       "rating_denominator                                                         10   \n",
       "name                                                                  Phineas   \n",
       "doggo                                                                    None   \n",
       "floofer                                                                  None   \n",
       "pupper                                                                   None   \n",
       "puppo                                                                    None   \n",
       "\n",
       "                                                                            1  \\\n",
       "tweet_id                                                   892177421306343426   \n",
       "in_reply_to_status_id                                                     NaN   \n",
       "in_reply_to_user_id                                                       NaN   \n",
       "timestamp                                           2017-08-01 00:17:27 +0000   \n",
       "source                      <a href=\"http://twitter.com/download/iphone\" r...   \n",
       "text                        This is Tilly. She's just checking pup on you....   \n",
       "retweeted_status_id                                                       NaN   \n",
       "retweeted_status_user_id                                                  NaN   \n",
       "retweeted_status_timestamp                                                NaN   \n",
       "expanded_urls               https://twitter.com/dog_rates/status/892177421...   \n",
       "rating_numerator                                                           13   \n",
       "rating_denominator                                                         10   \n",
       "name                                                                    Tilly   \n",
       "doggo                                                                    None   \n",
       "floofer                                                                  None   \n",
       "pupper                                                                   None   \n",
       "puppo                                                                    None   \n",
       "\n",
       "                                                                            2  \n",
       "tweet_id                                                   891815181378084864  \n",
       "in_reply_to_status_id                                                     NaN  \n",
       "in_reply_to_user_id                                                       NaN  \n",
       "timestamp                                           2017-07-31 00:18:03 +0000  \n",
       "source                      <a href=\"http://twitter.com/download/iphone\" r...  \n",
       "text                        This is Archie. He is a rare Norwegian Pouncin...  \n",
       "retweeted_status_id                                                       NaN  \n",
       "retweeted_status_user_id                                                  NaN  \n",
       "retweeted_status_timestamp                                                NaN  \n",
       "expanded_urls               https://twitter.com/dog_rates/status/891815181...  \n",
       "rating_numerator                                                           12  \n",
       "rating_denominator                                                         10  \n",
       "name                                                                   Archie  \n",
       "doggo                                                                    None  \n",
       "floofer                                                                  None  \n",
       "pupper                                                                   None  \n",
       "puppo                                                                    None  "
      ]
     },
     "execution_count": 14,
     "metadata": {},
     "output_type": "execute_result"
    }
   ],
   "source": [
    "# Looking at the content of twitter_archive_df\n",
    "twitter_archive_df.head(3).T"
   ]
  },
  {
   "cell_type": "markdown",
   "metadata": {},
   "source": [
    "A quick remark here is that we have dog's stages as column names, which is a tidiness issue that must be dealt with."
   ]
  },
  {
   "cell_type": "code",
   "execution_count": null,
   "metadata": {},
   "outputs": [],
   "source": []
  },
  {
   "cell_type": "code",
   "execution_count": 15,
   "metadata": {
    "scrolled": true
   },
   "outputs": [
    {
     "name": "stdout",
     "output_type": "stream",
     "text": [
      "<class 'pandas.core.frame.DataFrame'>\n",
      "RangeIndex: 2356 entries, 0 to 2355\n",
      "Data columns (total 17 columns):\n",
      " #   Column                      Non-Null Count  Dtype  \n",
      "---  ------                      --------------  -----  \n",
      " 0   tweet_id                    2356 non-null   int64  \n",
      " 1   in_reply_to_status_id       78 non-null     float64\n",
      " 2   in_reply_to_user_id         78 non-null     float64\n",
      " 3   timestamp                   2356 non-null   object \n",
      " 4   source                      2356 non-null   object \n",
      " 5   text                        2356 non-null   object \n",
      " 6   retweeted_status_id         181 non-null    float64\n",
      " 7   retweeted_status_user_id    181 non-null    float64\n",
      " 8   retweeted_status_timestamp  181 non-null    object \n",
      " 9   expanded_urls               2297 non-null   object \n",
      " 10  rating_numerator            2356 non-null   int64  \n",
      " 11  rating_denominator          2356 non-null   int64  \n",
      " 12  name                        2356 non-null   object \n",
      " 13  doggo                       2356 non-null   object \n",
      " 14  floofer                     2356 non-null   object \n",
      " 15  pupper                      2356 non-null   object \n",
      " 16  puppo                       2356 non-null   object \n",
      "dtypes: float64(4), int64(3), object(10)\n",
      "memory usage: 313.0+ KB\n"
     ]
    }
   ],
   "source": [
    "# Looking at the structure of twitter_archive_df\n",
    "twitter_archive_df.info()"
   ]
  },
  {
   "cell_type": "markdown",
   "metadata": {},
   "source": [
    "We have wrong datatype in the timestamp column, it should be of type datetime"
   ]
  },
  {
   "cell_type": "code",
   "execution_count": null,
   "metadata": {},
   "outputs": [],
   "source": []
  },
  {
   "cell_type": "code",
   "execution_count": 16,
   "metadata": {},
   "outputs": [
    {
     "data": {
      "text/plain": [
       "tweet_id                         0\n",
       "in_reply_to_status_id         2278\n",
       "in_reply_to_user_id           2278\n",
       "timestamp                        0\n",
       "source                           0\n",
       "text                             0\n",
       "retweeted_status_id           2175\n",
       "retweeted_status_user_id      2175\n",
       "retweeted_status_timestamp    2175\n",
       "expanded_urls                   59\n",
       "rating_numerator                 0\n",
       "rating_denominator               0\n",
       "name                             0\n",
       "doggo                            0\n",
       "floofer                          0\n",
       "pupper                           0\n",
       "puppo                            0\n",
       "dtype: int64"
      ]
     },
     "execution_count": 16,
     "metadata": {},
     "output_type": "execute_result"
    }
   ],
   "source": [
    "# Checking null values in twitter_archive_df\n",
    "twitter_archive_df.isnull().sum()"
   ]
  },
  {
   "cell_type": "markdown",
   "metadata": {},
   "source": [
    "* There are too much null values in many columns (compared to the total number of samples we have) : `in_reply_to_status_id, in_reply_to_user_id, retweeted_status_id, retweeted_status_user_id, retweeted_status_timestamp`.         \n",
    "* `expanded_urls` also have some null values.\n",
    "\n",
    "* The non-null value in the `retweeted_XXX` columns are marking that we we have retweet sample (we will further investivate this)"
   ]
  },
  {
   "cell_type": "code",
   "execution_count": 17,
   "metadata": {
    "scrolled": true
   },
   "outputs": [
    {
     "data": {
      "text/plain": [
       "tweet_id                         0\n",
       "in_reply_to_status_id         2278\n",
       "in_reply_to_user_id           2278\n",
       "timestamp                        0\n",
       "source                           0\n",
       "text                             0\n",
       "retweeted_status_id           2175\n",
       "retweeted_status_user_id      2175\n",
       "retweeted_status_timestamp    2175\n",
       "expanded_urls                   59\n",
       "rating_numerator                 0\n",
       "rating_denominator               0\n",
       "name                             0\n",
       "doggo                            0\n",
       "floofer                          0\n",
       "pupper                           0\n",
       "puppo                            0\n",
       "dtype: int64"
      ]
     },
     "execution_count": 17,
     "metadata": {},
     "output_type": "execute_result"
    }
   ],
   "source": [
    "# Checking NaN (not a number) values in twitter_archive_df\n",
    "twitter_archive_df.isna().sum()"
   ]
  },
  {
   "cell_type": "markdown",
   "metadata": {},
   "source": [
    "The results for NaN check are the same as the results from null check, so there is nothing suspicious to investigate."
   ]
  },
  {
   "cell_type": "code",
   "execution_count": null,
   "metadata": {},
   "outputs": [],
   "source": []
  },
  {
   "cell_type": "code",
   "execution_count": 18,
   "metadata": {},
   "outputs": [
    {
     "data": {
      "text/html": [
       "<div>\n",
       "<style scoped>\n",
       "    .dataframe tbody tr th:only-of-type {\n",
       "        vertical-align: middle;\n",
       "    }\n",
       "\n",
       "    .dataframe tbody tr th {\n",
       "        vertical-align: top;\n",
       "    }\n",
       "\n",
       "    .dataframe thead th {\n",
       "        text-align: right;\n",
       "    }\n",
       "</style>\n",
       "<table border=\"1\" class=\"dataframe\">\n",
       "  <thead>\n",
       "    <tr style=\"text-align: right;\">\n",
       "      <th></th>\n",
       "      <th>19</th>\n",
       "      <th>32</th>\n",
       "      <th>36</th>\n",
       "      <th>68</th>\n",
       "      <th>73</th>\n",
       "      <th>74</th>\n",
       "      <th>78</th>\n",
       "      <th>91</th>\n",
       "      <th>95</th>\n",
       "      <th>97</th>\n",
       "      <th>...</th>\n",
       "      <th>926</th>\n",
       "      <th>937</th>\n",
       "      <th>943</th>\n",
       "      <th>949</th>\n",
       "      <th>1012</th>\n",
       "      <th>1023</th>\n",
       "      <th>1043</th>\n",
       "      <th>1242</th>\n",
       "      <th>2259</th>\n",
       "      <th>2260</th>\n",
       "    </tr>\n",
       "  </thead>\n",
       "  <tbody>\n",
       "    <tr>\n",
       "      <th>tweet_id</th>\n",
       "      <td>888202515573088257</td>\n",
       "      <td>886054160059072513</td>\n",
       "      <td>885311592912609280</td>\n",
       "      <td>879130579576475649</td>\n",
       "      <td>878404777348136964</td>\n",
       "      <td>878316110768087041</td>\n",
       "      <td>877611172832227328</td>\n",
       "      <td>874434818259525634</td>\n",
       "      <td>873697596434513921</td>\n",
       "      <td>873337748698140672</td>\n",
       "      <td>...</td>\n",
       "      <td>754874841593970688</td>\n",
       "      <td>753298634498793472</td>\n",
       "      <td>752701944171524096</td>\n",
       "      <td>752309394570878976</td>\n",
       "      <td>747242308580548608</td>\n",
       "      <td>746521445350707200</td>\n",
       "      <td>743835915802583040</td>\n",
       "      <td>711998809858043904</td>\n",
       "      <td>667550904950915073</td>\n",
       "      <td>667550882905632768</td>\n",
       "    </tr>\n",
       "    <tr>\n",
       "      <th>in_reply_to_status_id</th>\n",
       "      <td>NaN</td>\n",
       "      <td>NaN</td>\n",
       "      <td>NaN</td>\n",
       "      <td>NaN</td>\n",
       "      <td>NaN</td>\n",
       "      <td>NaN</td>\n",
       "      <td>NaN</td>\n",
       "      <td>NaN</td>\n",
       "      <td>NaN</td>\n",
       "      <td>NaN</td>\n",
       "      <td>...</td>\n",
       "      <td>NaN</td>\n",
       "      <td>NaN</td>\n",
       "      <td>NaN</td>\n",
       "      <td>NaN</td>\n",
       "      <td>NaN</td>\n",
       "      <td>NaN</td>\n",
       "      <td>NaN</td>\n",
       "      <td>NaN</td>\n",
       "      <td>NaN</td>\n",
       "      <td>NaN</td>\n",
       "    </tr>\n",
       "    <tr>\n",
       "      <th>in_reply_to_user_id</th>\n",
       "      <td>NaN</td>\n",
       "      <td>NaN</td>\n",
       "      <td>NaN</td>\n",
       "      <td>NaN</td>\n",
       "      <td>NaN</td>\n",
       "      <td>NaN</td>\n",
       "      <td>NaN</td>\n",
       "      <td>NaN</td>\n",
       "      <td>NaN</td>\n",
       "      <td>NaN</td>\n",
       "      <td>...</td>\n",
       "      <td>NaN</td>\n",
       "      <td>NaN</td>\n",
       "      <td>NaN</td>\n",
       "      <td>NaN</td>\n",
       "      <td>NaN</td>\n",
       "      <td>NaN</td>\n",
       "      <td>NaN</td>\n",
       "      <td>NaN</td>\n",
       "      <td>NaN</td>\n",
       "      <td>NaN</td>\n",
       "    </tr>\n",
       "    <tr>\n",
       "      <th>timestamp</th>\n",
       "      <td>2017-07-21 01:02:36 +0000</td>\n",
       "      <td>2017-07-15 02:45:48 +0000</td>\n",
       "      <td>2017-07-13 01:35:06 +0000</td>\n",
       "      <td>2017-06-26 00:13:58 +0000</td>\n",
       "      <td>2017-06-24 00:09:53 +0000</td>\n",
       "      <td>2017-06-23 18:17:33 +0000</td>\n",
       "      <td>2017-06-21 19:36:23 +0000</td>\n",
       "      <td>2017-06-13 01:14:41 +0000</td>\n",
       "      <td>2017-06-11 00:25:14 +0000</td>\n",
       "      <td>2017-06-10 00:35:19 +0000</td>\n",
       "      <td>...</td>\n",
       "      <td>2016-07-18 03:06:01 +0000</td>\n",
       "      <td>2016-07-13 18:42:44 +0000</td>\n",
       "      <td>2016-07-12 03:11:42 +0000</td>\n",
       "      <td>2016-07-11 01:11:51 +0000</td>\n",
       "      <td>2016-06-27 01:37:04 +0000</td>\n",
       "      <td>2016-06-25 01:52:36 +0000</td>\n",
       "      <td>2016-06-17 16:01:16 +0000</td>\n",
       "      <td>2016-03-21 19:31:59 +0000</td>\n",
       "      <td>2015-11-20 03:51:52 +0000</td>\n",
       "      <td>2015-11-20 03:51:47 +0000</td>\n",
       "    </tr>\n",
       "    <tr>\n",
       "      <th>source</th>\n",
       "      <td>&lt;a href=\"http://twitter.com/download/iphone\" r...</td>\n",
       "      <td>&lt;a href=\"http://twitter.com/download/iphone\" r...</td>\n",
       "      <td>&lt;a href=\"http://twitter.com/download/iphone\" r...</td>\n",
       "      <td>&lt;a href=\"http://twitter.com/download/iphone\" r...</td>\n",
       "      <td>&lt;a href=\"http://twitter.com/download/iphone\" r...</td>\n",
       "      <td>&lt;a href=\"http://twitter.com/download/iphone\" r...</td>\n",
       "      <td>&lt;a href=\"http://twitter.com/download/iphone\" r...</td>\n",
       "      <td>&lt;a href=\"http://twitter.com/download/iphone\" r...</td>\n",
       "      <td>&lt;a href=\"http://twitter.com/download/iphone\" r...</td>\n",
       "      <td>&lt;a href=\"http://twitter.com/download/iphone\" r...</td>\n",
       "      <td>...</td>\n",
       "      <td>&lt;a href=\"http://twitter.com/download/iphone\" r...</td>\n",
       "      <td>&lt;a href=\"http://twitter.com/download/iphone\" r...</td>\n",
       "      <td>&lt;a href=\"http://twitter.com/download/iphone\" r...</td>\n",
       "      <td>&lt;a href=\"http://twitter.com/download/iphone\" r...</td>\n",
       "      <td>&lt;a href=\"http://twitter.com/download/iphone\" r...</td>\n",
       "      <td>&lt;a href=\"http://twitter.com/download/iphone\" r...</td>\n",
       "      <td>&lt;a href=\"http://twitter.com/download/iphone\" r...</td>\n",
       "      <td>&lt;a href=\"http://twitter.com/download/iphone\" r...</td>\n",
       "      <td>&lt;a href=\"http://twitter.com\" rel=\"nofollow\"&gt;Tw...</td>\n",
       "      <td>&lt;a href=\"http://twitter.com\" rel=\"nofollow\"&gt;Tw...</td>\n",
       "    </tr>\n",
       "    <tr>\n",
       "      <th>text</th>\n",
       "      <td>RT @dog_rates: This is Canela. She attempted s...</td>\n",
       "      <td>RT @Athletics: 12/10 #BATP https://t.co/WxwJmv...</td>\n",
       "      <td>RT @dog_rates: This is Lilly. She just paralle...</td>\n",
       "      <td>RT @dog_rates: This is Emmy. She was adopted t...</td>\n",
       "      <td>RT @dog_rates: Meet Shadow. In an attempt to r...</td>\n",
       "      <td>RT @dog_rates: Meet Terrance. He's being yelle...</td>\n",
       "      <td>RT @rachel2195: @dog_rates the boyfriend and h...</td>\n",
       "      <td>RT @dog_rates: This is Coco. At first I though...</td>\n",
       "      <td>RT @dog_rates: This is Walter. He won't start ...</td>\n",
       "      <td>RT @dog_rates: This is Sierra. She's one preci...</td>\n",
       "      <td>...</td>\n",
       "      <td>RT @dog_rates: This is Rubio. He has too much ...</td>\n",
       "      <td>RT @dog_rates: This is Carly. She's actually 2...</td>\n",
       "      <td>RT @dog_rates: HEY PUP WHAT'S THE PART OF THE ...</td>\n",
       "      <td>RT @dog_rates: Everyone needs to watch this. 1...</td>\n",
       "      <td>RT @dog_rates: This pupper killed this great w...</td>\n",
       "      <td>RT @dog_rates: This is Shaggy. He knows exactl...</td>\n",
       "      <td>RT @dog_rates: Extremely intelligent dog here....</td>\n",
       "      <td>RT @twitter: @dog_rates Awesome Tweet! 12/10. ...</td>\n",
       "      <td>RT @dogratingrating: Exceptional talent. Origi...</td>\n",
       "      <td>RT @dogratingrating: Unoriginal idea. Blatant ...</td>\n",
       "    </tr>\n",
       "    <tr>\n",
       "      <th>retweeted_status_id</th>\n",
       "      <td>887473957103951872.0</td>\n",
       "      <td>886053734421102592.0</td>\n",
       "      <td>830583320585068544.0</td>\n",
       "      <td>878057613040115712.0</td>\n",
       "      <td>878281511006478336.0</td>\n",
       "      <td>669000397445533696.0</td>\n",
       "      <td>876850772322988032.0</td>\n",
       "      <td>866334964761202688.0</td>\n",
       "      <td>868880397819494400.0</td>\n",
       "      <td>873213775632977920.0</td>\n",
       "      <td>...</td>\n",
       "      <td>679158373988876288.0</td>\n",
       "      <td>681523177663676416.0</td>\n",
       "      <td>683515932363329536.0</td>\n",
       "      <td>675354435921575936.0</td>\n",
       "      <td>704761120771465216.0</td>\n",
       "      <td>667866724293877760.0</td>\n",
       "      <td>667138269671505920.0</td>\n",
       "      <td>711998279773347840.0</td>\n",
       "      <td>667548695664070656.0</td>\n",
       "      <td>667548415174144000.0</td>\n",
       "    </tr>\n",
       "    <tr>\n",
       "      <th>retweeted_status_user_id</th>\n",
       "      <td>4196983835.0</td>\n",
       "      <td>19607400.0</td>\n",
       "      <td>4196983835.0</td>\n",
       "      <td>4196983835.0</td>\n",
       "      <td>4196983835.0</td>\n",
       "      <td>4196983835.0</td>\n",
       "      <td>512804507.0</td>\n",
       "      <td>4196983835.0</td>\n",
       "      <td>4196983835.0</td>\n",
       "      <td>4196983835.0</td>\n",
       "      <td>...</td>\n",
       "      <td>4196983835.0</td>\n",
       "      <td>4196983835.0</td>\n",
       "      <td>4196983835.0</td>\n",
       "      <td>4196983835.0</td>\n",
       "      <td>4196983835.0</td>\n",
       "      <td>4196983835.0</td>\n",
       "      <td>4196983835.0</td>\n",
       "      <td>783214.0</td>\n",
       "      <td>4296831739.0</td>\n",
       "      <td>4296831739.0</td>\n",
       "    </tr>\n",
       "    <tr>\n",
       "      <th>retweeted_status_timestamp</th>\n",
       "      <td>2017-07-19 00:47:34 +0000</td>\n",
       "      <td>2017-07-15 02:44:07 +0000</td>\n",
       "      <td>2017-02-12 01:04:29 +0000</td>\n",
       "      <td>2017-06-23 01:10:23 +0000</td>\n",
       "      <td>2017-06-23 16:00:04 +0000</td>\n",
       "      <td>2015-11-24 03:51:38 +0000</td>\n",
       "      <td>2017-06-19 17:14:49 +0000</td>\n",
       "      <td>2017-05-21 16:48:45 +0000</td>\n",
       "      <td>2017-05-28 17:23:24 +0000</td>\n",
       "      <td>2017-06-09 16:22:42 +0000</td>\n",
       "      <td>...</td>\n",
       "      <td>2015-12-22 04:35:49 +0000</td>\n",
       "      <td>2015-12-28 17:12:42 +0000</td>\n",
       "      <td>2016-01-03 05:11:12 +0000</td>\n",
       "      <td>2015-12-11 16:40:19 +0000</td>\n",
       "      <td>2016-03-01 20:11:59 +0000</td>\n",
       "      <td>2015-11-21 00:46:50 +0000</td>\n",
       "      <td>2015-11-19 00:32:12 +0000</td>\n",
       "      <td>2016-03-21 19:29:52 +0000</td>\n",
       "      <td>2015-11-20 03:43:06 +0000</td>\n",
       "      <td>2015-11-20 03:41:59 +0000</td>\n",
       "    </tr>\n",
       "    <tr>\n",
       "      <th>expanded_urls</th>\n",
       "      <td>https://twitter.com/dog_rates/status/887473957...</td>\n",
       "      <td>https://twitter.com/dog_rates/status/886053434...</td>\n",
       "      <td>https://twitter.com/dog_rates/status/830583320...</td>\n",
       "      <td>https://twitter.com/dog_rates/status/878057613...</td>\n",
       "      <td>https://www.gofundme.com/3yd6y1c,https://twitt...</td>\n",
       "      <td>https://twitter.com/dog_rates/status/669000397...</td>\n",
       "      <td>https://twitter.com/rachel2195/status/87685077...</td>\n",
       "      <td>https://twitter.com/dog_rates/status/866334964...</td>\n",
       "      <td>https://twitter.com/dog_rates/status/868880397...</td>\n",
       "      <td>https://www.gofundme.com/help-my-baby-sierra-g...</td>\n",
       "      <td>...</td>\n",
       "      <td>https://twitter.com/dog_rates/status/679158373...</td>\n",
       "      <td>https://twitter.com/dog_rates/status/681523177...</td>\n",
       "      <td>https://vine.co/v/ibvnzrauFuV,https://vine.co/...</td>\n",
       "      <td>https://twitter.com/dog_rates/status/675354435...</td>\n",
       "      <td>https://twitter.com/dog_rates/status/704761120...</td>\n",
       "      <td>https://twitter.com/dog_rates/status/667866724...</td>\n",
       "      <td>https://twitter.com/dog_rates/status/667138269...</td>\n",
       "      <td>https://twitter.com/twitter/status/71199827977...</td>\n",
       "      <td>https://twitter.com/dogratingrating/status/667...</td>\n",
       "      <td>https://twitter.com/dogratingrating/status/667...</td>\n",
       "    </tr>\n",
       "    <tr>\n",
       "      <th>rating_numerator</th>\n",
       "      <td>13</td>\n",
       "      <td>12</td>\n",
       "      <td>13</td>\n",
       "      <td>14</td>\n",
       "      <td>13</td>\n",
       "      <td>11</td>\n",
       "      <td>14</td>\n",
       "      <td>12</td>\n",
       "      <td>14</td>\n",
       "      <td>12</td>\n",
       "      <td>...</td>\n",
       "      <td>11</td>\n",
       "      <td>12</td>\n",
       "      <td>11</td>\n",
       "      <td>13</td>\n",
       "      <td>13</td>\n",
       "      <td>10</td>\n",
       "      <td>10</td>\n",
       "      <td>12</td>\n",
       "      <td>12</td>\n",
       "      <td>5</td>\n",
       "    </tr>\n",
       "    <tr>\n",
       "      <th>rating_denominator</th>\n",
       "      <td>10</td>\n",
       "      <td>10</td>\n",
       "      <td>10</td>\n",
       "      <td>10</td>\n",
       "      <td>10</td>\n",
       "      <td>10</td>\n",
       "      <td>10</td>\n",
       "      <td>10</td>\n",
       "      <td>10</td>\n",
       "      <td>10</td>\n",
       "      <td>...</td>\n",
       "      <td>10</td>\n",
       "      <td>10</td>\n",
       "      <td>10</td>\n",
       "      <td>10</td>\n",
       "      <td>10</td>\n",
       "      <td>10</td>\n",
       "      <td>10</td>\n",
       "      <td>10</td>\n",
       "      <td>10</td>\n",
       "      <td>10</td>\n",
       "    </tr>\n",
       "    <tr>\n",
       "      <th>name</th>\n",
       "      <td>Canela</td>\n",
       "      <td>None</td>\n",
       "      <td>Lilly</td>\n",
       "      <td>Emmy</td>\n",
       "      <td>Shadow</td>\n",
       "      <td>Terrance</td>\n",
       "      <td>None</td>\n",
       "      <td>Coco</td>\n",
       "      <td>Walter</td>\n",
       "      <td>Sierra</td>\n",
       "      <td>...</td>\n",
       "      <td>Rubio</td>\n",
       "      <td>Carly</td>\n",
       "      <td>None</td>\n",
       "      <td>None</td>\n",
       "      <td>None</td>\n",
       "      <td>Shaggy</td>\n",
       "      <td>None</td>\n",
       "      <td>None</td>\n",
       "      <td>None</td>\n",
       "      <td>None</td>\n",
       "    </tr>\n",
       "    <tr>\n",
       "      <th>doggo</th>\n",
       "      <td>None</td>\n",
       "      <td>None</td>\n",
       "      <td>None</td>\n",
       "      <td>None</td>\n",
       "      <td>None</td>\n",
       "      <td>None</td>\n",
       "      <td>None</td>\n",
       "      <td>None</td>\n",
       "      <td>None</td>\n",
       "      <td>None</td>\n",
       "      <td>...</td>\n",
       "      <td>None</td>\n",
       "      <td>None</td>\n",
       "      <td>None</td>\n",
       "      <td>None</td>\n",
       "      <td>None</td>\n",
       "      <td>None</td>\n",
       "      <td>None</td>\n",
       "      <td>None</td>\n",
       "      <td>None</td>\n",
       "      <td>None</td>\n",
       "    </tr>\n",
       "    <tr>\n",
       "      <th>floofer</th>\n",
       "      <td>None</td>\n",
       "      <td>None</td>\n",
       "      <td>None</td>\n",
       "      <td>None</td>\n",
       "      <td>None</td>\n",
       "      <td>None</td>\n",
       "      <td>None</td>\n",
       "      <td>None</td>\n",
       "      <td>None</td>\n",
       "      <td>None</td>\n",
       "      <td>...</td>\n",
       "      <td>None</td>\n",
       "      <td>None</td>\n",
       "      <td>None</td>\n",
       "      <td>None</td>\n",
       "      <td>None</td>\n",
       "      <td>None</td>\n",
       "      <td>None</td>\n",
       "      <td>None</td>\n",
       "      <td>None</td>\n",
       "      <td>None</td>\n",
       "    </tr>\n",
       "    <tr>\n",
       "      <th>pupper</th>\n",
       "      <td>None</td>\n",
       "      <td>None</td>\n",
       "      <td>None</td>\n",
       "      <td>None</td>\n",
       "      <td>None</td>\n",
       "      <td>None</td>\n",
       "      <td>pupper</td>\n",
       "      <td>None</td>\n",
       "      <td>None</td>\n",
       "      <td>pupper</td>\n",
       "      <td>...</td>\n",
       "      <td>None</td>\n",
       "      <td>None</td>\n",
       "      <td>None</td>\n",
       "      <td>None</td>\n",
       "      <td>pupper</td>\n",
       "      <td>None</td>\n",
       "      <td>None</td>\n",
       "      <td>None</td>\n",
       "      <td>None</td>\n",
       "      <td>None</td>\n",
       "    </tr>\n",
       "    <tr>\n",
       "      <th>puppo</th>\n",
       "      <td>None</td>\n",
       "      <td>None</td>\n",
       "      <td>None</td>\n",
       "      <td>None</td>\n",
       "      <td>None</td>\n",
       "      <td>None</td>\n",
       "      <td>None</td>\n",
       "      <td>None</td>\n",
       "      <td>None</td>\n",
       "      <td>None</td>\n",
       "      <td>...</td>\n",
       "      <td>None</td>\n",
       "      <td>None</td>\n",
       "      <td>None</td>\n",
       "      <td>None</td>\n",
       "      <td>None</td>\n",
       "      <td>None</td>\n",
       "      <td>None</td>\n",
       "      <td>None</td>\n",
       "      <td>None</td>\n",
       "      <td>None</td>\n",
       "    </tr>\n",
       "  </tbody>\n",
       "</table>\n",
       "<p>17 rows × 181 columns</p>\n",
       "</div>"
      ],
      "text/plain": [
       "                                                                         19    \\\n",
       "tweet_id                                                   888202515573088257   \n",
       "in_reply_to_status_id                                                     NaN   \n",
       "in_reply_to_user_id                                                       NaN   \n",
       "timestamp                                           2017-07-21 01:02:36 +0000   \n",
       "source                      <a href=\"http://twitter.com/download/iphone\" r...   \n",
       "text                        RT @dog_rates: This is Canela. She attempted s...   \n",
       "retweeted_status_id                                      887473957103951872.0   \n",
       "retweeted_status_user_id                                         4196983835.0   \n",
       "retweeted_status_timestamp                          2017-07-19 00:47:34 +0000   \n",
       "expanded_urls               https://twitter.com/dog_rates/status/887473957...   \n",
       "rating_numerator                                                           13   \n",
       "rating_denominator                                                         10   \n",
       "name                                                                   Canela   \n",
       "doggo                                                                    None   \n",
       "floofer                                                                  None   \n",
       "pupper                                                                   None   \n",
       "puppo                                                                    None   \n",
       "\n",
       "                                                                         32    \\\n",
       "tweet_id                                                   886054160059072513   \n",
       "in_reply_to_status_id                                                     NaN   \n",
       "in_reply_to_user_id                                                       NaN   \n",
       "timestamp                                           2017-07-15 02:45:48 +0000   \n",
       "source                      <a href=\"http://twitter.com/download/iphone\" r...   \n",
       "text                        RT @Athletics: 12/10 #BATP https://t.co/WxwJmv...   \n",
       "retweeted_status_id                                      886053734421102592.0   \n",
       "retweeted_status_user_id                                           19607400.0   \n",
       "retweeted_status_timestamp                          2017-07-15 02:44:07 +0000   \n",
       "expanded_urls               https://twitter.com/dog_rates/status/886053434...   \n",
       "rating_numerator                                                           12   \n",
       "rating_denominator                                                         10   \n",
       "name                                                                     None   \n",
       "doggo                                                                    None   \n",
       "floofer                                                                  None   \n",
       "pupper                                                                   None   \n",
       "puppo                                                                    None   \n",
       "\n",
       "                                                                         36    \\\n",
       "tweet_id                                                   885311592912609280   \n",
       "in_reply_to_status_id                                                     NaN   \n",
       "in_reply_to_user_id                                                       NaN   \n",
       "timestamp                                           2017-07-13 01:35:06 +0000   \n",
       "source                      <a href=\"http://twitter.com/download/iphone\" r...   \n",
       "text                        RT @dog_rates: This is Lilly. She just paralle...   \n",
       "retweeted_status_id                                      830583320585068544.0   \n",
       "retweeted_status_user_id                                         4196983835.0   \n",
       "retweeted_status_timestamp                          2017-02-12 01:04:29 +0000   \n",
       "expanded_urls               https://twitter.com/dog_rates/status/830583320...   \n",
       "rating_numerator                                                           13   \n",
       "rating_denominator                                                         10   \n",
       "name                                                                    Lilly   \n",
       "doggo                                                                    None   \n",
       "floofer                                                                  None   \n",
       "pupper                                                                   None   \n",
       "puppo                                                                    None   \n",
       "\n",
       "                                                                         68    \\\n",
       "tweet_id                                                   879130579576475649   \n",
       "in_reply_to_status_id                                                     NaN   \n",
       "in_reply_to_user_id                                                       NaN   \n",
       "timestamp                                           2017-06-26 00:13:58 +0000   \n",
       "source                      <a href=\"http://twitter.com/download/iphone\" r...   \n",
       "text                        RT @dog_rates: This is Emmy. She was adopted t...   \n",
       "retweeted_status_id                                      878057613040115712.0   \n",
       "retweeted_status_user_id                                         4196983835.0   \n",
       "retweeted_status_timestamp                          2017-06-23 01:10:23 +0000   \n",
       "expanded_urls               https://twitter.com/dog_rates/status/878057613...   \n",
       "rating_numerator                                                           14   \n",
       "rating_denominator                                                         10   \n",
       "name                                                                     Emmy   \n",
       "doggo                                                                    None   \n",
       "floofer                                                                  None   \n",
       "pupper                                                                   None   \n",
       "puppo                                                                    None   \n",
       "\n",
       "                                                                         73    \\\n",
       "tweet_id                                                   878404777348136964   \n",
       "in_reply_to_status_id                                                     NaN   \n",
       "in_reply_to_user_id                                                       NaN   \n",
       "timestamp                                           2017-06-24 00:09:53 +0000   \n",
       "source                      <a href=\"http://twitter.com/download/iphone\" r...   \n",
       "text                        RT @dog_rates: Meet Shadow. In an attempt to r...   \n",
       "retweeted_status_id                                      878281511006478336.0   \n",
       "retweeted_status_user_id                                         4196983835.0   \n",
       "retweeted_status_timestamp                          2017-06-23 16:00:04 +0000   \n",
       "expanded_urls               https://www.gofundme.com/3yd6y1c,https://twitt...   \n",
       "rating_numerator                                                           13   \n",
       "rating_denominator                                                         10   \n",
       "name                                                                   Shadow   \n",
       "doggo                                                                    None   \n",
       "floofer                                                                  None   \n",
       "pupper                                                                   None   \n",
       "puppo                                                                    None   \n",
       "\n",
       "                                                                         74    \\\n",
       "tweet_id                                                   878316110768087041   \n",
       "in_reply_to_status_id                                                     NaN   \n",
       "in_reply_to_user_id                                                       NaN   \n",
       "timestamp                                           2017-06-23 18:17:33 +0000   \n",
       "source                      <a href=\"http://twitter.com/download/iphone\" r...   \n",
       "text                        RT @dog_rates: Meet Terrance. He's being yelle...   \n",
       "retweeted_status_id                                      669000397445533696.0   \n",
       "retweeted_status_user_id                                         4196983835.0   \n",
       "retweeted_status_timestamp                          2015-11-24 03:51:38 +0000   \n",
       "expanded_urls               https://twitter.com/dog_rates/status/669000397...   \n",
       "rating_numerator                                                           11   \n",
       "rating_denominator                                                         10   \n",
       "name                                                                 Terrance   \n",
       "doggo                                                                    None   \n",
       "floofer                                                                  None   \n",
       "pupper                                                                   None   \n",
       "puppo                                                                    None   \n",
       "\n",
       "                                                                         78    \\\n",
       "tweet_id                                                   877611172832227328   \n",
       "in_reply_to_status_id                                                     NaN   \n",
       "in_reply_to_user_id                                                       NaN   \n",
       "timestamp                                           2017-06-21 19:36:23 +0000   \n",
       "source                      <a href=\"http://twitter.com/download/iphone\" r...   \n",
       "text                        RT @rachel2195: @dog_rates the boyfriend and h...   \n",
       "retweeted_status_id                                      876850772322988032.0   \n",
       "retweeted_status_user_id                                          512804507.0   \n",
       "retweeted_status_timestamp                          2017-06-19 17:14:49 +0000   \n",
       "expanded_urls               https://twitter.com/rachel2195/status/87685077...   \n",
       "rating_numerator                                                           14   \n",
       "rating_denominator                                                         10   \n",
       "name                                                                     None   \n",
       "doggo                                                                    None   \n",
       "floofer                                                                  None   \n",
       "pupper                                                                 pupper   \n",
       "puppo                                                                    None   \n",
       "\n",
       "                                                                         91    \\\n",
       "tweet_id                                                   874434818259525634   \n",
       "in_reply_to_status_id                                                     NaN   \n",
       "in_reply_to_user_id                                                       NaN   \n",
       "timestamp                                           2017-06-13 01:14:41 +0000   \n",
       "source                      <a href=\"http://twitter.com/download/iphone\" r...   \n",
       "text                        RT @dog_rates: This is Coco. At first I though...   \n",
       "retweeted_status_id                                      866334964761202688.0   \n",
       "retweeted_status_user_id                                         4196983835.0   \n",
       "retweeted_status_timestamp                          2017-05-21 16:48:45 +0000   \n",
       "expanded_urls               https://twitter.com/dog_rates/status/866334964...   \n",
       "rating_numerator                                                           12   \n",
       "rating_denominator                                                         10   \n",
       "name                                                                     Coco   \n",
       "doggo                                                                    None   \n",
       "floofer                                                                  None   \n",
       "pupper                                                                   None   \n",
       "puppo                                                                    None   \n",
       "\n",
       "                                                                         95    \\\n",
       "tweet_id                                                   873697596434513921   \n",
       "in_reply_to_status_id                                                     NaN   \n",
       "in_reply_to_user_id                                                       NaN   \n",
       "timestamp                                           2017-06-11 00:25:14 +0000   \n",
       "source                      <a href=\"http://twitter.com/download/iphone\" r...   \n",
       "text                        RT @dog_rates: This is Walter. He won't start ...   \n",
       "retweeted_status_id                                      868880397819494400.0   \n",
       "retweeted_status_user_id                                         4196983835.0   \n",
       "retweeted_status_timestamp                          2017-05-28 17:23:24 +0000   \n",
       "expanded_urls               https://twitter.com/dog_rates/status/868880397...   \n",
       "rating_numerator                                                           14   \n",
       "rating_denominator                                                         10   \n",
       "name                                                                   Walter   \n",
       "doggo                                                                    None   \n",
       "floofer                                                                  None   \n",
       "pupper                                                                   None   \n",
       "puppo                                                                    None   \n",
       "\n",
       "                                                                         97    \\\n",
       "tweet_id                                                   873337748698140672   \n",
       "in_reply_to_status_id                                                     NaN   \n",
       "in_reply_to_user_id                                                       NaN   \n",
       "timestamp                                           2017-06-10 00:35:19 +0000   \n",
       "source                      <a href=\"http://twitter.com/download/iphone\" r...   \n",
       "text                        RT @dog_rates: This is Sierra. She's one preci...   \n",
       "retweeted_status_id                                      873213775632977920.0   \n",
       "retweeted_status_user_id                                         4196983835.0   \n",
       "retweeted_status_timestamp                          2017-06-09 16:22:42 +0000   \n",
       "expanded_urls               https://www.gofundme.com/help-my-baby-sierra-g...   \n",
       "rating_numerator                                                           12   \n",
       "rating_denominator                                                         10   \n",
       "name                                                                   Sierra   \n",
       "doggo                                                                    None   \n",
       "floofer                                                                  None   \n",
       "pupper                                                                 pupper   \n",
       "puppo                                                                    None   \n",
       "\n",
       "                            ...  \\\n",
       "tweet_id                    ...   \n",
       "in_reply_to_status_id       ...   \n",
       "in_reply_to_user_id         ...   \n",
       "timestamp                   ...   \n",
       "source                      ...   \n",
       "text                        ...   \n",
       "retweeted_status_id         ...   \n",
       "retweeted_status_user_id    ...   \n",
       "retweeted_status_timestamp  ...   \n",
       "expanded_urls               ...   \n",
       "rating_numerator            ...   \n",
       "rating_denominator          ...   \n",
       "name                        ...   \n",
       "doggo                       ...   \n",
       "floofer                     ...   \n",
       "pupper                      ...   \n",
       "puppo                       ...   \n",
       "\n",
       "                                                                         926   \\\n",
       "tweet_id                                                   754874841593970688   \n",
       "in_reply_to_status_id                                                     NaN   \n",
       "in_reply_to_user_id                                                       NaN   \n",
       "timestamp                                           2016-07-18 03:06:01 +0000   \n",
       "source                      <a href=\"http://twitter.com/download/iphone\" r...   \n",
       "text                        RT @dog_rates: This is Rubio. He has too much ...   \n",
       "retweeted_status_id                                      679158373988876288.0   \n",
       "retweeted_status_user_id                                         4196983835.0   \n",
       "retweeted_status_timestamp                          2015-12-22 04:35:49 +0000   \n",
       "expanded_urls               https://twitter.com/dog_rates/status/679158373...   \n",
       "rating_numerator                                                           11   \n",
       "rating_denominator                                                         10   \n",
       "name                                                                    Rubio   \n",
       "doggo                                                                    None   \n",
       "floofer                                                                  None   \n",
       "pupper                                                                   None   \n",
       "puppo                                                                    None   \n",
       "\n",
       "                                                                         937   \\\n",
       "tweet_id                                                   753298634498793472   \n",
       "in_reply_to_status_id                                                     NaN   \n",
       "in_reply_to_user_id                                                       NaN   \n",
       "timestamp                                           2016-07-13 18:42:44 +0000   \n",
       "source                      <a href=\"http://twitter.com/download/iphone\" r...   \n",
       "text                        RT @dog_rates: This is Carly. She's actually 2...   \n",
       "retweeted_status_id                                      681523177663676416.0   \n",
       "retweeted_status_user_id                                         4196983835.0   \n",
       "retweeted_status_timestamp                          2015-12-28 17:12:42 +0000   \n",
       "expanded_urls               https://twitter.com/dog_rates/status/681523177...   \n",
       "rating_numerator                                                           12   \n",
       "rating_denominator                                                         10   \n",
       "name                                                                    Carly   \n",
       "doggo                                                                    None   \n",
       "floofer                                                                  None   \n",
       "pupper                                                                   None   \n",
       "puppo                                                                    None   \n",
       "\n",
       "                                                                         943   \\\n",
       "tweet_id                                                   752701944171524096   \n",
       "in_reply_to_status_id                                                     NaN   \n",
       "in_reply_to_user_id                                                       NaN   \n",
       "timestamp                                           2016-07-12 03:11:42 +0000   \n",
       "source                      <a href=\"http://twitter.com/download/iphone\" r...   \n",
       "text                        RT @dog_rates: HEY PUP WHAT'S THE PART OF THE ...   \n",
       "retweeted_status_id                                      683515932363329536.0   \n",
       "retweeted_status_user_id                                         4196983835.0   \n",
       "retweeted_status_timestamp                          2016-01-03 05:11:12 +0000   \n",
       "expanded_urls               https://vine.co/v/ibvnzrauFuV,https://vine.co/...   \n",
       "rating_numerator                                                           11   \n",
       "rating_denominator                                                         10   \n",
       "name                                                                     None   \n",
       "doggo                                                                    None   \n",
       "floofer                                                                  None   \n",
       "pupper                                                                   None   \n",
       "puppo                                                                    None   \n",
       "\n",
       "                                                                         949   \\\n",
       "tweet_id                                                   752309394570878976   \n",
       "in_reply_to_status_id                                                     NaN   \n",
       "in_reply_to_user_id                                                       NaN   \n",
       "timestamp                                           2016-07-11 01:11:51 +0000   \n",
       "source                      <a href=\"http://twitter.com/download/iphone\" r...   \n",
       "text                        RT @dog_rates: Everyone needs to watch this. 1...   \n",
       "retweeted_status_id                                      675354435921575936.0   \n",
       "retweeted_status_user_id                                         4196983835.0   \n",
       "retweeted_status_timestamp                          2015-12-11 16:40:19 +0000   \n",
       "expanded_urls               https://twitter.com/dog_rates/status/675354435...   \n",
       "rating_numerator                                                           13   \n",
       "rating_denominator                                                         10   \n",
       "name                                                                     None   \n",
       "doggo                                                                    None   \n",
       "floofer                                                                  None   \n",
       "pupper                                                                   None   \n",
       "puppo                                                                    None   \n",
       "\n",
       "                                                                         1012  \\\n",
       "tweet_id                                                   747242308580548608   \n",
       "in_reply_to_status_id                                                     NaN   \n",
       "in_reply_to_user_id                                                       NaN   \n",
       "timestamp                                           2016-06-27 01:37:04 +0000   \n",
       "source                      <a href=\"http://twitter.com/download/iphone\" r...   \n",
       "text                        RT @dog_rates: This pupper killed this great w...   \n",
       "retweeted_status_id                                      704761120771465216.0   \n",
       "retweeted_status_user_id                                         4196983835.0   \n",
       "retweeted_status_timestamp                          2016-03-01 20:11:59 +0000   \n",
       "expanded_urls               https://twitter.com/dog_rates/status/704761120...   \n",
       "rating_numerator                                                           13   \n",
       "rating_denominator                                                         10   \n",
       "name                                                                     None   \n",
       "doggo                                                                    None   \n",
       "floofer                                                                  None   \n",
       "pupper                                                                 pupper   \n",
       "puppo                                                                    None   \n",
       "\n",
       "                                                                         1023  \\\n",
       "tweet_id                                                   746521445350707200   \n",
       "in_reply_to_status_id                                                     NaN   \n",
       "in_reply_to_user_id                                                       NaN   \n",
       "timestamp                                           2016-06-25 01:52:36 +0000   \n",
       "source                      <a href=\"http://twitter.com/download/iphone\" r...   \n",
       "text                        RT @dog_rates: This is Shaggy. He knows exactl...   \n",
       "retweeted_status_id                                      667866724293877760.0   \n",
       "retweeted_status_user_id                                         4196983835.0   \n",
       "retweeted_status_timestamp                          2015-11-21 00:46:50 +0000   \n",
       "expanded_urls               https://twitter.com/dog_rates/status/667866724...   \n",
       "rating_numerator                                                           10   \n",
       "rating_denominator                                                         10   \n",
       "name                                                                   Shaggy   \n",
       "doggo                                                                    None   \n",
       "floofer                                                                  None   \n",
       "pupper                                                                   None   \n",
       "puppo                                                                    None   \n",
       "\n",
       "                                                                         1043  \\\n",
       "tweet_id                                                   743835915802583040   \n",
       "in_reply_to_status_id                                                     NaN   \n",
       "in_reply_to_user_id                                                       NaN   \n",
       "timestamp                                           2016-06-17 16:01:16 +0000   \n",
       "source                      <a href=\"http://twitter.com/download/iphone\" r...   \n",
       "text                        RT @dog_rates: Extremely intelligent dog here....   \n",
       "retweeted_status_id                                      667138269671505920.0   \n",
       "retweeted_status_user_id                                         4196983835.0   \n",
       "retweeted_status_timestamp                          2015-11-19 00:32:12 +0000   \n",
       "expanded_urls               https://twitter.com/dog_rates/status/667138269...   \n",
       "rating_numerator                                                           10   \n",
       "rating_denominator                                                         10   \n",
       "name                                                                     None   \n",
       "doggo                                                                    None   \n",
       "floofer                                                                  None   \n",
       "pupper                                                                   None   \n",
       "puppo                                                                    None   \n",
       "\n",
       "                                                                         1242  \\\n",
       "tweet_id                                                   711998809858043904   \n",
       "in_reply_to_status_id                                                     NaN   \n",
       "in_reply_to_user_id                                                       NaN   \n",
       "timestamp                                           2016-03-21 19:31:59 +0000   \n",
       "source                      <a href=\"http://twitter.com/download/iphone\" r...   \n",
       "text                        RT @twitter: @dog_rates Awesome Tweet! 12/10. ...   \n",
       "retweeted_status_id                                      711998279773347840.0   \n",
       "retweeted_status_user_id                                             783214.0   \n",
       "retweeted_status_timestamp                          2016-03-21 19:29:52 +0000   \n",
       "expanded_urls               https://twitter.com/twitter/status/71199827977...   \n",
       "rating_numerator                                                           12   \n",
       "rating_denominator                                                         10   \n",
       "name                                                                     None   \n",
       "doggo                                                                    None   \n",
       "floofer                                                                  None   \n",
       "pupper                                                                   None   \n",
       "puppo                                                                    None   \n",
       "\n",
       "                                                                         2259  \\\n",
       "tweet_id                                                   667550904950915073   \n",
       "in_reply_to_status_id                                                     NaN   \n",
       "in_reply_to_user_id                                                       NaN   \n",
       "timestamp                                           2015-11-20 03:51:52 +0000   \n",
       "source                      <a href=\"http://twitter.com\" rel=\"nofollow\">Tw...   \n",
       "text                        RT @dogratingrating: Exceptional talent. Origi...   \n",
       "retweeted_status_id                                      667548695664070656.0   \n",
       "retweeted_status_user_id                                         4296831739.0   \n",
       "retweeted_status_timestamp                          2015-11-20 03:43:06 +0000   \n",
       "expanded_urls               https://twitter.com/dogratingrating/status/667...   \n",
       "rating_numerator                                                           12   \n",
       "rating_denominator                                                         10   \n",
       "name                                                                     None   \n",
       "doggo                                                                    None   \n",
       "floofer                                                                  None   \n",
       "pupper                                                                   None   \n",
       "puppo                                                                    None   \n",
       "\n",
       "                                                                         2260  \n",
       "tweet_id                                                   667550882905632768  \n",
       "in_reply_to_status_id                                                     NaN  \n",
       "in_reply_to_user_id                                                       NaN  \n",
       "timestamp                                           2015-11-20 03:51:47 +0000  \n",
       "source                      <a href=\"http://twitter.com\" rel=\"nofollow\">Tw...  \n",
       "text                        RT @dogratingrating: Unoriginal idea. Blatant ...  \n",
       "retweeted_status_id                                      667548415174144000.0  \n",
       "retweeted_status_user_id                                         4296831739.0  \n",
       "retweeted_status_timestamp                          2015-11-20 03:41:59 +0000  \n",
       "expanded_urls               https://twitter.com/dogratingrating/status/667...  \n",
       "rating_numerator                                                            5  \n",
       "rating_denominator                                                         10  \n",
       "name                                                                     None  \n",
       "doggo                                                                    None  \n",
       "floofer                                                                  None  \n",
       "pupper                                                                   None  \n",
       "puppo                                                                    None  \n",
       "\n",
       "[17 rows x 181 columns]"
      ]
     },
     "execution_count": 18,
     "metadata": {},
     "output_type": "execute_result"
    }
   ],
   "source": [
    "# Taking a look at the retweeted samples\n",
    "twitter_archive_df[ ~ twitter_archive_df[\"retweeted_status_id\"].isnull() ].T"
   ]
  },
  {
   "cell_type": "markdown",
   "metadata": {},
   "source": [
    "Those retweeted samples should not be present in our dataset, as per the projec instruction."
   ]
  },
  {
   "cell_type": "code",
   "execution_count": null,
   "metadata": {},
   "outputs": [],
   "source": []
  },
  {
   "cell_type": "code",
   "execution_count": 19,
   "metadata": {},
   "outputs": [
    {
     "data": {
      "text/html": [
       "<div>\n",
       "<style scoped>\n",
       "    .dataframe tbody tr th:only-of-type {\n",
       "        vertical-align: middle;\n",
       "    }\n",
       "\n",
       "    .dataframe tbody tr th {\n",
       "        vertical-align: top;\n",
       "    }\n",
       "\n",
       "    .dataframe thead th {\n",
       "        text-align: right;\n",
       "    }\n",
       "</style>\n",
       "<table border=\"1\" class=\"dataframe\">\n",
       "  <thead>\n",
       "    <tr style=\"text-align: right;\">\n",
       "      <th></th>\n",
       "      <th>0</th>\n",
       "      <th>1</th>\n",
       "      <th>2</th>\n",
       "      <th>3</th>\n",
       "      <th>4</th>\n",
       "      <th>5</th>\n",
       "      <th>6</th>\n",
       "      <th>7</th>\n",
       "      <th>8</th>\n",
       "      <th>9</th>\n",
       "      <th>...</th>\n",
       "      <th>2346</th>\n",
       "      <th>2347</th>\n",
       "      <th>2348</th>\n",
       "      <th>2349</th>\n",
       "      <th>2350</th>\n",
       "      <th>2351</th>\n",
       "      <th>2352</th>\n",
       "      <th>2353</th>\n",
       "      <th>2354</th>\n",
       "      <th>2355</th>\n",
       "    </tr>\n",
       "  </thead>\n",
       "  <tbody>\n",
       "    <tr>\n",
       "      <th>tweet_id</th>\n",
       "      <td>892420643555336193</td>\n",
       "      <td>892177421306343426</td>\n",
       "      <td>891815181378084864</td>\n",
       "      <td>891689557279858688</td>\n",
       "      <td>891327558926688256</td>\n",
       "      <td>891087950875897856</td>\n",
       "      <td>890971913173991426</td>\n",
       "      <td>890729181411237888</td>\n",
       "      <td>890609185150312448</td>\n",
       "      <td>890240255349198849</td>\n",
       "      <td>...</td>\n",
       "      <td>666058600524156928</td>\n",
       "      <td>666057090499244032</td>\n",
       "      <td>666055525042405380</td>\n",
       "      <td>666051853826850816</td>\n",
       "      <td>666050758794694657</td>\n",
       "      <td>666049248165822465</td>\n",
       "      <td>666044226329800704</td>\n",
       "      <td>666033412701032449</td>\n",
       "      <td>666029285002620928</td>\n",
       "      <td>666020888022790149</td>\n",
       "    </tr>\n",
       "    <tr>\n",
       "      <th>in_reply_to_status_id</th>\n",
       "      <td>NaN</td>\n",
       "      <td>NaN</td>\n",
       "      <td>NaN</td>\n",
       "      <td>NaN</td>\n",
       "      <td>NaN</td>\n",
       "      <td>NaN</td>\n",
       "      <td>NaN</td>\n",
       "      <td>NaN</td>\n",
       "      <td>NaN</td>\n",
       "      <td>NaN</td>\n",
       "      <td>...</td>\n",
       "      <td>NaN</td>\n",
       "      <td>NaN</td>\n",
       "      <td>NaN</td>\n",
       "      <td>NaN</td>\n",
       "      <td>NaN</td>\n",
       "      <td>NaN</td>\n",
       "      <td>NaN</td>\n",
       "      <td>NaN</td>\n",
       "      <td>NaN</td>\n",
       "      <td>NaN</td>\n",
       "    </tr>\n",
       "    <tr>\n",
       "      <th>in_reply_to_user_id</th>\n",
       "      <td>NaN</td>\n",
       "      <td>NaN</td>\n",
       "      <td>NaN</td>\n",
       "      <td>NaN</td>\n",
       "      <td>NaN</td>\n",
       "      <td>NaN</td>\n",
       "      <td>NaN</td>\n",
       "      <td>NaN</td>\n",
       "      <td>NaN</td>\n",
       "      <td>NaN</td>\n",
       "      <td>...</td>\n",
       "      <td>NaN</td>\n",
       "      <td>NaN</td>\n",
       "      <td>NaN</td>\n",
       "      <td>NaN</td>\n",
       "      <td>NaN</td>\n",
       "      <td>NaN</td>\n",
       "      <td>NaN</td>\n",
       "      <td>NaN</td>\n",
       "      <td>NaN</td>\n",
       "      <td>NaN</td>\n",
       "    </tr>\n",
       "    <tr>\n",
       "      <th>timestamp</th>\n",
       "      <td>2017-08-01 16:23:56 +0000</td>\n",
       "      <td>2017-08-01 00:17:27 +0000</td>\n",
       "      <td>2017-07-31 00:18:03 +0000</td>\n",
       "      <td>2017-07-30 15:58:51 +0000</td>\n",
       "      <td>2017-07-29 16:00:24 +0000</td>\n",
       "      <td>2017-07-29 00:08:17 +0000</td>\n",
       "      <td>2017-07-28 16:27:12 +0000</td>\n",
       "      <td>2017-07-28 00:22:40 +0000</td>\n",
       "      <td>2017-07-27 16:25:51 +0000</td>\n",
       "      <td>2017-07-26 15:59:51 +0000</td>\n",
       "      <td>...</td>\n",
       "      <td>2015-11-16 01:01:59 +0000</td>\n",
       "      <td>2015-11-16 00:55:59 +0000</td>\n",
       "      <td>2015-11-16 00:49:46 +0000</td>\n",
       "      <td>2015-11-16 00:35:11 +0000</td>\n",
       "      <td>2015-11-16 00:30:50 +0000</td>\n",
       "      <td>2015-11-16 00:24:50 +0000</td>\n",
       "      <td>2015-11-16 00:04:52 +0000</td>\n",
       "      <td>2015-11-15 23:21:54 +0000</td>\n",
       "      <td>2015-11-15 23:05:30 +0000</td>\n",
       "      <td>2015-11-15 22:32:08 +0000</td>\n",
       "    </tr>\n",
       "    <tr>\n",
       "      <th>source</th>\n",
       "      <td>&lt;a href=\"http://twitter.com/download/iphone\" r...</td>\n",
       "      <td>&lt;a href=\"http://twitter.com/download/iphone\" r...</td>\n",
       "      <td>&lt;a href=\"http://twitter.com/download/iphone\" r...</td>\n",
       "      <td>&lt;a href=\"http://twitter.com/download/iphone\" r...</td>\n",
       "      <td>&lt;a href=\"http://twitter.com/download/iphone\" r...</td>\n",
       "      <td>&lt;a href=\"http://twitter.com/download/iphone\" r...</td>\n",
       "      <td>&lt;a href=\"http://twitter.com/download/iphone\" r...</td>\n",
       "      <td>&lt;a href=\"http://twitter.com/download/iphone\" r...</td>\n",
       "      <td>&lt;a href=\"http://twitter.com/download/iphone\" r...</td>\n",
       "      <td>&lt;a href=\"http://twitter.com/download/iphone\" r...</td>\n",
       "      <td>...</td>\n",
       "      <td>&lt;a href=\"http://twitter.com/download/iphone\" r...</td>\n",
       "      <td>&lt;a href=\"http://twitter.com/download/iphone\" r...</td>\n",
       "      <td>&lt;a href=\"http://twitter.com/download/iphone\" r...</td>\n",
       "      <td>&lt;a href=\"http://twitter.com/download/iphone\" r...</td>\n",
       "      <td>&lt;a href=\"http://twitter.com/download/iphone\" r...</td>\n",
       "      <td>&lt;a href=\"http://twitter.com/download/iphone\" r...</td>\n",
       "      <td>&lt;a href=\"http://twitter.com/download/iphone\" r...</td>\n",
       "      <td>&lt;a href=\"http://twitter.com/download/iphone\" r...</td>\n",
       "      <td>&lt;a href=\"http://twitter.com/download/iphone\" r...</td>\n",
       "      <td>&lt;a href=\"http://twitter.com/download/iphone\" r...</td>\n",
       "    </tr>\n",
       "    <tr>\n",
       "      <th>text</th>\n",
       "      <td>This is Phineas. He's a mystical boy. Only eve...</td>\n",
       "      <td>This is Tilly. She's just checking pup on you....</td>\n",
       "      <td>This is Archie. He is a rare Norwegian Pouncin...</td>\n",
       "      <td>This is Darla. She commenced a snooze mid meal...</td>\n",
       "      <td>This is Franklin. He would like you to stop ca...</td>\n",
       "      <td>Here we have a majestic great white breaching ...</td>\n",
       "      <td>Meet Jax. He enjoys ice cream so much he gets ...</td>\n",
       "      <td>When you watch your owner call another dog a g...</td>\n",
       "      <td>This is Zoey. She doesn't want to be one of th...</td>\n",
       "      <td>This is Cassie. She is a college pup. Studying...</td>\n",
       "      <td>...</td>\n",
       "      <td>Here is the Rand Paul of retrievers folks! He'...</td>\n",
       "      <td>My oh my. This is a rare blond Canadian terrie...</td>\n",
       "      <td>Here is a Siberian heavily armored polar bear ...</td>\n",
       "      <td>This is an odd dog. Hard on the outside but lo...</td>\n",
       "      <td>This is a truly beautiful English Wilson Staff...</td>\n",
       "      <td>Here we have a 1949 1st generation vulpix. Enj...</td>\n",
       "      <td>This is a purebred Piers Morgan. Loves to Netf...</td>\n",
       "      <td>Here is a very happy pup. Big fan of well-main...</td>\n",
       "      <td>This is a western brown Mitsubishi terrier. Up...</td>\n",
       "      <td>Here we have a Japanese Irish Setter. Lost eye...</td>\n",
       "    </tr>\n",
       "    <tr>\n",
       "      <th>retweeted_status_id</th>\n",
       "      <td>NaN</td>\n",
       "      <td>NaN</td>\n",
       "      <td>NaN</td>\n",
       "      <td>NaN</td>\n",
       "      <td>NaN</td>\n",
       "      <td>NaN</td>\n",
       "      <td>NaN</td>\n",
       "      <td>NaN</td>\n",
       "      <td>NaN</td>\n",
       "      <td>NaN</td>\n",
       "      <td>...</td>\n",
       "      <td>NaN</td>\n",
       "      <td>NaN</td>\n",
       "      <td>NaN</td>\n",
       "      <td>NaN</td>\n",
       "      <td>NaN</td>\n",
       "      <td>NaN</td>\n",
       "      <td>NaN</td>\n",
       "      <td>NaN</td>\n",
       "      <td>NaN</td>\n",
       "      <td>NaN</td>\n",
       "    </tr>\n",
       "    <tr>\n",
       "      <th>retweeted_status_user_id</th>\n",
       "      <td>NaN</td>\n",
       "      <td>NaN</td>\n",
       "      <td>NaN</td>\n",
       "      <td>NaN</td>\n",
       "      <td>NaN</td>\n",
       "      <td>NaN</td>\n",
       "      <td>NaN</td>\n",
       "      <td>NaN</td>\n",
       "      <td>NaN</td>\n",
       "      <td>NaN</td>\n",
       "      <td>...</td>\n",
       "      <td>NaN</td>\n",
       "      <td>NaN</td>\n",
       "      <td>NaN</td>\n",
       "      <td>NaN</td>\n",
       "      <td>NaN</td>\n",
       "      <td>NaN</td>\n",
       "      <td>NaN</td>\n",
       "      <td>NaN</td>\n",
       "      <td>NaN</td>\n",
       "      <td>NaN</td>\n",
       "    </tr>\n",
       "    <tr>\n",
       "      <th>retweeted_status_timestamp</th>\n",
       "      <td>NaN</td>\n",
       "      <td>NaN</td>\n",
       "      <td>NaN</td>\n",
       "      <td>NaN</td>\n",
       "      <td>NaN</td>\n",
       "      <td>NaN</td>\n",
       "      <td>NaN</td>\n",
       "      <td>NaN</td>\n",
       "      <td>NaN</td>\n",
       "      <td>NaN</td>\n",
       "      <td>...</td>\n",
       "      <td>NaN</td>\n",
       "      <td>NaN</td>\n",
       "      <td>NaN</td>\n",
       "      <td>NaN</td>\n",
       "      <td>NaN</td>\n",
       "      <td>NaN</td>\n",
       "      <td>NaN</td>\n",
       "      <td>NaN</td>\n",
       "      <td>NaN</td>\n",
       "      <td>NaN</td>\n",
       "    </tr>\n",
       "    <tr>\n",
       "      <th>expanded_urls</th>\n",
       "      <td>https://twitter.com/dog_rates/status/892420643...</td>\n",
       "      <td>https://twitter.com/dog_rates/status/892177421...</td>\n",
       "      <td>https://twitter.com/dog_rates/status/891815181...</td>\n",
       "      <td>https://twitter.com/dog_rates/status/891689557...</td>\n",
       "      <td>https://twitter.com/dog_rates/status/891327558...</td>\n",
       "      <td>https://twitter.com/dog_rates/status/891087950...</td>\n",
       "      <td>https://gofundme.com/ydvmve-surgery-for-jax,ht...</td>\n",
       "      <td>https://twitter.com/dog_rates/status/890729181...</td>\n",
       "      <td>https://twitter.com/dog_rates/status/890609185...</td>\n",
       "      <td>https://twitter.com/dog_rates/status/890240255...</td>\n",
       "      <td>...</td>\n",
       "      <td>https://twitter.com/dog_rates/status/666058600...</td>\n",
       "      <td>https://twitter.com/dog_rates/status/666057090...</td>\n",
       "      <td>https://twitter.com/dog_rates/status/666055525...</td>\n",
       "      <td>https://twitter.com/dog_rates/status/666051853...</td>\n",
       "      <td>https://twitter.com/dog_rates/status/666050758...</td>\n",
       "      <td>https://twitter.com/dog_rates/status/666049248...</td>\n",
       "      <td>https://twitter.com/dog_rates/status/666044226...</td>\n",
       "      <td>https://twitter.com/dog_rates/status/666033412...</td>\n",
       "      <td>https://twitter.com/dog_rates/status/666029285...</td>\n",
       "      <td>https://twitter.com/dog_rates/status/666020888...</td>\n",
       "    </tr>\n",
       "    <tr>\n",
       "      <th>rating_numerator</th>\n",
       "      <td>13</td>\n",
       "      <td>13</td>\n",
       "      <td>12</td>\n",
       "      <td>13</td>\n",
       "      <td>12</td>\n",
       "      <td>13</td>\n",
       "      <td>13</td>\n",
       "      <td>13</td>\n",
       "      <td>13</td>\n",
       "      <td>14</td>\n",
       "      <td>...</td>\n",
       "      <td>8</td>\n",
       "      <td>9</td>\n",
       "      <td>10</td>\n",
       "      <td>2</td>\n",
       "      <td>10</td>\n",
       "      <td>5</td>\n",
       "      <td>6</td>\n",
       "      <td>9</td>\n",
       "      <td>7</td>\n",
       "      <td>8</td>\n",
       "    </tr>\n",
       "    <tr>\n",
       "      <th>rating_denominator</th>\n",
       "      <td>10</td>\n",
       "      <td>10</td>\n",
       "      <td>10</td>\n",
       "      <td>10</td>\n",
       "      <td>10</td>\n",
       "      <td>10</td>\n",
       "      <td>10</td>\n",
       "      <td>10</td>\n",
       "      <td>10</td>\n",
       "      <td>10</td>\n",
       "      <td>...</td>\n",
       "      <td>10</td>\n",
       "      <td>10</td>\n",
       "      <td>10</td>\n",
       "      <td>10</td>\n",
       "      <td>10</td>\n",
       "      <td>10</td>\n",
       "      <td>10</td>\n",
       "      <td>10</td>\n",
       "      <td>10</td>\n",
       "      <td>10</td>\n",
       "    </tr>\n",
       "    <tr>\n",
       "      <th>name</th>\n",
       "      <td>Phineas</td>\n",
       "      <td>Tilly</td>\n",
       "      <td>Archie</td>\n",
       "      <td>Darla</td>\n",
       "      <td>Franklin</td>\n",
       "      <td>None</td>\n",
       "      <td>Jax</td>\n",
       "      <td>None</td>\n",
       "      <td>Zoey</td>\n",
       "      <td>Cassie</td>\n",
       "      <td>...</td>\n",
       "      <td>the</td>\n",
       "      <td>a</td>\n",
       "      <td>a</td>\n",
       "      <td>an</td>\n",
       "      <td>a</td>\n",
       "      <td>None</td>\n",
       "      <td>a</td>\n",
       "      <td>a</td>\n",
       "      <td>a</td>\n",
       "      <td>None</td>\n",
       "    </tr>\n",
       "    <tr>\n",
       "      <th>doggo</th>\n",
       "      <td>None</td>\n",
       "      <td>None</td>\n",
       "      <td>None</td>\n",
       "      <td>None</td>\n",
       "      <td>None</td>\n",
       "      <td>None</td>\n",
       "      <td>None</td>\n",
       "      <td>None</td>\n",
       "      <td>None</td>\n",
       "      <td>doggo</td>\n",
       "      <td>...</td>\n",
       "      <td>None</td>\n",
       "      <td>None</td>\n",
       "      <td>None</td>\n",
       "      <td>None</td>\n",
       "      <td>None</td>\n",
       "      <td>None</td>\n",
       "      <td>None</td>\n",
       "      <td>None</td>\n",
       "      <td>None</td>\n",
       "      <td>None</td>\n",
       "    </tr>\n",
       "    <tr>\n",
       "      <th>floofer</th>\n",
       "      <td>None</td>\n",
       "      <td>None</td>\n",
       "      <td>None</td>\n",
       "      <td>None</td>\n",
       "      <td>None</td>\n",
       "      <td>None</td>\n",
       "      <td>None</td>\n",
       "      <td>None</td>\n",
       "      <td>None</td>\n",
       "      <td>None</td>\n",
       "      <td>...</td>\n",
       "      <td>None</td>\n",
       "      <td>None</td>\n",
       "      <td>None</td>\n",
       "      <td>None</td>\n",
       "      <td>None</td>\n",
       "      <td>None</td>\n",
       "      <td>None</td>\n",
       "      <td>None</td>\n",
       "      <td>None</td>\n",
       "      <td>None</td>\n",
       "    </tr>\n",
       "    <tr>\n",
       "      <th>pupper</th>\n",
       "      <td>None</td>\n",
       "      <td>None</td>\n",
       "      <td>None</td>\n",
       "      <td>None</td>\n",
       "      <td>None</td>\n",
       "      <td>None</td>\n",
       "      <td>None</td>\n",
       "      <td>None</td>\n",
       "      <td>None</td>\n",
       "      <td>None</td>\n",
       "      <td>...</td>\n",
       "      <td>None</td>\n",
       "      <td>None</td>\n",
       "      <td>None</td>\n",
       "      <td>None</td>\n",
       "      <td>None</td>\n",
       "      <td>None</td>\n",
       "      <td>None</td>\n",
       "      <td>None</td>\n",
       "      <td>None</td>\n",
       "      <td>None</td>\n",
       "    </tr>\n",
       "    <tr>\n",
       "      <th>puppo</th>\n",
       "      <td>None</td>\n",
       "      <td>None</td>\n",
       "      <td>None</td>\n",
       "      <td>None</td>\n",
       "      <td>None</td>\n",
       "      <td>None</td>\n",
       "      <td>None</td>\n",
       "      <td>None</td>\n",
       "      <td>None</td>\n",
       "      <td>None</td>\n",
       "      <td>...</td>\n",
       "      <td>None</td>\n",
       "      <td>None</td>\n",
       "      <td>None</td>\n",
       "      <td>None</td>\n",
       "      <td>None</td>\n",
       "      <td>None</td>\n",
       "      <td>None</td>\n",
       "      <td>None</td>\n",
       "      <td>None</td>\n",
       "      <td>None</td>\n",
       "    </tr>\n",
       "  </tbody>\n",
       "</table>\n",
       "<p>17 rows × 2297 columns</p>\n",
       "</div>"
      ],
      "text/plain": [
       "                                                                         0     \\\n",
       "tweet_id                                                   892420643555336193   \n",
       "in_reply_to_status_id                                                     NaN   \n",
       "in_reply_to_user_id                                                       NaN   \n",
       "timestamp                                           2017-08-01 16:23:56 +0000   \n",
       "source                      <a href=\"http://twitter.com/download/iphone\" r...   \n",
       "text                        This is Phineas. He's a mystical boy. Only eve...   \n",
       "retweeted_status_id                                                       NaN   \n",
       "retweeted_status_user_id                                                  NaN   \n",
       "retweeted_status_timestamp                                                NaN   \n",
       "expanded_urls               https://twitter.com/dog_rates/status/892420643...   \n",
       "rating_numerator                                                           13   \n",
       "rating_denominator                                                         10   \n",
       "name                                                                  Phineas   \n",
       "doggo                                                                    None   \n",
       "floofer                                                                  None   \n",
       "pupper                                                                   None   \n",
       "puppo                                                                    None   \n",
       "\n",
       "                                                                         1     \\\n",
       "tweet_id                                                   892177421306343426   \n",
       "in_reply_to_status_id                                                     NaN   \n",
       "in_reply_to_user_id                                                       NaN   \n",
       "timestamp                                           2017-08-01 00:17:27 +0000   \n",
       "source                      <a href=\"http://twitter.com/download/iphone\" r...   \n",
       "text                        This is Tilly. She's just checking pup on you....   \n",
       "retweeted_status_id                                                       NaN   \n",
       "retweeted_status_user_id                                                  NaN   \n",
       "retweeted_status_timestamp                                                NaN   \n",
       "expanded_urls               https://twitter.com/dog_rates/status/892177421...   \n",
       "rating_numerator                                                           13   \n",
       "rating_denominator                                                         10   \n",
       "name                                                                    Tilly   \n",
       "doggo                                                                    None   \n",
       "floofer                                                                  None   \n",
       "pupper                                                                   None   \n",
       "puppo                                                                    None   \n",
       "\n",
       "                                                                         2     \\\n",
       "tweet_id                                                   891815181378084864   \n",
       "in_reply_to_status_id                                                     NaN   \n",
       "in_reply_to_user_id                                                       NaN   \n",
       "timestamp                                           2017-07-31 00:18:03 +0000   \n",
       "source                      <a href=\"http://twitter.com/download/iphone\" r...   \n",
       "text                        This is Archie. He is a rare Norwegian Pouncin...   \n",
       "retweeted_status_id                                                       NaN   \n",
       "retweeted_status_user_id                                                  NaN   \n",
       "retweeted_status_timestamp                                                NaN   \n",
       "expanded_urls               https://twitter.com/dog_rates/status/891815181...   \n",
       "rating_numerator                                                           12   \n",
       "rating_denominator                                                         10   \n",
       "name                                                                   Archie   \n",
       "doggo                                                                    None   \n",
       "floofer                                                                  None   \n",
       "pupper                                                                   None   \n",
       "puppo                                                                    None   \n",
       "\n",
       "                                                                         3     \\\n",
       "tweet_id                                                   891689557279858688   \n",
       "in_reply_to_status_id                                                     NaN   \n",
       "in_reply_to_user_id                                                       NaN   \n",
       "timestamp                                           2017-07-30 15:58:51 +0000   \n",
       "source                      <a href=\"http://twitter.com/download/iphone\" r...   \n",
       "text                        This is Darla. She commenced a snooze mid meal...   \n",
       "retweeted_status_id                                                       NaN   \n",
       "retweeted_status_user_id                                                  NaN   \n",
       "retweeted_status_timestamp                                                NaN   \n",
       "expanded_urls               https://twitter.com/dog_rates/status/891689557...   \n",
       "rating_numerator                                                           13   \n",
       "rating_denominator                                                         10   \n",
       "name                                                                    Darla   \n",
       "doggo                                                                    None   \n",
       "floofer                                                                  None   \n",
       "pupper                                                                   None   \n",
       "puppo                                                                    None   \n",
       "\n",
       "                                                                         4     \\\n",
       "tweet_id                                                   891327558926688256   \n",
       "in_reply_to_status_id                                                     NaN   \n",
       "in_reply_to_user_id                                                       NaN   \n",
       "timestamp                                           2017-07-29 16:00:24 +0000   \n",
       "source                      <a href=\"http://twitter.com/download/iphone\" r...   \n",
       "text                        This is Franklin. He would like you to stop ca...   \n",
       "retweeted_status_id                                                       NaN   \n",
       "retweeted_status_user_id                                                  NaN   \n",
       "retweeted_status_timestamp                                                NaN   \n",
       "expanded_urls               https://twitter.com/dog_rates/status/891327558...   \n",
       "rating_numerator                                                           12   \n",
       "rating_denominator                                                         10   \n",
       "name                                                                 Franklin   \n",
       "doggo                                                                    None   \n",
       "floofer                                                                  None   \n",
       "pupper                                                                   None   \n",
       "puppo                                                                    None   \n",
       "\n",
       "                                                                         5     \\\n",
       "tweet_id                                                   891087950875897856   \n",
       "in_reply_to_status_id                                                     NaN   \n",
       "in_reply_to_user_id                                                       NaN   \n",
       "timestamp                                           2017-07-29 00:08:17 +0000   \n",
       "source                      <a href=\"http://twitter.com/download/iphone\" r...   \n",
       "text                        Here we have a majestic great white breaching ...   \n",
       "retweeted_status_id                                                       NaN   \n",
       "retweeted_status_user_id                                                  NaN   \n",
       "retweeted_status_timestamp                                                NaN   \n",
       "expanded_urls               https://twitter.com/dog_rates/status/891087950...   \n",
       "rating_numerator                                                           13   \n",
       "rating_denominator                                                         10   \n",
       "name                                                                     None   \n",
       "doggo                                                                    None   \n",
       "floofer                                                                  None   \n",
       "pupper                                                                   None   \n",
       "puppo                                                                    None   \n",
       "\n",
       "                                                                         6     \\\n",
       "tweet_id                                                   890971913173991426   \n",
       "in_reply_to_status_id                                                     NaN   \n",
       "in_reply_to_user_id                                                       NaN   \n",
       "timestamp                                           2017-07-28 16:27:12 +0000   \n",
       "source                      <a href=\"http://twitter.com/download/iphone\" r...   \n",
       "text                        Meet Jax. He enjoys ice cream so much he gets ...   \n",
       "retweeted_status_id                                                       NaN   \n",
       "retweeted_status_user_id                                                  NaN   \n",
       "retweeted_status_timestamp                                                NaN   \n",
       "expanded_urls               https://gofundme.com/ydvmve-surgery-for-jax,ht...   \n",
       "rating_numerator                                                           13   \n",
       "rating_denominator                                                         10   \n",
       "name                                                                      Jax   \n",
       "doggo                                                                    None   \n",
       "floofer                                                                  None   \n",
       "pupper                                                                   None   \n",
       "puppo                                                                    None   \n",
       "\n",
       "                                                                         7     \\\n",
       "tweet_id                                                   890729181411237888   \n",
       "in_reply_to_status_id                                                     NaN   \n",
       "in_reply_to_user_id                                                       NaN   \n",
       "timestamp                                           2017-07-28 00:22:40 +0000   \n",
       "source                      <a href=\"http://twitter.com/download/iphone\" r...   \n",
       "text                        When you watch your owner call another dog a g...   \n",
       "retweeted_status_id                                                       NaN   \n",
       "retweeted_status_user_id                                                  NaN   \n",
       "retweeted_status_timestamp                                                NaN   \n",
       "expanded_urls               https://twitter.com/dog_rates/status/890729181...   \n",
       "rating_numerator                                                           13   \n",
       "rating_denominator                                                         10   \n",
       "name                                                                     None   \n",
       "doggo                                                                    None   \n",
       "floofer                                                                  None   \n",
       "pupper                                                                   None   \n",
       "puppo                                                                    None   \n",
       "\n",
       "                                                                         8     \\\n",
       "tweet_id                                                   890609185150312448   \n",
       "in_reply_to_status_id                                                     NaN   \n",
       "in_reply_to_user_id                                                       NaN   \n",
       "timestamp                                           2017-07-27 16:25:51 +0000   \n",
       "source                      <a href=\"http://twitter.com/download/iphone\" r...   \n",
       "text                        This is Zoey. She doesn't want to be one of th...   \n",
       "retweeted_status_id                                                       NaN   \n",
       "retweeted_status_user_id                                                  NaN   \n",
       "retweeted_status_timestamp                                                NaN   \n",
       "expanded_urls               https://twitter.com/dog_rates/status/890609185...   \n",
       "rating_numerator                                                           13   \n",
       "rating_denominator                                                         10   \n",
       "name                                                                     Zoey   \n",
       "doggo                                                                    None   \n",
       "floofer                                                                  None   \n",
       "pupper                                                                   None   \n",
       "puppo                                                                    None   \n",
       "\n",
       "                                                                         9     \\\n",
       "tweet_id                                                   890240255349198849   \n",
       "in_reply_to_status_id                                                     NaN   \n",
       "in_reply_to_user_id                                                       NaN   \n",
       "timestamp                                           2017-07-26 15:59:51 +0000   \n",
       "source                      <a href=\"http://twitter.com/download/iphone\" r...   \n",
       "text                        This is Cassie. She is a college pup. Studying...   \n",
       "retweeted_status_id                                                       NaN   \n",
       "retweeted_status_user_id                                                  NaN   \n",
       "retweeted_status_timestamp                                                NaN   \n",
       "expanded_urls               https://twitter.com/dog_rates/status/890240255...   \n",
       "rating_numerator                                                           14   \n",
       "rating_denominator                                                         10   \n",
       "name                                                                   Cassie   \n",
       "doggo                                                                   doggo   \n",
       "floofer                                                                  None   \n",
       "pupper                                                                   None   \n",
       "puppo                                                                    None   \n",
       "\n",
       "                            ...  \\\n",
       "tweet_id                    ...   \n",
       "in_reply_to_status_id       ...   \n",
       "in_reply_to_user_id         ...   \n",
       "timestamp                   ...   \n",
       "source                      ...   \n",
       "text                        ...   \n",
       "retweeted_status_id         ...   \n",
       "retweeted_status_user_id    ...   \n",
       "retweeted_status_timestamp  ...   \n",
       "expanded_urls               ...   \n",
       "rating_numerator            ...   \n",
       "rating_denominator          ...   \n",
       "name                        ...   \n",
       "doggo                       ...   \n",
       "floofer                     ...   \n",
       "pupper                      ...   \n",
       "puppo                       ...   \n",
       "\n",
       "                                                                         2346  \\\n",
       "tweet_id                                                   666058600524156928   \n",
       "in_reply_to_status_id                                                     NaN   \n",
       "in_reply_to_user_id                                                       NaN   \n",
       "timestamp                                           2015-11-16 01:01:59 +0000   \n",
       "source                      <a href=\"http://twitter.com/download/iphone\" r...   \n",
       "text                        Here is the Rand Paul of retrievers folks! He'...   \n",
       "retweeted_status_id                                                       NaN   \n",
       "retweeted_status_user_id                                                  NaN   \n",
       "retweeted_status_timestamp                                                NaN   \n",
       "expanded_urls               https://twitter.com/dog_rates/status/666058600...   \n",
       "rating_numerator                                                            8   \n",
       "rating_denominator                                                         10   \n",
       "name                                                                      the   \n",
       "doggo                                                                    None   \n",
       "floofer                                                                  None   \n",
       "pupper                                                                   None   \n",
       "puppo                                                                    None   \n",
       "\n",
       "                                                                         2347  \\\n",
       "tweet_id                                                   666057090499244032   \n",
       "in_reply_to_status_id                                                     NaN   \n",
       "in_reply_to_user_id                                                       NaN   \n",
       "timestamp                                           2015-11-16 00:55:59 +0000   \n",
       "source                      <a href=\"http://twitter.com/download/iphone\" r...   \n",
       "text                        My oh my. This is a rare blond Canadian terrie...   \n",
       "retweeted_status_id                                                       NaN   \n",
       "retweeted_status_user_id                                                  NaN   \n",
       "retweeted_status_timestamp                                                NaN   \n",
       "expanded_urls               https://twitter.com/dog_rates/status/666057090...   \n",
       "rating_numerator                                                            9   \n",
       "rating_denominator                                                         10   \n",
       "name                                                                        a   \n",
       "doggo                                                                    None   \n",
       "floofer                                                                  None   \n",
       "pupper                                                                   None   \n",
       "puppo                                                                    None   \n",
       "\n",
       "                                                                         2348  \\\n",
       "tweet_id                                                   666055525042405380   \n",
       "in_reply_to_status_id                                                     NaN   \n",
       "in_reply_to_user_id                                                       NaN   \n",
       "timestamp                                           2015-11-16 00:49:46 +0000   \n",
       "source                      <a href=\"http://twitter.com/download/iphone\" r...   \n",
       "text                        Here is a Siberian heavily armored polar bear ...   \n",
       "retweeted_status_id                                                       NaN   \n",
       "retweeted_status_user_id                                                  NaN   \n",
       "retweeted_status_timestamp                                                NaN   \n",
       "expanded_urls               https://twitter.com/dog_rates/status/666055525...   \n",
       "rating_numerator                                                           10   \n",
       "rating_denominator                                                         10   \n",
       "name                                                                        a   \n",
       "doggo                                                                    None   \n",
       "floofer                                                                  None   \n",
       "pupper                                                                   None   \n",
       "puppo                                                                    None   \n",
       "\n",
       "                                                                         2349  \\\n",
       "tweet_id                                                   666051853826850816   \n",
       "in_reply_to_status_id                                                     NaN   \n",
       "in_reply_to_user_id                                                       NaN   \n",
       "timestamp                                           2015-11-16 00:35:11 +0000   \n",
       "source                      <a href=\"http://twitter.com/download/iphone\" r...   \n",
       "text                        This is an odd dog. Hard on the outside but lo...   \n",
       "retweeted_status_id                                                       NaN   \n",
       "retweeted_status_user_id                                                  NaN   \n",
       "retweeted_status_timestamp                                                NaN   \n",
       "expanded_urls               https://twitter.com/dog_rates/status/666051853...   \n",
       "rating_numerator                                                            2   \n",
       "rating_denominator                                                         10   \n",
       "name                                                                       an   \n",
       "doggo                                                                    None   \n",
       "floofer                                                                  None   \n",
       "pupper                                                                   None   \n",
       "puppo                                                                    None   \n",
       "\n",
       "                                                                         2350  \\\n",
       "tweet_id                                                   666050758794694657   \n",
       "in_reply_to_status_id                                                     NaN   \n",
       "in_reply_to_user_id                                                       NaN   \n",
       "timestamp                                           2015-11-16 00:30:50 +0000   \n",
       "source                      <a href=\"http://twitter.com/download/iphone\" r...   \n",
       "text                        This is a truly beautiful English Wilson Staff...   \n",
       "retweeted_status_id                                                       NaN   \n",
       "retweeted_status_user_id                                                  NaN   \n",
       "retweeted_status_timestamp                                                NaN   \n",
       "expanded_urls               https://twitter.com/dog_rates/status/666050758...   \n",
       "rating_numerator                                                           10   \n",
       "rating_denominator                                                         10   \n",
       "name                                                                        a   \n",
       "doggo                                                                    None   \n",
       "floofer                                                                  None   \n",
       "pupper                                                                   None   \n",
       "puppo                                                                    None   \n",
       "\n",
       "                                                                         2351  \\\n",
       "tweet_id                                                   666049248165822465   \n",
       "in_reply_to_status_id                                                     NaN   \n",
       "in_reply_to_user_id                                                       NaN   \n",
       "timestamp                                           2015-11-16 00:24:50 +0000   \n",
       "source                      <a href=\"http://twitter.com/download/iphone\" r...   \n",
       "text                        Here we have a 1949 1st generation vulpix. Enj...   \n",
       "retweeted_status_id                                                       NaN   \n",
       "retweeted_status_user_id                                                  NaN   \n",
       "retweeted_status_timestamp                                                NaN   \n",
       "expanded_urls               https://twitter.com/dog_rates/status/666049248...   \n",
       "rating_numerator                                                            5   \n",
       "rating_denominator                                                         10   \n",
       "name                                                                     None   \n",
       "doggo                                                                    None   \n",
       "floofer                                                                  None   \n",
       "pupper                                                                   None   \n",
       "puppo                                                                    None   \n",
       "\n",
       "                                                                         2352  \\\n",
       "tweet_id                                                   666044226329800704   \n",
       "in_reply_to_status_id                                                     NaN   \n",
       "in_reply_to_user_id                                                       NaN   \n",
       "timestamp                                           2015-11-16 00:04:52 +0000   \n",
       "source                      <a href=\"http://twitter.com/download/iphone\" r...   \n",
       "text                        This is a purebred Piers Morgan. Loves to Netf...   \n",
       "retweeted_status_id                                                       NaN   \n",
       "retweeted_status_user_id                                                  NaN   \n",
       "retweeted_status_timestamp                                                NaN   \n",
       "expanded_urls               https://twitter.com/dog_rates/status/666044226...   \n",
       "rating_numerator                                                            6   \n",
       "rating_denominator                                                         10   \n",
       "name                                                                        a   \n",
       "doggo                                                                    None   \n",
       "floofer                                                                  None   \n",
       "pupper                                                                   None   \n",
       "puppo                                                                    None   \n",
       "\n",
       "                                                                         2353  \\\n",
       "tweet_id                                                   666033412701032449   \n",
       "in_reply_to_status_id                                                     NaN   \n",
       "in_reply_to_user_id                                                       NaN   \n",
       "timestamp                                           2015-11-15 23:21:54 +0000   \n",
       "source                      <a href=\"http://twitter.com/download/iphone\" r...   \n",
       "text                        Here is a very happy pup. Big fan of well-main...   \n",
       "retweeted_status_id                                                       NaN   \n",
       "retweeted_status_user_id                                                  NaN   \n",
       "retweeted_status_timestamp                                                NaN   \n",
       "expanded_urls               https://twitter.com/dog_rates/status/666033412...   \n",
       "rating_numerator                                                            9   \n",
       "rating_denominator                                                         10   \n",
       "name                                                                        a   \n",
       "doggo                                                                    None   \n",
       "floofer                                                                  None   \n",
       "pupper                                                                   None   \n",
       "puppo                                                                    None   \n",
       "\n",
       "                                                                         2354  \\\n",
       "tweet_id                                                   666029285002620928   \n",
       "in_reply_to_status_id                                                     NaN   \n",
       "in_reply_to_user_id                                                       NaN   \n",
       "timestamp                                           2015-11-15 23:05:30 +0000   \n",
       "source                      <a href=\"http://twitter.com/download/iphone\" r...   \n",
       "text                        This is a western brown Mitsubishi terrier. Up...   \n",
       "retweeted_status_id                                                       NaN   \n",
       "retweeted_status_user_id                                                  NaN   \n",
       "retweeted_status_timestamp                                                NaN   \n",
       "expanded_urls               https://twitter.com/dog_rates/status/666029285...   \n",
       "rating_numerator                                                            7   \n",
       "rating_denominator                                                         10   \n",
       "name                                                                        a   \n",
       "doggo                                                                    None   \n",
       "floofer                                                                  None   \n",
       "pupper                                                                   None   \n",
       "puppo                                                                    None   \n",
       "\n",
       "                                                                         2355  \n",
       "tweet_id                                                   666020888022790149  \n",
       "in_reply_to_status_id                                                     NaN  \n",
       "in_reply_to_user_id                                                       NaN  \n",
       "timestamp                                           2015-11-15 22:32:08 +0000  \n",
       "source                      <a href=\"http://twitter.com/download/iphone\" r...  \n",
       "text                        Here we have a Japanese Irish Setter. Lost eye...  \n",
       "retweeted_status_id                                                       NaN  \n",
       "retweeted_status_user_id                                                  NaN  \n",
       "retweeted_status_timestamp                                                NaN  \n",
       "expanded_urls               https://twitter.com/dog_rates/status/666020888...  \n",
       "rating_numerator                                                            8  \n",
       "rating_denominator                                                         10  \n",
       "name                                                                     None  \n",
       "doggo                                                                    None  \n",
       "floofer                                                                  None  \n",
       "pupper                                                                   None  \n",
       "puppo                                                                    None  \n",
       "\n",
       "[17 rows x 2297 columns]"
      ]
     },
     "execution_count": 19,
     "metadata": {},
     "output_type": "execute_result"
    }
   ],
   "source": [
    "# Taking a look at the samples which have value in expanded_urls column\n",
    "twitter_archive_df[ ~ twitter_archive_df[\"expanded_urls\"].isnull() ].T"
   ]
  },
  {
   "cell_type": "code",
   "execution_count": null,
   "metadata": {},
   "outputs": [],
   "source": []
  },
  {
   "cell_type": "code",
   "execution_count": 20,
   "metadata": {
    "scrolled": true
   },
   "outputs": [
    {
     "data": {
      "text/plain": [
       "array(['<a href=\"http://twitter.com/download/iphone\" rel=\"nofollow\">Twitter for iPhone</a>',\n",
       "       '<a href=\"http://twitter.com\" rel=\"nofollow\">Twitter Web Client</a>',\n",
       "       '<a href=\"http://vine.co\" rel=\"nofollow\">Vine - Make a Scene</a>',\n",
       "       '<a href=\"https://about.twitter.com/products/tweetdeck\" rel=\"nofollow\">TweetDeck</a>'],\n",
       "      dtype=object)"
      ]
     },
     "execution_count": 20,
     "metadata": {},
     "output_type": "execute_result"
    }
   ],
   "source": [
    "# Assessing the content of twitter_archive_df[\"source\"]\n",
    "twitter_archive_df[\"source\"].unique()"
   ]
  },
  {
   "cell_type": "code",
   "execution_count": null,
   "metadata": {},
   "outputs": [],
   "source": []
  },
  {
   "cell_type": "code",
   "execution_count": 21,
   "metadata": {
    "scrolled": true
   },
   "outputs": [
    {
     "data": {
      "text/html": [
       "<div>\n",
       "<style scoped>\n",
       "    .dataframe tbody tr th:only-of-type {\n",
       "        vertical-align: middle;\n",
       "    }\n",
       "\n",
       "    .dataframe tbody tr th {\n",
       "        vertical-align: top;\n",
       "    }\n",
       "\n",
       "    .dataframe thead th {\n",
       "        text-align: right;\n",
       "    }\n",
       "</style>\n",
       "<table border=\"1\" class=\"dataframe\">\n",
       "  <thead>\n",
       "    <tr style=\"text-align: right;\">\n",
       "      <th></th>\n",
       "      <th>0</th>\n",
       "      <th>1</th>\n",
       "      <th>2</th>\n",
       "    </tr>\n",
       "  </thead>\n",
       "  <tbody>\n",
       "    <tr>\n",
       "      <th>created_at</th>\n",
       "      <td>Tue Aug 01 16:23:56 +0000 2017</td>\n",
       "      <td>Tue Aug 01 00:17:27 +0000 2017</td>\n",
       "      <td>Mon Jul 31 00:18:03 +0000 2017</td>\n",
       "    </tr>\n",
       "    <tr>\n",
       "      <th>id</th>\n",
       "      <td>892420643555336193</td>\n",
       "      <td>892177421306343426</td>\n",
       "      <td>891815181378084864</td>\n",
       "    </tr>\n",
       "    <tr>\n",
       "      <th>id_str</th>\n",
       "      <td>892420643555336193</td>\n",
       "      <td>892177421306343426</td>\n",
       "      <td>891815181378084864</td>\n",
       "    </tr>\n",
       "    <tr>\n",
       "      <th>full_text</th>\n",
       "      <td>This is Phineas. He's a mystical boy. Only eve...</td>\n",
       "      <td>This is Tilly. She's just checking pup on you....</td>\n",
       "      <td>This is Archie. He is a rare Norwegian Pouncin...</td>\n",
       "    </tr>\n",
       "    <tr>\n",
       "      <th>truncated</th>\n",
       "      <td>False</td>\n",
       "      <td>False</td>\n",
       "      <td>False</td>\n",
       "    </tr>\n",
       "    <tr>\n",
       "      <th>display_text_range</th>\n",
       "      <td>[0, 85]</td>\n",
       "      <td>[0, 138]</td>\n",
       "      <td>[0, 121]</td>\n",
       "    </tr>\n",
       "    <tr>\n",
       "      <th>entities</th>\n",
       "      <td>{'hashtags': [], 'symbols': [], 'user_mentions...</td>\n",
       "      <td>{'hashtags': [], 'symbols': [], 'user_mentions...</td>\n",
       "      <td>{'hashtags': [], 'symbols': [], 'user_mentions...</td>\n",
       "    </tr>\n",
       "    <tr>\n",
       "      <th>extended_entities</th>\n",
       "      <td>{'media': [{'id': 892420639486877696, 'id_str'...</td>\n",
       "      <td>{'media': [{'id': 892177413194625024, 'id_str'...</td>\n",
       "      <td>{'media': [{'id': 891815175371796480, 'id_str'...</td>\n",
       "    </tr>\n",
       "    <tr>\n",
       "      <th>source</th>\n",
       "      <td>&lt;a href=\"http://twitter.com/download/iphone\" r...</td>\n",
       "      <td>&lt;a href=\"http://twitter.com/download/iphone\" r...</td>\n",
       "      <td>&lt;a href=\"http://twitter.com/download/iphone\" r...</td>\n",
       "    </tr>\n",
       "    <tr>\n",
       "      <th>in_reply_to_status_id</th>\n",
       "      <td>NaN</td>\n",
       "      <td>NaN</td>\n",
       "      <td>NaN</td>\n",
       "    </tr>\n",
       "    <tr>\n",
       "      <th>in_reply_to_status_id_str</th>\n",
       "      <td>None</td>\n",
       "      <td>None</td>\n",
       "      <td>None</td>\n",
       "    </tr>\n",
       "    <tr>\n",
       "      <th>in_reply_to_user_id</th>\n",
       "      <td>NaN</td>\n",
       "      <td>NaN</td>\n",
       "      <td>NaN</td>\n",
       "    </tr>\n",
       "    <tr>\n",
       "      <th>in_reply_to_user_id_str</th>\n",
       "      <td>None</td>\n",
       "      <td>None</td>\n",
       "      <td>None</td>\n",
       "    </tr>\n",
       "    <tr>\n",
       "      <th>in_reply_to_screen_name</th>\n",
       "      <td>None</td>\n",
       "      <td>None</td>\n",
       "      <td>None</td>\n",
       "    </tr>\n",
       "    <tr>\n",
       "      <th>user</th>\n",
       "      <td>{'id': 4196983835, 'id_str': '4196983835', 'na...</td>\n",
       "      <td>{'id': 4196983835, 'id_str': '4196983835', 'na...</td>\n",
       "      <td>{'id': 4196983835, 'id_str': '4196983835', 'na...</td>\n",
       "    </tr>\n",
       "    <tr>\n",
       "      <th>geo</th>\n",
       "      <td>None</td>\n",
       "      <td>None</td>\n",
       "      <td>None</td>\n",
       "    </tr>\n",
       "    <tr>\n",
       "      <th>coordinates</th>\n",
       "      <td>None</td>\n",
       "      <td>None</td>\n",
       "      <td>None</td>\n",
       "    </tr>\n",
       "    <tr>\n",
       "      <th>place</th>\n",
       "      <td>None</td>\n",
       "      <td>None</td>\n",
       "      <td>None</td>\n",
       "    </tr>\n",
       "    <tr>\n",
       "      <th>contributors</th>\n",
       "      <td>None</td>\n",
       "      <td>None</td>\n",
       "      <td>None</td>\n",
       "    </tr>\n",
       "    <tr>\n",
       "      <th>is_quote_status</th>\n",
       "      <td>False</td>\n",
       "      <td>False</td>\n",
       "      <td>False</td>\n",
       "    </tr>\n",
       "    <tr>\n",
       "      <th>retweet_count</th>\n",
       "      <td>8853</td>\n",
       "      <td>6514</td>\n",
       "      <td>4328</td>\n",
       "    </tr>\n",
       "    <tr>\n",
       "      <th>favorite_count</th>\n",
       "      <td>39467</td>\n",
       "      <td>33819</td>\n",
       "      <td>25461</td>\n",
       "    </tr>\n",
       "    <tr>\n",
       "      <th>favorited</th>\n",
       "      <td>False</td>\n",
       "      <td>False</td>\n",
       "      <td>False</td>\n",
       "    </tr>\n",
       "    <tr>\n",
       "      <th>retweeted</th>\n",
       "      <td>False</td>\n",
       "      <td>False</td>\n",
       "      <td>False</td>\n",
       "    </tr>\n",
       "    <tr>\n",
       "      <th>possibly_sensitive</th>\n",
       "      <td>False</td>\n",
       "      <td>False</td>\n",
       "      <td>False</td>\n",
       "    </tr>\n",
       "    <tr>\n",
       "      <th>possibly_sensitive_appealable</th>\n",
       "      <td>False</td>\n",
       "      <td>False</td>\n",
       "      <td>False</td>\n",
       "    </tr>\n",
       "    <tr>\n",
       "      <th>lang</th>\n",
       "      <td>en</td>\n",
       "      <td>en</td>\n",
       "      <td>en</td>\n",
       "    </tr>\n",
       "    <tr>\n",
       "      <th>retweeted_status</th>\n",
       "      <td>NaN</td>\n",
       "      <td>NaN</td>\n",
       "      <td>NaN</td>\n",
       "    </tr>\n",
       "    <tr>\n",
       "      <th>quoted_status_id</th>\n",
       "      <td>NaN</td>\n",
       "      <td>NaN</td>\n",
       "      <td>NaN</td>\n",
       "    </tr>\n",
       "    <tr>\n",
       "      <th>quoted_status_id_str</th>\n",
       "      <td>NaN</td>\n",
       "      <td>NaN</td>\n",
       "      <td>NaN</td>\n",
       "    </tr>\n",
       "    <tr>\n",
       "      <th>quoted_status</th>\n",
       "      <td>NaN</td>\n",
       "      <td>NaN</td>\n",
       "      <td>NaN</td>\n",
       "    </tr>\n",
       "  </tbody>\n",
       "</table>\n",
       "</div>"
      ],
      "text/plain": [
       "                                                                               0  \\\n",
       "created_at                                        Tue Aug 01 16:23:56 +0000 2017   \n",
       "id                                                            892420643555336193   \n",
       "id_str                                                        892420643555336193   \n",
       "full_text                      This is Phineas. He's a mystical boy. Only eve...   \n",
       "truncated                                                                  False   \n",
       "display_text_range                                                       [0, 85]   \n",
       "entities                       {'hashtags': [], 'symbols': [], 'user_mentions...   \n",
       "extended_entities              {'media': [{'id': 892420639486877696, 'id_str'...   \n",
       "source                         <a href=\"http://twitter.com/download/iphone\" r...   \n",
       "in_reply_to_status_id                                                        NaN   \n",
       "in_reply_to_status_id_str                                                   None   \n",
       "in_reply_to_user_id                                                          NaN   \n",
       "in_reply_to_user_id_str                                                     None   \n",
       "in_reply_to_screen_name                                                     None   \n",
       "user                           {'id': 4196983835, 'id_str': '4196983835', 'na...   \n",
       "geo                                                                         None   \n",
       "coordinates                                                                 None   \n",
       "place                                                                       None   \n",
       "contributors                                                                None   \n",
       "is_quote_status                                                            False   \n",
       "retweet_count                                                               8853   \n",
       "favorite_count                                                             39467   \n",
       "favorited                                                                  False   \n",
       "retweeted                                                                  False   \n",
       "possibly_sensitive                                                         False   \n",
       "possibly_sensitive_appealable                                              False   \n",
       "lang                                                                          en   \n",
       "retweeted_status                                                             NaN   \n",
       "quoted_status_id                                                             NaN   \n",
       "quoted_status_id_str                                                         NaN   \n",
       "quoted_status                                                                NaN   \n",
       "\n",
       "                                                                               1  \\\n",
       "created_at                                        Tue Aug 01 00:17:27 +0000 2017   \n",
       "id                                                            892177421306343426   \n",
       "id_str                                                        892177421306343426   \n",
       "full_text                      This is Tilly. She's just checking pup on you....   \n",
       "truncated                                                                  False   \n",
       "display_text_range                                                      [0, 138]   \n",
       "entities                       {'hashtags': [], 'symbols': [], 'user_mentions...   \n",
       "extended_entities              {'media': [{'id': 892177413194625024, 'id_str'...   \n",
       "source                         <a href=\"http://twitter.com/download/iphone\" r...   \n",
       "in_reply_to_status_id                                                        NaN   \n",
       "in_reply_to_status_id_str                                                   None   \n",
       "in_reply_to_user_id                                                          NaN   \n",
       "in_reply_to_user_id_str                                                     None   \n",
       "in_reply_to_screen_name                                                     None   \n",
       "user                           {'id': 4196983835, 'id_str': '4196983835', 'na...   \n",
       "geo                                                                         None   \n",
       "coordinates                                                                 None   \n",
       "place                                                                       None   \n",
       "contributors                                                                None   \n",
       "is_quote_status                                                            False   \n",
       "retweet_count                                                               6514   \n",
       "favorite_count                                                             33819   \n",
       "favorited                                                                  False   \n",
       "retweeted                                                                  False   \n",
       "possibly_sensitive                                                         False   \n",
       "possibly_sensitive_appealable                                              False   \n",
       "lang                                                                          en   \n",
       "retweeted_status                                                             NaN   \n",
       "quoted_status_id                                                             NaN   \n",
       "quoted_status_id_str                                                         NaN   \n",
       "quoted_status                                                                NaN   \n",
       "\n",
       "                                                                               2  \n",
       "created_at                                        Mon Jul 31 00:18:03 +0000 2017  \n",
       "id                                                            891815181378084864  \n",
       "id_str                                                        891815181378084864  \n",
       "full_text                      This is Archie. He is a rare Norwegian Pouncin...  \n",
       "truncated                                                                  False  \n",
       "display_text_range                                                      [0, 121]  \n",
       "entities                       {'hashtags': [], 'symbols': [], 'user_mentions...  \n",
       "extended_entities              {'media': [{'id': 891815175371796480, 'id_str'...  \n",
       "source                         <a href=\"http://twitter.com/download/iphone\" r...  \n",
       "in_reply_to_status_id                                                        NaN  \n",
       "in_reply_to_status_id_str                                                   None  \n",
       "in_reply_to_user_id                                                          NaN  \n",
       "in_reply_to_user_id_str                                                     None  \n",
       "in_reply_to_screen_name                                                     None  \n",
       "user                           {'id': 4196983835, 'id_str': '4196983835', 'na...  \n",
       "geo                                                                         None  \n",
       "coordinates                                                                 None  \n",
       "place                                                                       None  \n",
       "contributors                                                                None  \n",
       "is_quote_status                                                            False  \n",
       "retweet_count                                                               4328  \n",
       "favorite_count                                                             25461  \n",
       "favorited                                                                  False  \n",
       "retweeted                                                                  False  \n",
       "possibly_sensitive                                                         False  \n",
       "possibly_sensitive_appealable                                              False  \n",
       "lang                                                                          en  \n",
       "retweeted_status                                                             NaN  \n",
       "quoted_status_id                                                             NaN  \n",
       "quoted_status_id_str                                                         NaN  \n",
       "quoted_status                                                                NaN  "
      ]
     },
     "execution_count": 21,
     "metadata": {},
     "output_type": "execute_result"
    }
   ],
   "source": [
    "# Looking at the content of tweets_df\n",
    "tweets_df.head(3).T"
   ]
  },
  {
   "cell_type": "code",
   "execution_count": 22,
   "metadata": {
    "scrolled": true
   },
   "outputs": [
    {
     "name": "stdout",
     "output_type": "stream",
     "text": [
      "<class 'pandas.core.frame.DataFrame'>\n",
      "RangeIndex: 2354 entries, 0 to 2353\n",
      "Data columns (total 31 columns):\n",
      " #   Column                         Non-Null Count  Dtype  \n",
      "---  ------                         --------------  -----  \n",
      " 0   created_at                     2354 non-null   object \n",
      " 1   id                             2354 non-null   int64  \n",
      " 2   id_str                         2354 non-null   object \n",
      " 3   full_text                      2354 non-null   object \n",
      " 4   truncated                      2354 non-null   bool   \n",
      " 5   display_text_range             2354 non-null   object \n",
      " 6   entities                       2354 non-null   object \n",
      " 7   extended_entities              2073 non-null   object \n",
      " 8   source                         2354 non-null   object \n",
      " 9   in_reply_to_status_id          78 non-null     float64\n",
      " 10  in_reply_to_status_id_str      78 non-null     object \n",
      " 11  in_reply_to_user_id            78 non-null     float64\n",
      " 12  in_reply_to_user_id_str        78 non-null     object \n",
      " 13  in_reply_to_screen_name        78 non-null     object \n",
      " 14  user                           2354 non-null   object \n",
      " 15  geo                            0 non-null      object \n",
      " 16  coordinates                    0 non-null      object \n",
      " 17  place                          1 non-null      object \n",
      " 18  contributors                   0 non-null      object \n",
      " 19  is_quote_status                2354 non-null   bool   \n",
      " 20  retweet_count                  2354 non-null   int64  \n",
      " 21  favorite_count                 2354 non-null   int64  \n",
      " 22  favorited                      2354 non-null   bool   \n",
      " 23  retweeted                      2354 non-null   bool   \n",
      " 24  possibly_sensitive             2211 non-null   object \n",
      " 25  possibly_sensitive_appealable  2211 non-null   object \n",
      " 26  lang                           2354 non-null   object \n",
      " 27  retweeted_status               179 non-null    object \n",
      " 28  quoted_status_id               29 non-null     float64\n",
      " 29  quoted_status_id_str           29 non-null     object \n",
      " 30  quoted_status                  28 non-null     object \n",
      "dtypes: bool(4), float64(3), int64(3), object(21)\n",
      "memory usage: 505.9+ KB\n"
     ]
    }
   ],
   "source": [
    "# Looking at the structure of tweets_df\n",
    "tweets_df.info()"
   ]
  },
  {
   "cell_type": "code",
   "execution_count": 23,
   "metadata": {
    "scrolled": true
   },
   "outputs": [
    {
     "data": {
      "text/html": [
       "<div>\n",
       "<style scoped>\n",
       "    .dataframe tbody tr th:only-of-type {\n",
       "        vertical-align: middle;\n",
       "    }\n",
       "\n",
       "    .dataframe tbody tr th {\n",
       "        vertical-align: top;\n",
       "    }\n",
       "\n",
       "    .dataframe thead th {\n",
       "        text-align: right;\n",
       "    }\n",
       "</style>\n",
       "<table border=\"1\" class=\"dataframe\">\n",
       "  <thead>\n",
       "    <tr style=\"text-align: right;\">\n",
       "      <th></th>\n",
       "      <th>2072</th>\n",
       "      <th>2073</th>\n",
       "      <th>2074</th>\n",
       "    </tr>\n",
       "  </thead>\n",
       "  <tbody>\n",
       "    <tr>\n",
       "      <th>tweet_id</th>\n",
       "      <td>891815181378084864</td>\n",
       "      <td>892177421306343426</td>\n",
       "      <td>892420643555336193</td>\n",
       "    </tr>\n",
       "    <tr>\n",
       "      <th>jpg_url</th>\n",
       "      <td>https://pbs.twimg.com/media/DGBdLU1WsAANxJ9.jpg</td>\n",
       "      <td>https://pbs.twimg.com/media/DGGmoV4XsAAUL6n.jpg</td>\n",
       "      <td>https://pbs.twimg.com/media/DGKD1-bXoAAIAUK.jpg</td>\n",
       "    </tr>\n",
       "    <tr>\n",
       "      <th>img_num</th>\n",
       "      <td>1</td>\n",
       "      <td>1</td>\n",
       "      <td>1</td>\n",
       "    </tr>\n",
       "    <tr>\n",
       "      <th>p1</th>\n",
       "      <td>Chihuahua</td>\n",
       "      <td>Chihuahua</td>\n",
       "      <td>orange</td>\n",
       "    </tr>\n",
       "    <tr>\n",
       "      <th>p1_conf</th>\n",
       "      <td>0.716012</td>\n",
       "      <td>0.323581</td>\n",
       "      <td>0.097049</td>\n",
       "    </tr>\n",
       "    <tr>\n",
       "      <th>p1_dog</th>\n",
       "      <td>True</td>\n",
       "      <td>True</td>\n",
       "      <td>False</td>\n",
       "    </tr>\n",
       "    <tr>\n",
       "      <th>p2</th>\n",
       "      <td>malamute</td>\n",
       "      <td>Pekinese</td>\n",
       "      <td>bagel</td>\n",
       "    </tr>\n",
       "    <tr>\n",
       "      <th>p2_conf</th>\n",
       "      <td>0.078253</td>\n",
       "      <td>0.090647</td>\n",
       "      <td>0.085851</td>\n",
       "    </tr>\n",
       "    <tr>\n",
       "      <th>p2_dog</th>\n",
       "      <td>True</td>\n",
       "      <td>True</td>\n",
       "      <td>False</td>\n",
       "    </tr>\n",
       "    <tr>\n",
       "      <th>p3</th>\n",
       "      <td>kelpie</td>\n",
       "      <td>papillon</td>\n",
       "      <td>banana</td>\n",
       "    </tr>\n",
       "    <tr>\n",
       "      <th>p3_conf</th>\n",
       "      <td>0.031379</td>\n",
       "      <td>0.068957</td>\n",
       "      <td>0.07611</td>\n",
       "    </tr>\n",
       "    <tr>\n",
       "      <th>p3_dog</th>\n",
       "      <td>True</td>\n",
       "      <td>True</td>\n",
       "      <td>False</td>\n",
       "    </tr>\n",
       "  </tbody>\n",
       "</table>\n",
       "</div>"
      ],
      "text/plain": [
       "                                                     2072  \\\n",
       "tweet_id                               891815181378084864   \n",
       "jpg_url   https://pbs.twimg.com/media/DGBdLU1WsAANxJ9.jpg   \n",
       "img_num                                                 1   \n",
       "p1                                              Chihuahua   \n",
       "p1_conf                                          0.716012   \n",
       "p1_dog                                               True   \n",
       "p2                                               malamute   \n",
       "p2_conf                                          0.078253   \n",
       "p2_dog                                               True   \n",
       "p3                                                 kelpie   \n",
       "p3_conf                                          0.031379   \n",
       "p3_dog                                               True   \n",
       "\n",
       "                                                     2073  \\\n",
       "tweet_id                               892177421306343426   \n",
       "jpg_url   https://pbs.twimg.com/media/DGGmoV4XsAAUL6n.jpg   \n",
       "img_num                                                 1   \n",
       "p1                                              Chihuahua   \n",
       "p1_conf                                          0.323581   \n",
       "p1_dog                                               True   \n",
       "p2                                               Pekinese   \n",
       "p2_conf                                          0.090647   \n",
       "p2_dog                                               True   \n",
       "p3                                               papillon   \n",
       "p3_conf                                          0.068957   \n",
       "p3_dog                                               True   \n",
       "\n",
       "                                                     2074  \n",
       "tweet_id                               892420643555336193  \n",
       "jpg_url   https://pbs.twimg.com/media/DGKD1-bXoAAIAUK.jpg  \n",
       "img_num                                                 1  \n",
       "p1                                                 orange  \n",
       "p1_conf                                          0.097049  \n",
       "p1_dog                                              False  \n",
       "p2                                                  bagel  \n",
       "p2_conf                                          0.085851  \n",
       "p2_dog                                              False  \n",
       "p3                                                 banana  \n",
       "p3_conf                                           0.07611  \n",
       "p3_dog                                              False  "
      ]
     },
     "execution_count": 23,
     "metadata": {},
     "output_type": "execute_result"
    }
   ],
   "source": [
    "# Looking at the content of image_predictions_df\n",
    "image_predictions_df.tail(3).T"
   ]
  },
  {
   "cell_type": "code",
   "execution_count": 24,
   "metadata": {},
   "outputs": [
    {
     "name": "stdout",
     "output_type": "stream",
     "text": [
      "<class 'pandas.core.frame.DataFrame'>\n",
      "RangeIndex: 2075 entries, 0 to 2074\n",
      "Data columns (total 12 columns):\n",
      " #   Column    Non-Null Count  Dtype  \n",
      "---  ------    --------------  -----  \n",
      " 0   tweet_id  2075 non-null   int64  \n",
      " 1   jpg_url   2075 non-null   object \n",
      " 2   img_num   2075 non-null   int64  \n",
      " 3   p1        2075 non-null   object \n",
      " 4   p1_conf   2075 non-null   float64\n",
      " 5   p1_dog    2075 non-null   bool   \n",
      " 6   p2        2075 non-null   object \n",
      " 7   p2_conf   2075 non-null   float64\n",
      " 8   p2_dog    2075 non-null   bool   \n",
      " 9   p3        2075 non-null   object \n",
      " 10  p3_conf   2075 non-null   float64\n",
      " 11  p3_dog    2075 non-null   bool   \n",
      "dtypes: bool(3), float64(3), int64(2), object(4)\n",
      "memory usage: 152.1+ KB\n"
     ]
    }
   ],
   "source": [
    "# Observing the structure of image_predictions_df\n",
    "image_predictions_df.info()"
   ]
  },
  {
   "cell_type": "code",
   "execution_count": 25,
   "metadata": {},
   "outputs": [],
   "source": [
    "# sum(tweets_df.duplicated())"
   ]
  },
  {
   "cell_type": "code",
   "execution_count": null,
   "metadata": {},
   "outputs": [],
   "source": []
  },
  {
   "cell_type": "markdown",
   "metadata": {},
   "source": [
    "**Checking if there are dogs with multiple stages**                      \n",
    "Since the \"stages name as column\" issue will be dealt with by pandas.melt(), it is good to make sure if there are dogs with more than one stage (in order to be aware of duplicate tweet id)."
   ]
  },
  {
   "cell_type": "code",
   "execution_count": 26,
   "metadata": {},
   "outputs": [
    {
     "data": {
      "text/plain": [
       "'\\nTODO : \\n - create a new column named stage_count, which will contain the number of stages associated with a dog\\n - loop through each sample in the df, in order to count the number of its stage\\n - retrieve and assess sample with stage_count>1 \\n'"
      ]
     },
     "execution_count": 26,
     "metadata": {},
     "output_type": "execute_result"
    }
   ],
   "source": [
    "\"\"\"\n",
    "TODO : \n",
    " - create a new column named nb_stage, which will contain the number of stages associated with a dog\n",
    " - loop through each sample in the df, in order to count the number of its stage\n",
    " - retrieve and assess sample with nb_stage>1 \n",
    "\"\"\""
   ]
  },
  {
   "cell_type": "code",
   "execution_count": 31,
   "metadata": {},
   "outputs": [
    {
     "data": {
      "text/plain": [
       "array([0], dtype=int64)"
      ]
     },
     "execution_count": 31,
     "metadata": {},
     "output_type": "execute_result"
    }
   ],
   "source": [
    "twitter_archive_df[\"nb_stage\"] = 0\n",
    "twitter_archive_df[\"nb_stage\"].unique()"
   ]
  },
  {
   "cell_type": "code",
   "execution_count": 32,
   "metadata": {},
   "outputs": [
    {
     "data": {
      "text/html": [
       "<div>\n",
       "<style scoped>\n",
       "    .dataframe tbody tr th:only-of-type {\n",
       "        vertical-align: middle;\n",
       "    }\n",
       "\n",
       "    .dataframe tbody tr th {\n",
       "        vertical-align: top;\n",
       "    }\n",
       "\n",
       "    .dataframe thead th {\n",
       "        text-align: right;\n",
       "    }\n",
       "</style>\n",
       "<table border=\"1\" class=\"dataframe\">\n",
       "  <thead>\n",
       "    <tr style=\"text-align: right;\">\n",
       "      <th></th>\n",
       "      <th>0</th>\n",
       "      <th>1</th>\n",
       "      <th>2</th>\n",
       "    </tr>\n",
       "  </thead>\n",
       "  <tbody>\n",
       "    <tr>\n",
       "      <th>tweet_id</th>\n",
       "      <td>892420643555336193</td>\n",
       "      <td>892177421306343426</td>\n",
       "      <td>891815181378084864</td>\n",
       "    </tr>\n",
       "    <tr>\n",
       "      <th>in_reply_to_status_id</th>\n",
       "      <td>NaN</td>\n",
       "      <td>NaN</td>\n",
       "      <td>NaN</td>\n",
       "    </tr>\n",
       "    <tr>\n",
       "      <th>in_reply_to_user_id</th>\n",
       "      <td>NaN</td>\n",
       "      <td>NaN</td>\n",
       "      <td>NaN</td>\n",
       "    </tr>\n",
       "    <tr>\n",
       "      <th>timestamp</th>\n",
       "      <td>2017-08-01 16:23:56 +0000</td>\n",
       "      <td>2017-08-01 00:17:27 +0000</td>\n",
       "      <td>2017-07-31 00:18:03 +0000</td>\n",
       "    </tr>\n",
       "    <tr>\n",
       "      <th>source</th>\n",
       "      <td>&lt;a href=\"http://twitter.com/download/iphone\" r...</td>\n",
       "      <td>&lt;a href=\"http://twitter.com/download/iphone\" r...</td>\n",
       "      <td>&lt;a href=\"http://twitter.com/download/iphone\" r...</td>\n",
       "    </tr>\n",
       "    <tr>\n",
       "      <th>text</th>\n",
       "      <td>This is Phineas. He's a mystical boy. Only eve...</td>\n",
       "      <td>This is Tilly. She's just checking pup on you....</td>\n",
       "      <td>This is Archie. He is a rare Norwegian Pouncin...</td>\n",
       "    </tr>\n",
       "    <tr>\n",
       "      <th>retweeted_status_id</th>\n",
       "      <td>NaN</td>\n",
       "      <td>NaN</td>\n",
       "      <td>NaN</td>\n",
       "    </tr>\n",
       "    <tr>\n",
       "      <th>retweeted_status_user_id</th>\n",
       "      <td>NaN</td>\n",
       "      <td>NaN</td>\n",
       "      <td>NaN</td>\n",
       "    </tr>\n",
       "    <tr>\n",
       "      <th>retweeted_status_timestamp</th>\n",
       "      <td>NaN</td>\n",
       "      <td>NaN</td>\n",
       "      <td>NaN</td>\n",
       "    </tr>\n",
       "    <tr>\n",
       "      <th>expanded_urls</th>\n",
       "      <td>https://twitter.com/dog_rates/status/892420643...</td>\n",
       "      <td>https://twitter.com/dog_rates/status/892177421...</td>\n",
       "      <td>https://twitter.com/dog_rates/status/891815181...</td>\n",
       "    </tr>\n",
       "    <tr>\n",
       "      <th>rating_numerator</th>\n",
       "      <td>13</td>\n",
       "      <td>13</td>\n",
       "      <td>12</td>\n",
       "    </tr>\n",
       "    <tr>\n",
       "      <th>rating_denominator</th>\n",
       "      <td>10</td>\n",
       "      <td>10</td>\n",
       "      <td>10</td>\n",
       "    </tr>\n",
       "    <tr>\n",
       "      <th>name</th>\n",
       "      <td>Phineas</td>\n",
       "      <td>Tilly</td>\n",
       "      <td>Archie</td>\n",
       "    </tr>\n",
       "    <tr>\n",
       "      <th>doggo</th>\n",
       "      <td>None</td>\n",
       "      <td>None</td>\n",
       "      <td>None</td>\n",
       "    </tr>\n",
       "    <tr>\n",
       "      <th>floofer</th>\n",
       "      <td>None</td>\n",
       "      <td>None</td>\n",
       "      <td>None</td>\n",
       "    </tr>\n",
       "    <tr>\n",
       "      <th>pupper</th>\n",
       "      <td>None</td>\n",
       "      <td>None</td>\n",
       "      <td>None</td>\n",
       "    </tr>\n",
       "    <tr>\n",
       "      <th>puppo</th>\n",
       "      <td>None</td>\n",
       "      <td>None</td>\n",
       "      <td>None</td>\n",
       "    </tr>\n",
       "    <tr>\n",
       "      <th>nb_stage</th>\n",
       "      <td>0</td>\n",
       "      <td>0</td>\n",
       "      <td>0</td>\n",
       "    </tr>\n",
       "  </tbody>\n",
       "</table>\n",
       "</div>"
      ],
      "text/plain": [
       "                                                                            0  \\\n",
       "tweet_id                                                   892420643555336193   \n",
       "in_reply_to_status_id                                                     NaN   \n",
       "in_reply_to_user_id                                                       NaN   \n",
       "timestamp                                           2017-08-01 16:23:56 +0000   \n",
       "source                      <a href=\"http://twitter.com/download/iphone\" r...   \n",
       "text                        This is Phineas. He's a mystical boy. Only eve...   \n",
       "retweeted_status_id                                                       NaN   \n",
       "retweeted_status_user_id                                                  NaN   \n",
       "retweeted_status_timestamp                                                NaN   \n",
       "expanded_urls               https://twitter.com/dog_rates/status/892420643...   \n",
       "rating_numerator                                                           13   \n",
       "rating_denominator                                                         10   \n",
       "name                                                                  Phineas   \n",
       "doggo                                                                    None   \n",
       "floofer                                                                  None   \n",
       "pupper                                                                   None   \n",
       "puppo                                                                    None   \n",
       "nb_stage                                                                    0   \n",
       "\n",
       "                                                                            1  \\\n",
       "tweet_id                                                   892177421306343426   \n",
       "in_reply_to_status_id                                                     NaN   \n",
       "in_reply_to_user_id                                                       NaN   \n",
       "timestamp                                           2017-08-01 00:17:27 +0000   \n",
       "source                      <a href=\"http://twitter.com/download/iphone\" r...   \n",
       "text                        This is Tilly. She's just checking pup on you....   \n",
       "retweeted_status_id                                                       NaN   \n",
       "retweeted_status_user_id                                                  NaN   \n",
       "retweeted_status_timestamp                                                NaN   \n",
       "expanded_urls               https://twitter.com/dog_rates/status/892177421...   \n",
       "rating_numerator                                                           13   \n",
       "rating_denominator                                                         10   \n",
       "name                                                                    Tilly   \n",
       "doggo                                                                    None   \n",
       "floofer                                                                  None   \n",
       "pupper                                                                   None   \n",
       "puppo                                                                    None   \n",
       "nb_stage                                                                    0   \n",
       "\n",
       "                                                                            2  \n",
       "tweet_id                                                   891815181378084864  \n",
       "in_reply_to_status_id                                                     NaN  \n",
       "in_reply_to_user_id                                                       NaN  \n",
       "timestamp                                           2017-07-31 00:18:03 +0000  \n",
       "source                      <a href=\"http://twitter.com/download/iphone\" r...  \n",
       "text                        This is Archie. He is a rare Norwegian Pouncin...  \n",
       "retweeted_status_id                                                       NaN  \n",
       "retweeted_status_user_id                                                  NaN  \n",
       "retweeted_status_timestamp                                                NaN  \n",
       "expanded_urls               https://twitter.com/dog_rates/status/891815181...  \n",
       "rating_numerator                                                           12  \n",
       "rating_denominator                                                         10  \n",
       "name                                                                   Archie  \n",
       "doggo                                                                    None  \n",
       "floofer                                                                  None  \n",
       "pupper                                                                   None  \n",
       "puppo                                                                    None  \n",
       "nb_stage                                                                    0  "
      ]
     },
     "execution_count": 32,
     "metadata": {},
     "output_type": "execute_result"
    }
   ],
   "source": [
    "twitter_archive_df.head(3).T"
   ]
  },
  {
   "cell_type": "code",
   "execution_count": 37,
   "metadata": {},
   "outputs": [
    {
     "data": {
      "text/plain": [
       "array([0, 1, 2], dtype=int64)"
      ]
     },
     "execution_count": 37,
     "metadata": {},
     "output_type": "execute_result"
    }
   ],
   "source": [
    "# Counting the number of stage associated with each dog\n",
    "stage_cols = [\"doggo\",\"floofer\",\"pupper\",\"puppo\"]\n",
    "\n",
    "for index,row in twitter_archive_df.iterrows(): \n",
    "    nb_stage=0\n",
    "    for col in stage_cols:\n",
    "        if row[col]!= \"None\":\n",
    "            nb_stage+=1\n",
    "    twitter_archive_df.loc[index,\"nb_stage\"] = nb_stage\n",
    "\n",
    "twitter_archive_df[\"nb_stage\"].unique()"
   ]
  },
  {
   "cell_type": "markdown",
   "metadata": {},
   "source": [
    "We can see that some dogs are associated with more than one stage, which we should investigate."
   ]
  },
  {
   "cell_type": "code",
   "execution_count": 40,
   "metadata": {},
   "outputs": [
    {
     "data": {
      "text/plain": [
       "(14, 18)"
      ]
     },
     "execution_count": 40,
     "metadata": {},
     "output_type": "execute_result"
    }
   ],
   "source": [
    "tweets_with_many_stages = twitter_archive_df[ twitter_archive_df[\"nb_stage\"]>1 ]\n",
    "tweets_with_many_stages.shape"
   ]
  },
  {
   "cell_type": "code",
   "execution_count": 27,
   "metadata": {},
   "outputs": [
    {
     "ename": "SyntaxError",
     "evalue": "invalid syntax (<ipython-input-27-6386f29f65b9>, line 1)",
     "output_type": "error",
     "traceback": [
      "\u001b[1;36m  File \u001b[1;32m\"<ipython-input-27-6386f29f65b9>\"\u001b[1;36m, line \u001b[1;32m1\u001b[0m\n\u001b[1;33m    ///////////\u001b[0m\n\u001b[1;37m    ^\u001b[0m\n\u001b[1;31mSyntaxError\u001b[0m\u001b[1;31m:\u001b[0m invalid syntax\n"
     ]
    }
   ],
   "source": [
    "///////////"
   ]
  },
  {
   "cell_type": "code",
   "execution_count": null,
   "metadata": {},
   "outputs": [],
   "source": []
  },
  {
   "cell_type": "markdown",
   "metadata": {
    "extensions": {
     "jupyter_dashboards": {
      "version": 1,
      "views": {
       "grid_default": {
        "col": 0,
        "height": 7,
        "hidden": false,
        "row": 40,
        "width": 12
       },
       "report_default": {
        "hidden": false
       }
      }
     }
    }
   },
   "source": [
    "### Tidiness issues\n",
    "1. `twitter_archive_df` and `tweets_df` should form one dataframe instead being two different dataframes.\n",
    "\n",
    "1. `twitter_archive_df` has values as columns for the stage of the dog.\n",
    "\n",
    "1. `twitter_archive_df` has useless columns for our purpose, such as status_id, status_user_id, status_timestamp, ...\n",
    "\n",
    "1. `tweets_df.user` should contains the id of another dataframe named `user`.\n",
    "\n",
    "1. `twitter_archive_df` and `image_predictions_df` should form one dataframe instead being two different dataframes."
   ]
  },
  {
   "cell_type": "markdown",
   "metadata": {},
   "source": [
    "### Quality issues \n",
    "1. `twitter_archive_df['source']` has tag `a` as value instead of the value of `href` attribute\n",
    "\n",
    "1. Wrong datatypes in `twitter_archive_df` in the following columns : `timestamp`\n",
    "\n",
    "1. `twitter_archive_df` has retweet samples, which are useless for our purpose (according to the project instructions)\n",
    "\n",
    "1. Null values in the following columns of `twitter_archive_df` : `in_reply_to_status_id, in_reply_to_user_id, retweeted_status_id, retweeted_status_user_id, retweeted_status_timestamp, expanded_urls`.\n",
    "\n",
    "1. Useless columns in `tweet_df`\n",
    "\n",
    "1. `tweets_df.created` has value beyond August 1st, 2017, which mean those sample will not have corresponding value in image_predictions_df\n",
    "\n",
    "1. Some samples in `image_predictions_df` are not dog\n",
    "\n",
    "1. In columns `p1`, `p2`, and `p3` of `image_predictions_df`, some values are capitalized while others are not\n",
    "\n",
    "1. In `image_predictions_df`, only the most confident prediction is relevant\n"
   ]
  },
  {
   "cell_type": "code",
   "execution_count": null,
   "metadata": {},
   "outputs": [],
   "source": []
  },
  {
   "cell_type": "markdown",
   "metadata": {
    "extensions": {
     "jupyter_dashboards": {
      "version": 1,
      "views": {
       "grid_default": {
        "col": 4,
        "height": 4,
        "hidden": false,
        "row": 32,
        "width": 4
       },
       "report_default": {
        "hidden": false
       }
      }
     }
    }
   },
   "source": [
    "## Cleaning Data\n",
    "In this section, I will clean all of the issues I documented while assessing. "
   ]
  },
  {
   "cell_type": "markdown",
   "metadata": {},
   "source": [
    "Made copies of original image_predictions_df. It is useless to make copy of the others dataframe since they will be merged."
   ]
  },
  {
   "cell_type": "code",
   "execution_count": null,
   "metadata": {},
   "outputs": [],
   "source": [
    "# Make copies of original image_predictions_df\n",
    "\n",
    "#tweets_clean = tweets_df.copy()\n",
    "#twitter_archive_clean = twitter_archive_df.copy()\n",
    "image_predictions_clean = image_predictions_df.copy()\n"
   ]
  },
  {
   "cell_type": "code",
   "execution_count": null,
   "metadata": {},
   "outputs": [],
   "source": []
  },
  {
   "cell_type": "markdown",
   "metadata": {},
   "source": [
    "### Issue #5 (quality) : Useless columns in `tweets_df`"
   ]
  },
  {
   "cell_type": "code",
   "execution_count": null,
   "metadata": {},
   "outputs": [],
   "source": [
    "tweets_df.head(2).T"
   ]
  },
  {
   "cell_type": "markdown",
   "metadata": {},
   "source": [
    "#### Define\n",
    "In `tweets_df`, only keep `\"id\",\"retweet_count\",\"favorite_count\",\"user\",\"retweeted\"` as useful columns"
   ]
  },
  {
   "cell_type": "markdown",
   "metadata": {},
   "source": [
    "#### Code"
   ]
  },
  {
   "cell_type": "code",
   "execution_count": null,
   "metadata": {},
   "outputs": [],
   "source": [
    "# Keep useful columns while discarding the others, as per the project instructions\n",
    "tweets_df = tweets_df[ [\"id\",\"retweet_count\",\"favorite_count\",\"user\",\"retweeted\"] ]"
   ]
  },
  {
   "cell_type": "markdown",
   "metadata": {},
   "source": [
    "#### Test"
   ]
  },
  {
   "cell_type": "code",
   "execution_count": null,
   "metadata": {},
   "outputs": [],
   "source": [
    "tweets_df.head(3)"
   ]
  },
  {
   "cell_type": "code",
   "execution_count": null,
   "metadata": {},
   "outputs": [],
   "source": []
  },
  {
   "cell_type": "markdown",
   "metadata": {},
   "source": [
    "### Issue #1 (tidiness): `twitter_archive_df` and `tweets_df` should form one dataframe instead being two different dataframes."
   ]
  },
  {
   "cell_type": "code",
   "execution_count": null,
   "metadata": {},
   "outputs": [],
   "source": [
    "twitter_archive_df.head(2).T"
   ]
  },
  {
   "cell_type": "code",
   "execution_count": null,
   "metadata": {},
   "outputs": [],
   "source": [
    "twitter_archive_df.shape"
   ]
  },
  {
   "cell_type": "code",
   "execution_count": null,
   "metadata": {},
   "outputs": [],
   "source": [
    "tweets_df.head()"
   ]
  },
  {
   "cell_type": "code",
   "execution_count": null,
   "metadata": {},
   "outputs": [],
   "source": [
    "tweets_df.shape"
   ]
  },
  {
   "cell_type": "markdown",
   "metadata": {},
   "source": [
    "#### Define\n",
    "Merge `twitter_archive_df` and `tweets_df` in one dataframe"
   ]
  },
  {
   "cell_type": "markdown",
   "metadata": {},
   "source": [
    "#### Code"
   ]
  },
  {
   "cell_type": "code",
   "execution_count": null,
   "metadata": {},
   "outputs": [],
   "source": [
    "# All columns in the two datasets\n",
    "# all_columns = pd.Series(list(twitter_archive_clean) + list(tweets_clean) )\n",
    "# all_columns"
   ]
  },
  {
   "cell_type": "code",
   "execution_count": null,
   "metadata": {},
   "outputs": [],
   "source": [
    "# Find duplicated columns\n",
    "# duplicated_columns = all_columns[all_columns.duplicated()]\n",
    "# duplicated_columns"
   ]
  },
  {
   "cell_type": "code",
   "execution_count": null,
   "metadata": {},
   "outputs": [],
   "source": [
    "# Drop duplicated columns from tweets_clean\n",
    "# tweets_clean.drop(duplicated_columns, axis=1, inplace=True)\n",
    "# tweets_clean.head(2).T"
   ]
  },
  {
   "cell_type": "code",
   "execution_count": null,
   "metadata": {},
   "outputs": [],
   "source": [
    "# tweets_clean.shape"
   ]
  },
  {
   "cell_type": "code",
   "execution_count": null,
   "metadata": {},
   "outputs": [],
   "source": [
    "# Merging the two dataset\n",
    "\n",
    "# https://stackoverflow.com/questions/43297589/merge-two-data-frames-based-on-common-column-values-in-pandas\n",
    "twitter_df = twitter_archive_df.merge(tweets_df, how=\"inner\",left_on=\"tweet_id\", right_on=\"id\")\n",
    "twitter_df.shape"
   ]
  },
  {
   "cell_type": "markdown",
   "metadata": {},
   "source": [
    "#### Test"
   ]
  },
  {
   "cell_type": "code",
   "execution_count": null,
   "metadata": {},
   "outputs": [],
   "source": [
    "twitter_df.head(2).T"
   ]
  },
  {
   "cell_type": "code",
   "execution_count": null,
   "metadata": {},
   "outputs": [],
   "source": [
    "# Making sure the merge worked fine\n",
    "twitter_df.shape[1] == twitter_archive_df.shape[1] + tweets_df.shape[1]"
   ]
  },
  {
   "cell_type": "code",
   "execution_count": null,
   "metadata": {},
   "outputs": [],
   "source": [
    "# Dropping redundant id column\n",
    "twitter_df.drop([\"id\"],axis=1, inplace=True)\n",
    "twitter_df.head(2).T"
   ]
  },
  {
   "cell_type": "code",
   "execution_count": null,
   "metadata": {},
   "outputs": [],
   "source": []
  },
  {
   "cell_type": "markdown",
   "metadata": {},
   "source": [
    "### Issue #2 (tidiness): `twitter_archive_df` has values as columns for the stage of the dog.          \n",
    "Those columns are `doggo, floofer, pupper, puppo`"
   ]
  },
  {
   "cell_type": "code",
   "execution_count": null,
   "metadata": {},
   "outputs": [],
   "source": [
    "twitter_df.head(3).T"
   ]
  },
  {
   "cell_type": "markdown",
   "metadata": {},
   "source": [
    "#### Define\n",
    "Melt the dog stage columns into a column which name will be `stage` and which value will be the stage of the dog or NaN depending on weither the stage is known or not."
   ]
  },
  {
   "cell_type": "markdown",
   "metadata": {},
   "source": [
    "#### Code"
   ]
  },
  {
   "cell_type": "code",
   "execution_count": null,
   "metadata": {},
   "outputs": [],
   "source": [
    "id_vars = twitter_df.columns.tolist()\n",
    "id_vars.remove(\"doggo\")\n",
    "id_vars.remove(\"floofer\")\n",
    "id_vars.remove(\"pupper\")\n",
    "id_vars.remove(\"puppo\")\n",
    "id_vars"
   ]
  },
  {
   "cell_type": "code",
   "execution_count": null,
   "metadata": {
    "scrolled": true
   },
   "outputs": [],
   "source": [
    "melted = pd.melt(twitter_df, id_vars=id_vars, var_name=\"stage\", value_name=\"stage_value\")\n",
    "melted.head(3).T"
   ]
  },
  {
   "cell_type": "markdown",
   "metadata": {},
   "source": [
    "Looking at our dataframe, we don't need the `stage_value` column, so will drop it in a while after performing some tidiness cleaning."
   ]
  },
  {
   "cell_type": "code",
   "execution_count": null,
   "metadata": {},
   "outputs": [],
   "source": [
    "melted.shape"
   ]
  },
  {
   "cell_type": "code",
   "execution_count": null,
   "metadata": {},
   "outputs": [],
   "source": [
    "# twitter_df.shape"
   ]
  },
  {
   "cell_type": "code",
   "execution_count": null,
   "metadata": {},
   "outputs": [],
   "source": []
  },
  {
   "cell_type": "markdown",
   "metadata": {},
   "source": [
    "**Analyzing the content of `melted` based on weither the stage of the dog is known or not**"
   ]
  },
  {
   "cell_type": "code",
   "execution_count": null,
   "metadata": {},
   "outputs": [],
   "source": [
    "# Visual assessement of the tweet which id is 892420643555336193 (this tweet dog stage is unknow)\n",
    "melted[ melted[\"tweet_id\"]==892420643555336193 ].T"
   ]
  },
  {
   "cell_type": "markdown",
   "metadata": {},
   "source": [
    "We have 04 entries for the same tweet_id, each corresponding to one of the 04 melted columns. "
   ]
  },
  {
   "cell_type": "markdown",
   "metadata": {},
   "source": [
    "Let's separate `melted` in two different dataframes for a better observation "
   ]
  },
  {
   "cell_type": "code",
   "execution_count": null,
   "metadata": {},
   "outputs": [],
   "source": [
    "# Retrieve the tweets with known dog stage\n",
    "tweets_with_stage_df = melted[ melted[\"stage_value\"] !=\"None\" ]\n",
    "tweets_with_stage_df.head(3).T"
   ]
  },
  {
   "cell_type": "code",
   "execution_count": null,
   "metadata": {},
   "outputs": [],
   "source": [
    "# Visual assessement of a tweet with known dog stage\n",
    "tweets_with_stage_df[ tweets_with_stage_df[\"tweet_id\"]==890240255349198849 ].T"
   ]
  },
  {
   "cell_type": "markdown",
   "metadata": {},
   "source": [
    "We can confirm that there is only one entry for the tweets when dog stage is known. "
   ]
  },
  {
   "cell_type": "code",
   "execution_count": null,
   "metadata": {},
   "outputs": [],
   "source": []
  },
  {
   "cell_type": "code",
   "execution_count": null,
   "metadata": {},
   "outputs": [],
   "source": [
    "# Retrieve the tweets with unknown dog stage\n",
    "tweets_without_stage_df = melted[ melted[\"stage_value\"] ==\"None\" ]\n",
    "tweets_without_stage_df.head(3).T"
   ]
  },
  {
   "cell_type": "code",
   "execution_count": null,
   "metadata": {},
   "outputs": [],
   "source": [
    "# Visual assessement of a tweet with unknown dog stage\n",
    "tweets_without_stage_df[ tweets_without_stage_df[\"tweet_id\"]==892420643555336193 ].T"
   ]
  },
  {
   "cell_type": "markdown",
   "metadata": {},
   "source": [
    "We can observe that there is 04 entries (same number as the number of columns melted) for the tweets when dog stage is unknown."
   ]
  },
  {
   "cell_type": "markdown",
   "metadata": {},
   "source": [
    "Now we will :\n",
    "* replace the values in `tweets_without_stage_df[\"stage\"]` by \"others\"\n",
    "* concatenate `tweets_without_stage_df` to `tweets_with_stage_df`"
   ]
  },
  {
   "cell_type": "code",
   "execution_count": null,
   "metadata": {},
   "outputs": [],
   "source": [
    "# Giving a value to stage column in tweets_without_stage_df (NaN wasn't used in order to have these values ploted on chart)\n",
    "tweets_without_stage_df[\"stage\"] =  \"others\" # np.nan\n",
    "tweets_without_stage_df.head(2).T"
   ]
  },
  {
   "cell_type": "code",
   "execution_count": null,
   "metadata": {},
   "outputs": [],
   "source": [
    "tweets_without_stage_df.shape"
   ]
  },
  {
   "cell_type": "code",
   "execution_count": null,
   "metadata": {},
   "outputs": [],
   "source": [
    "# Drop duplicate value by tweet_id in tweets_without_stage_df\n",
    "tweets_without_stage_df.drop_duplicates(subset=\"tweet_id\",inplace=True)\n",
    "tweets_without_stage_df.shape"
   ]
  },
  {
   "cell_type": "code",
   "execution_count": null,
   "metadata": {},
   "outputs": [],
   "source": [
    "# Concat tweets_without_stage_df and tweets_with_stage_df, in order to form a whole again\n",
    "twitter_clean = pd.concat([tweets_with_stage_df,tweets_without_stage_df], axis=0, ignore_index=True)\n",
    "\n",
    "# Shuffling the dataframe in order to eliminate an eventual bias\n",
    "\"\"\"Reference : https://datagy.io/pandas-shuffle-dataframe/ \"\"\"\n",
    "random_state_seed = 5 # set seed for reproducibility\n",
    "twitter_clean = twitter_clean.sample(frac=1, random_state=random_state_seed).reset_index()\n",
    "\n",
    "\n",
    "twitter_clean.head(3).T"
   ]
  },
  {
   "cell_type": "markdown",
   "metadata": {},
   "source": [
    "Looking at our dataframe, we don't need the `stage_value` column anymore, so we will drop it. We will also drop `index` column, because it is the original index of the samples before they were shuffled."
   ]
  },
  {
   "cell_type": "code",
   "execution_count": null,
   "metadata": {},
   "outputs": [],
   "source": [
    "twitter_df = twitter_clean.drop([\"stage_value\",\"index\"],axis=1)\n",
    "twitter_df.head(3).T"
   ]
  },
  {
   "cell_type": "code",
   "execution_count": null,
   "metadata": {},
   "outputs": [],
   "source": []
  },
  {
   "cell_type": "code",
   "execution_count": null,
   "metadata": {},
   "outputs": [],
   "source": [
    "# the user column is (temporarly) removed from the duplicate checking in order to avoid \"unhashable type: 'dict'\" error\n",
    "#   when using dataframe.duplicated()\n",
    "twitter_df.drop([\"user\"],axis=1).duplicated().sum()"
   ]
  },
  {
   "cell_type": "code",
   "execution_count": null,
   "metadata": {},
   "outputs": [],
   "source": [
    "# double-check the previous duplicate value search, by narowing down the search to the tweet_id\n",
    "twitter_df[\"tweet_id\"].duplicated().sum()"
   ]
  },
  {
   "cell_type": "markdown",
   "metadata": {},
   "source": [
    "There are many duplicated tweet id. I will investigate the issue."
   ]
  },
  {
   "cell_type": "code",
   "execution_count": null,
   "metadata": {},
   "outputs": [],
   "source": [
    "duplicated_tweets_df = twitter_df[twitter_df[\"tweet_id\"].duplicated() ]\n",
    "duplicated_tweets_df.shape"
   ]
  },
  {
   "cell_type": "code",
   "execution_count": null,
   "metadata": {},
   "outputs": [],
   "source": [
    "duplicated_tweets_df.head(3).T"
   ]
  },
  {
   "cell_type": "code",
   "execution_count": null,
   "metadata": {},
   "outputs": [],
   "source": [
    "////////////////////"
   ]
  },
  {
   "cell_type": "code",
   "execution_count": null,
   "metadata": {},
   "outputs": [],
   "source": []
  },
  {
   "cell_type": "markdown",
   "metadata": {},
   "source": [
    "#### Test"
   ]
  },
  {
   "cell_type": "code",
   "execution_count": null,
   "metadata": {},
   "outputs": [],
   "source": [
    "# Checking the occurences in twitter_df[\"stage\"]\n",
    "twitter_df[\"stage\"].unique()"
   ]
  },
  {
   "cell_type": "code",
   "execution_count": null,
   "metadata": {},
   "outputs": [],
   "source": [
    "# Checking the repartition of the dog per their stage\n",
    "twitter_df[\"stage\"].value_counts()"
   ]
  },
  {
   "cell_type": "code",
   "execution_count": null,
   "metadata": {},
   "outputs": [],
   "source": [
    "# Checking for duplicate \n",
    "\n",
    "# the user column is (temporarly) removed from the duplicate checking in order to avoid \"unhashable type: 'dict'\" error\n",
    "#   when using dataframe.duplicated()\n",
    "twitter_df.drop([\"user\"],axis=1).duplicated().sum()"
   ]
  },
  {
   "cell_type": "code",
   "execution_count": null,
   "metadata": {},
   "outputs": [],
   "source": []
  },
  {
   "cell_type": "markdown",
   "metadata": {},
   "source": [
    "\n",
    "<!-- Now we will check the number of column in each of our twitter dataset (the original, and the new) -->"
   ]
  },
  {
   "cell_type": "markdown",
   "metadata": {},
   "source": [
    "### Issue #3 (tidiness): `twitter_archive_df` has useless columns for our purpose          \n",
    "Those columns are `status_id, status_user_id, status_timestamp`.   \n",
    "\n",
    "Our cleaning is to be performed in `twitter_df`"
   ]
  },
  {
   "cell_type": "code",
   "execution_count": null,
   "metadata": {},
   "outputs": [],
   "source": [
    "# Recalling the content of our df\n",
    "twitter_df.head(2).T"
   ]
  },
  {
   "cell_type": "markdown",
   "metadata": {},
   "source": [
    "#### Define\n",
    "\n",
    "Remove columns deemed useless for our purpose from `twitter_df` : `in_reply_to_status_id, in_reply_to_user_id, expanded_urls`."
   ]
  },
  {
   "cell_type": "markdown",
   "metadata": {},
   "source": [
    "#### Code"
   ]
  },
  {
   "cell_type": "code",
   "execution_count": null,
   "metadata": {},
   "outputs": [],
   "source": [
    "useless_columns = [\"in_reply_to_status_id\",\"in_reply_to_user_id\",\"expanded_urls\"]\n",
    "twitter_df.drop(useless_columns, axis=1, inplace=True)"
   ]
  },
  {
   "cell_type": "markdown",
   "metadata": {},
   "source": [
    "#### Test"
   ]
  },
  {
   "cell_type": "code",
   "execution_count": null,
   "metadata": {},
   "outputs": [],
   "source": [
    "# Making sure the dropped columns no longer exist\n",
    "twitter_df.head(2).T"
   ]
  },
  {
   "cell_type": "code",
   "execution_count": null,
   "metadata": {},
   "outputs": [],
   "source": []
  },
  {
   "cell_type": "code",
   "execution_count": null,
   "metadata": {},
   "outputs": [],
   "source": []
  },
  {
   "cell_type": "markdown",
   "metadata": {},
   "source": [
    "### Issue #4 (tidiness): `tweets_df.user` should contains the id of another dataframe named `user`\n",
    "\n",
    "The cleaning it to be performed in `twitter_df`"
   ]
  },
  {
   "cell_type": "code",
   "execution_count": null,
   "metadata": {
    "scrolled": true
   },
   "outputs": [],
   "source": [
    "twitter_df.head(3).T"
   ]
  },
  {
   "cell_type": "markdown",
   "metadata": {},
   "source": [
    "#### Define\n",
    "* Extract values from `twitter_df[\"user\"]`, and use them to populate a new `user_df` dataframe\n",
    "* Replace each value from `twitter_df[\"user\"]` by the user_id\n",
    "* Remove duplicated samples from `user_df`"
   ]
  },
  {
   "cell_type": "markdown",
   "metadata": {},
   "source": [
    "#### Code"
   ]
  },
  {
   "cell_type": "code",
   "execution_count": null,
   "metadata": {},
   "outputs": [],
   "source": [
    "# Retrieve users data from twitter_df[\"user\"]\n",
    "user_list = twitter_df[\"user\"].values.tolist()\n",
    "user_list[1]"
   ]
  },
  {
   "cell_type": "code",
   "execution_count": null,
   "metadata": {},
   "outputs": [],
   "source": [
    "# Create user dataframe\n",
    "user_df = pd.DataFrame(user_list)\n",
    "user_df.head(2).T"
   ]
  },
  {
   "cell_type": "code",
   "execution_count": null,
   "metadata": {},
   "outputs": [],
   "source": [
    "user_df.drop([\"entities\"],axis=1,inplace=True)"
   ]
  },
  {
   "cell_type": "code",
   "execution_count": null,
   "metadata": {},
   "outputs": [],
   "source": [
    "user_df.shape"
   ]
  },
  {
   "cell_type": "code",
   "execution_count": null,
   "metadata": {},
   "outputs": [],
   "source": [
    "user_df.drop_duplicates(inplace=True)"
   ]
  },
  {
   "cell_type": "code",
   "execution_count": null,
   "metadata": {},
   "outputs": [],
   "source": [
    "user_df.shape"
   ]
  },
  {
   "cell_type": "code",
   "execution_count": null,
   "metadata": {},
   "outputs": [],
   "source": [
    "user_df[\"id\"].unique()"
   ]
  },
  {
   "cell_type": "markdown",
   "metadata": {},
   "source": [
    "We are noticing that all entries in `user_df` are about one user. This should be related to the fact it is additionnal data describing the state, and not the attributes, of the users which were stored in `twitter_df[\"user\"]`; this can be explained by how NoSQL databases are usually designed.      \n",
    "Given the situation, `user_df` is of no more use to use, so we will discard it.                \n",
    "Given the situation `twitter_df[\"user\"]` should contain data related to only one user_id. We cannot help but wondering if it is useful to us as a column, and if user mean a person or something like a terminal/source ip."
   ]
  },
  {
   "cell_type": "code",
   "execution_count": null,
   "metadata": {},
   "outputs": [],
   "source": [
    "twitter_df.head(2).T"
   ]
  },
  {
   "cell_type": "code",
   "execution_count": null,
   "metadata": {},
   "outputs": [],
   "source": [
    "# Forming a new column containing the user_id\n",
    "twitter_df[\"user_id\"] = twitter_df[\"user\"].apply(lambda x: x[\"id\"])\n",
    "twitter_df.sample(10).T"
   ]
  },
  {
   "cell_type": "code",
   "execution_count": null,
   "metadata": {},
   "outputs": [],
   "source": [
    "# Confirming that we have the same user_id in our dataframe\n",
    "twitter_df[\"user_id\"].unique()"
   ]
  },
  {
   "cell_type": "markdown",
   "metadata": {},
   "source": [
    "Since we have the same user_id in `twitter_df[\"user_id\"]`, this column is no more useful in our analysis. We will drop it."
   ]
  },
  {
   "cell_type": "code",
   "execution_count": null,
   "metadata": {},
   "outputs": [],
   "source": [
    "# def extract_keysvalue_from_json(json_data:dict, dict_key:str):\n",
    "#     \"\"\"\n",
    "#         Retrieve the value of a given key from a json data\n",
    "        \n",
    "#         @param json_data:str : the json from which to extract the given key's value\n",
    "#         @param dict_key:str : the key which value we wish to extract from the dictionnary \n",
    "#     \"\"\"\n",
    "#     return json_data[dict_key] #json.loads(json_data)[dict_key]"
   ]
  },
  {
   "cell_type": "code",
   "execution_count": null,
   "metadata": {},
   "outputs": [],
   "source": [
    "# Drop user columns, since their content make them useless\n",
    "twitter_df.drop([\"user\",\"user_id\"],axis=1,inplace=True)"
   ]
  },
  {
   "cell_type": "markdown",
   "metadata": {},
   "source": [
    "#### Test"
   ]
  },
  {
   "cell_type": "code",
   "execution_count": null,
   "metadata": {},
   "outputs": [],
   "source": [
    "twitter_df.head(2).T"
   ]
  },
  {
   "cell_type": "code",
   "execution_count": null,
   "metadata": {},
   "outputs": [],
   "source": []
  },
  {
   "cell_type": "markdown",
   "metadata": {},
   "source": [
    "### Issue #1 (quality issue) : `twitter_archive_df['source']` has tag `a` as value instead of the value of `href` attribute\n",
    "\n",
    "The cleaning is to be performed in `twitter_df`"
   ]
  },
  {
   "cell_type": "markdown",
   "metadata": {},
   "source": [
    "#### Define\n",
    "Extract href value from `twitter_df[\"source\"]` occurences, and use it to replace tag `a`"
   ]
  },
  {
   "cell_type": "markdown",
   "metadata": {},
   "source": [
    "#### Code"
   ]
  },
  {
   "cell_type": "code",
   "execution_count": null,
   "metadata": {
    "scrolled": true
   },
   "outputs": [],
   "source": [
    "# Recalling the content of our dataset\n",
    "twitter_df.head(2).T"
   ]
  },
  {
   "cell_type": "code",
   "execution_count": null,
   "metadata": {},
   "outputs": [],
   "source": [
    "twitter_df[\"source\"][0]"
   ]
  },
  {
   "cell_type": "code",
   "execution_count": null,
   "metadata": {},
   "outputs": [],
   "source": [
    "twitter_df.loc[1,\"source\"]"
   ]
  },
  {
   "cell_type": "code",
   "execution_count": null,
   "metadata": {},
   "outputs": [],
   "source": [
    "twitter_df[\"source\"].unique()"
   ]
  },
  {
   "cell_type": "code",
   "execution_count": null,
   "metadata": {},
   "outputs": [],
   "source": [
    "# Clean source column\n",
    "twitter_df[\"source\"] = twitter_df[\"source\"].apply(extract_urls_from_str)\n",
    "twitter_df.head(2).T"
   ]
  },
  {
   "cell_type": "markdown",
   "metadata": {},
   "source": [
    "#### Test"
   ]
  },
  {
   "cell_type": "code",
   "execution_count": null,
   "metadata": {
    "scrolled": true
   },
   "outputs": [],
   "source": [
    "# Checking that the values of twitter_archive_clean[\"source\"] are links (and no more tags)\n",
    "twitter_df[\"source\"].unique()"
   ]
  },
  {
   "cell_type": "code",
   "execution_count": null,
   "metadata": {},
   "outputs": [],
   "source": []
  },
  {
   "cell_type": "code",
   "execution_count": null,
   "metadata": {},
   "outputs": [],
   "source": []
  },
  {
   "cell_type": "markdown",
   "metadata": {},
   "source": [
    "### Issue #2 (quality issue): Wrong datatypes in `twitter_archive_df[\"timestamp\"]`            \n",
    "The datatypes in `twitter_archive_df[\"timestamp\"]` should be datetime, not object(string).\n",
    "\n",
    "This cleaning is to be performed in `twitter_df`."
   ]
  },
  {
   "cell_type": "code",
   "execution_count": null,
   "metadata": {},
   "outputs": [],
   "source": [
    "# Recalling the structure of twitter_df\n",
    "twitter_df.info()"
   ]
  },
  {
   "cell_type": "markdown",
   "metadata": {
    "collapsed": true,
    "extensions": {
     "jupyter_dashboards": {
      "version": 1,
      "views": {
       "grid_default": {
        "hidden": true
       },
       "report_default": {
        "hidden": true
       }
      }
     }
    }
   },
   "source": [
    "#### Define    \n",
    "Convert `twitter_df[\"timestamp\"]` to datetime."
   ]
  },
  {
   "cell_type": "markdown",
   "metadata": {},
   "source": [
    "#### Code"
   ]
  },
  {
   "cell_type": "code",
   "execution_count": null,
   "metadata": {},
   "outputs": [],
   "source": [
    "twitter_df[\"timestamp\"] = pd.to_datetime(twitter_df[\"timestamp\"])"
   ]
  },
  {
   "cell_type": "markdown",
   "metadata": {},
   "source": [
    "#### Test"
   ]
  },
  {
   "cell_type": "code",
   "execution_count": null,
   "metadata": {
    "scrolled": true
   },
   "outputs": [],
   "source": [
    "# Confirming that timestamp column was converted to datetime\n",
    "twitter_df.info()"
   ]
  },
  {
   "cell_type": "code",
   "execution_count": null,
   "metadata": {},
   "outputs": [],
   "source": []
  },
  {
   "cell_type": "code",
   "execution_count": null,
   "metadata": {},
   "outputs": [],
   "source": []
  },
  {
   "cell_type": "markdown",
   "metadata": {},
   "source": [
    "### Issue #3 (quality issue): `twitter_archive_df` has retweet samples\n",
    "\n",
    "Those sample are useless for our purpose (according to the project instructions).                 \n",
    "The cleaning is to be performed in `twitter_df`"
   ]
  },
  {
   "cell_type": "code",
   "execution_count": null,
   "metadata": {},
   "outputs": [],
   "source": [
    "# Taking a look at the retweeted samples\n",
    "retweeted_mask = ~ twitter_df[\"retweeted_status_id\"].isnull()\n",
    "twitter_df[ retweeted_mask ].head(2).T"
   ]
  },
  {
   "cell_type": "markdown",
   "metadata": {},
   "source": [
    "#### Define\n",
    "* Retrieve retweeted samples in a `retweeted_df` dataframe\n",
    "* Drop from `twitter_df` indexes of the samples coming from `retweeted_df`"
   ]
  },
  {
   "cell_type": "code",
   "execution_count": null,
   "metadata": {},
   "outputs": [],
   "source": [
    "retweeted_df = twitter_df[ retweeted_mask ]\n",
    "retweeted_df.head(5).T"
   ]
  },
  {
   "cell_type": "code",
   "execution_count": null,
   "metadata": {},
   "outputs": [],
   "source": [
    "retweeted_indexes = retweeted_df.index\n",
    "retweeted_indexes"
   ]
  },
  {
   "cell_type": "code",
   "execution_count": null,
   "metadata": {},
   "outputs": [],
   "source": [
    "twitter_df.shape"
   ]
  },
  {
   "cell_type": "code",
   "execution_count": null,
   "metadata": {},
   "outputs": [],
   "source": [
    "# Drop samples which are retweets\n",
    "twitter_df.drop(retweeted_indexes, axis=0,inplace=True)"
   ]
  },
  {
   "cell_type": "code",
   "execution_count": null,
   "metadata": {},
   "outputs": [],
   "source": [
    "twitter_df.shape"
   ]
  },
  {
   "cell_type": "markdown",
   "metadata": {},
   "source": [
    "We also have a `retweeted` column, which is no more useful."
   ]
  },
  {
   "cell_type": "code",
   "execution_count": null,
   "metadata": {},
   "outputs": [],
   "source": [
    "twitter_df[\"retweeted\"].unique()"
   ]
  },
  {
   "cell_type": "markdown",
   "metadata": {},
   "source": [
    "We will drop `retweeted` column, because it become useless since we know that we don't have any retweeted sample."
   ]
  },
  {
   "cell_type": "code",
   "execution_count": null,
   "metadata": {},
   "outputs": [],
   "source": [
    "twitter_df.drop([\"retweeted\"], axis=1,inplace=True)"
   ]
  },
  {
   "cell_type": "code",
   "execution_count": null,
   "metadata": {},
   "outputs": [],
   "source": [
    "twitter_df.shape"
   ]
  },
  {
   "cell_type": "markdown",
   "metadata": {},
   "source": [
    "#### Test"
   ]
  },
  {
   "cell_type": "code",
   "execution_count": null,
   "metadata": {},
   "outputs": [],
   "source": [
    "# Making sure there is no more retweet samples\n",
    "twitter_df[ retweeted_mask ]"
   ]
  },
  {
   "cell_type": "code",
   "execution_count": null,
   "metadata": {},
   "outputs": [],
   "source": []
  },
  {
   "cell_type": "markdown",
   "metadata": {},
   "source": [
    "### Issue #4 (quality issue): Null values in many columns in `twitter_archive_df`    \n",
    "\n",
    "Null values in the `retweeted_XXXX` columns following columns of `twitter_archive_df`\n",
    "\n",
    "The cleaning is to be performed in `twitter_df`."
   ]
  },
  {
   "cell_type": "code",
   "execution_count": null,
   "metadata": {},
   "outputs": [],
   "source": [
    "# Recalling the structure of twitter_archive_clean\n",
    "twitter_df.info()"
   ]
  },
  {
   "cell_type": "markdown",
   "metadata": {},
   "source": [
    "#### Define\n",
    "Drop the `retweeted_XXXX` columns"
   ]
  },
  {
   "cell_type": "markdown",
   "metadata": {},
   "source": [
    "#### Code"
   ]
  },
  {
   "cell_type": "code",
   "execution_count": null,
   "metadata": {},
   "outputs": [],
   "source": [
    "useless_columns=[\"retweeted_status_id\",\"retweeted_status_user_id\",\"retweeted_status_timestamp\"]\n",
    "twitter_df.drop(useless_columns, axis=1, inplace=True)"
   ]
  },
  {
   "cell_type": "markdown",
   "metadata": {},
   "source": [
    "#### Test"
   ]
  },
  {
   "cell_type": "code",
   "execution_count": null,
   "metadata": {},
   "outputs": [],
   "source": [
    "twitter_df.info()"
   ]
  },
  {
   "cell_type": "code",
   "execution_count": null,
   "metadata": {},
   "outputs": [],
   "source": [
    "\n"
   ]
  },
  {
   "cell_type": "markdown",
   "metadata": {},
   "source": [
    "### Issue #6 (quality issue): Date beyond August 1st, 2017, in `tweets_df`    \n",
    "\n",
    "We will drop the samples with those dates, based on the project specification.\n",
    "\n",
    "\n",
    "The cleaning is to be performed in `twitter_df`."
   ]
  },
  {
   "cell_type": "code",
   "execution_count": null,
   "metadata": {},
   "outputs": [],
   "source": [
    "twitter_df.info()"
   ]
  },
  {
   "cell_type": "code",
   "execution_count": null,
   "metadata": {},
   "outputs": [],
   "source": [
    "# Observing the samples beyond August 1st, 2017\n",
    "beyond_date_mask = twitter_df[\"timestamp\"] >= \"2017-08-01\"\n",
    "useless_tweets = twitter_df[ beyond_date_mask ]\n",
    "useless_tweets.shape"
   ]
  },
  {
   "cell_type": "code",
   "execution_count": null,
   "metadata": {},
   "outputs": [],
   "source": [
    "useless_tweets.T"
   ]
  },
  {
   "cell_type": "markdown",
   "metadata": {},
   "source": [
    "#### Define\n",
    "\n",
    "Drop the samples beyond August 1st, 2017"
   ]
  },
  {
   "cell_type": "markdown",
   "metadata": {},
   "source": [
    "#### Code"
   ]
  },
  {
   "cell_type": "code",
   "execution_count": null,
   "metadata": {},
   "outputs": [],
   "source": [
    "useless_tweets.index"
   ]
  },
  {
   "cell_type": "code",
   "execution_count": null,
   "metadata": {},
   "outputs": [],
   "source": [
    "twitter_df.shape"
   ]
  },
  {
   "cell_type": "code",
   "execution_count": null,
   "metadata": {},
   "outputs": [],
   "source": [
    "twitter_df.drop(useless_tweets.index, axis=0,inplace=True)\n",
    "twitter_df.shape"
   ]
  },
  {
   "cell_type": "markdown",
   "metadata": {},
   "source": [
    "#### Test"
   ]
  },
  {
   "cell_type": "code",
   "execution_count": null,
   "metadata": {},
   "outputs": [],
   "source": [
    "twitter_df[ beyond_date_mask ]"
   ]
  },
  {
   "cell_type": "code",
   "execution_count": null,
   "metadata": {},
   "outputs": [],
   "source": []
  },
  {
   "cell_type": "code",
   "execution_count": null,
   "metadata": {},
   "outputs": [],
   "source": []
  },
  {
   "cell_type": "markdown",
   "metadata": {},
   "source": [
    "### Issue #7 (quality issue) : Some samples in `image_predictions_df` are not dog"
   ]
  },
  {
   "cell_type": "code",
   "execution_count": null,
   "metadata": {},
   "outputs": [],
   "source": [
    "image_predictions_clean.head(2).T"
   ]
  },
  {
   "cell_type": "code",
   "execution_count": null,
   "metadata": {},
   "outputs": [],
   "source": [
    "image_predictions_clean.info()"
   ]
  },
  {
   "cell_type": "code",
   "execution_count": null,
   "metadata": {},
   "outputs": [],
   "source": [
    "image_predictions_clean[\"p1_dog\"].unique()"
   ]
  },
  {
   "cell_type": "markdown",
   "metadata": {},
   "source": [
    "#### Define\n",
    "Only keep samples which has True as value in `p1_dog` (the prediction with the highest confidence)"
   ]
  },
  {
   "cell_type": "markdown",
   "metadata": {},
   "source": [
    "#### Code"
   ]
  },
  {
   "cell_type": "code",
   "execution_count": null,
   "metadata": {},
   "outputs": [],
   "source": [
    "image_predictions_clean.shape"
   ]
  },
  {
   "cell_type": "code",
   "execution_count": null,
   "metadata": {},
   "outputs": [],
   "source": [
    "image_predictions_clean = image_predictions_clean[ image_predictions_clean[\"p1_dog\"]==True ]\n",
    "image_predictions_clean.shape"
   ]
  },
  {
   "cell_type": "markdown",
   "metadata": {},
   "source": [
    "#### Test"
   ]
  },
  {
   "cell_type": "markdown",
   "metadata": {},
   "source": [
    "We will make sure that all predictions are True, in `p1_dog`"
   ]
  },
  {
   "cell_type": "code",
   "execution_count": null,
   "metadata": {},
   "outputs": [],
   "source": [
    "image_predictions_clean[\"p1_dog\"].unique()"
   ]
  },
  {
   "cell_type": "code",
   "execution_count": null,
   "metadata": {},
   "outputs": [],
   "source": []
  },
  {
   "cell_type": "markdown",
   "metadata": {},
   "source": [
    "### Issue #8 (quality issue) : Some values are capitalized while others are not in columns `p1`, `p2`, and `p3` of `image_predictions_df`"
   ]
  },
  {
   "cell_type": "code",
   "execution_count": null,
   "metadata": {},
   "outputs": [],
   "source": [
    "image_predictions_clean.head().T"
   ]
  },
  {
   "cell_type": "markdown",
   "metadata": {},
   "source": [
    "#### Define\n",
    "\n",
    "Capitalize the first letter of each value in `p1`, `p2` and `p3`."
   ]
  },
  {
   "cell_type": "code",
   "execution_count": null,
   "metadata": {},
   "outputs": [],
   "source": [
    "image_predictions_clean[\"p1\"] = image_predictions_clean[\"p1\"].str.capitalize()\n",
    "image_predictions_clean[\"p2\"] = image_predictions_clean[\"p2\"].str.capitalize()\n",
    "image_predictions_clean[\"p3\"] = image_predictions_clean[\"p3\"].str.capitalize()"
   ]
  },
  {
   "cell_type": "markdown",
   "metadata": {},
   "source": [
    "#### Test"
   ]
  },
  {
   "cell_type": "code",
   "execution_count": null,
   "metadata": {},
   "outputs": [],
   "source": [
    "image_predictions_clean.head().T"
   ]
  },
  {
   "cell_type": "code",
   "execution_count": null,
   "metadata": {},
   "outputs": [],
   "source": []
  },
  {
   "cell_type": "markdown",
   "metadata": {},
   "source": [
    "### Issue #9 (quality) : only the most confident prediction is relevant in `image_predictions_df`"
   ]
  },
  {
   "cell_type": "markdown",
   "metadata": {},
   "source": [
    "#### Define\n",
    "* In `image_predictions_df`, only keep the following columns : `tweet_id, jpg_url, img_num, p1`\n",
    "* Rename `p1` to `breed`"
   ]
  },
  {
   "cell_type": "markdown",
   "metadata": {},
   "source": [
    "#### Code"
   ]
  },
  {
   "cell_type": "code",
   "execution_count": null,
   "metadata": {},
   "outputs": [],
   "source": [
    "image_predictions_clean = image_predictions_clean[ [\"tweet_id\",\"jpg_url\",\"img_num\",\"p1\"] ]\n",
    "\n",
    "image_predictions_clean.rename(columns={\n",
    "    \"p1\":\"breed\"\n",
    "},inplace=True)"
   ]
  },
  {
   "cell_type": "markdown",
   "metadata": {},
   "source": [
    "#### Test"
   ]
  },
  {
   "cell_type": "code",
   "execution_count": null,
   "metadata": {},
   "outputs": [],
   "source": [
    "image_predictions_clean.head()"
   ]
  },
  {
   "cell_type": "code",
   "execution_count": null,
   "metadata": {},
   "outputs": [],
   "source": []
  },
  {
   "cell_type": "code",
   "execution_count": null,
   "metadata": {},
   "outputs": [],
   "source": []
  },
  {
   "cell_type": "markdown",
   "metadata": {},
   "source": [
    "### Issue #5 (tidiness) : `twitter_archive_df` and `image_predictions_df` should form one dataframe instead being two different dataframes"
   ]
  },
  {
   "cell_type": "markdown",
   "metadata": {},
   "source": [
    "#### Define\n",
    "Merge `twitter_df` to `image_predictions_df`"
   ]
  },
  {
   "cell_type": "markdown",
   "metadata": {},
   "source": [
    "#### Code"
   ]
  },
  {
   "cell_type": "code",
   "execution_count": null,
   "metadata": {},
   "outputs": [],
   "source": [
    "twitter_df.shape"
   ]
  },
  {
   "cell_type": "code",
   "execution_count": null,
   "metadata": {},
   "outputs": [],
   "source": [
    "image_predictions_clean.shape"
   ]
  },
  {
   "cell_type": "code",
   "execution_count": null,
   "metadata": {},
   "outputs": [],
   "source": []
  },
  {
   "cell_type": "code",
   "execution_count": null,
   "metadata": {},
   "outputs": [],
   "source": [
    "# https://stackoverflow.com/questions/43297589/merge-two-data-frames-based-on-common-column-values-in-pandas\n",
    "\n",
    "tweets_master_df = twitter_df.merge(image_predictions_clean, how=\"left\", left_on=\"tweet_id\", right_on=\"tweet_id\")\n",
    "tweets_master_df.shape"
   ]
  },
  {
   "cell_type": "markdown",
   "metadata": {},
   "source": [
    "#### Test"
   ]
  },
  {
   "cell_type": "code",
   "execution_count": null,
   "metadata": {},
   "outputs": [],
   "source": [
    "tweets_master_df.head(3).T"
   ]
  },
  {
   "cell_type": "code",
   "execution_count": null,
   "metadata": {},
   "outputs": [],
   "source": []
  },
  {
   "cell_type": "code",
   "execution_count": null,
   "metadata": {},
   "outputs": [],
   "source": []
  },
  {
   "cell_type": "markdown",
   "metadata": {},
   "source": [
    "<a href=\"storing\"> </a>\n",
    "\n",
    "## Storing Data\n",
    "Save gathered, assessed, and cleaned master dataset to a CSV file named \"twitter_archive_master.csv\"."
   ]
  },
  {
   "cell_type": "code",
   "execution_count": null,
   "metadata": {},
   "outputs": [],
   "source": [
    "tweets_master_df.to_csv(\"twitter_archive_master.csv\",index=False)\n",
    "#image_predictions_clean.to_csv(\"image_predictions_master.csv\")"
   ]
  },
  {
   "cell_type": "code",
   "execution_count": null,
   "metadata": {},
   "outputs": [],
   "source": []
  },
  {
   "cell_type": "code",
   "execution_count": null,
   "metadata": {},
   "outputs": [],
   "source": []
  },
  {
   "cell_type": "markdown",
   "metadata": {},
   "source": [
    "<a href=\"eda\"> </a>\n",
    "\n",
    "## Analyzing and Visualizing Data\n",
    "\n",
    "I am going to explore the dataset to gain some insights to understand how the dogs are usually rated in [WeRateDogs](https://en.wikipedia.org/wiki/WeRateDogs). In particular, I will be interested to know :\n",
    "\n",
    "1. How does the popularity of WeRateDogs evolved over the years ?\n",
    "1. If a particular dog's stage is more likely to raise higher level of interest ? \n",
    "1. If a particular dog's stage is more likely to be loved ?\n",
    "1. If there is a relationship between the level of interest and the score ?\n",
    "1. If the ratings are influenced by the posting period (morning, miday, evening, afternoon, ...) ?\n",
    "1. If the number of images associated wih a post help increase its rating ?\n",
    "1. If a particular dog's breed is more likely to be loved ?"
   ]
  },
  {
   "cell_type": "code",
   "execution_count": null,
   "metadata": {},
   "outputs": [],
   "source": []
  },
  {
   "cell_type": "markdown",
   "metadata": {},
   "source": [
    "### Getting an overview of our data"
   ]
  },
  {
   "cell_type": "code",
   "execution_count": null,
   "metadata": {},
   "outputs": [],
   "source": [
    "# Taking a look at our dataframe\n",
    "tweets_master_df.head(3).T"
   ]
  },
  {
   "cell_type": "code",
   "execution_count": null,
   "metadata": {},
   "outputs": [],
   "source": [
    "tweets_master_df.info()"
   ]
  },
  {
   "cell_type": "code",
   "execution_count": null,
   "metadata": {},
   "outputs": [],
   "source": [
    "# Making sure there is no duplicate tweet\n",
    "tweets_master_df[\"tweet_id\"].value_counts()"
   ]
  },
  {
   "cell_type": "code",
   "execution_count": null,
   "metadata": {},
   "outputs": [],
   "source": []
  },
  {
   "cell_type": "code",
   "execution_count": null,
   "metadata": {},
   "outputs": [],
   "source": [
    "# #### Feature engineering\n",
    "\n",
    "# We will extract relevant features for our analysis below "
   ]
  },
  {
   "cell_type": "markdown",
   "metadata": {},
   "source": [
    "### Exploratory Data Analysis"
   ]
  },
  {
   "cell_type": "code",
   "execution_count": null,
   "metadata": {},
   "outputs": [],
   "source": []
  },
  {
   "cell_type": "markdown",
   "metadata": {},
   "source": [
    "#### How does the popularity of WeRateDogs evolved over the years ?\n",
    "\n",
    "We will explore how the post's count evolved over the years."
   ]
  },
  {
   "cell_type": "code",
   "execution_count": null,
   "metadata": {},
   "outputs": [],
   "source": [
    "# Extracting the year for each tweet\n",
    "\n",
    "# Reference : https://www.interviewqs.com/ddi-code-snippets/extract-month-year-pandas\n",
    "\n",
    "tweets_master_df[\"year\"] = pd.DatetimeIndex(tweets_master_df[\"timestamp\"]).year\n",
    "tweets_master_df.sample(3).T"
   ]
  },
  {
   "cell_type": "code",
   "execution_count": null,
   "metadata": {},
   "outputs": [],
   "source": [
    "# Taking a look at the years in our dataframe\n",
    "tweets_master_df[\"year\"].unique()"
   ]
  },
  {
   "cell_type": "code",
   "execution_count": null,
   "metadata": {},
   "outputs": [],
   "source": [
    "# Counting the number of post per year\n",
    "tweets_count_per_year = tweets_master_df[\"year\"].value_counts().sort_index()\n",
    "tweets_count_per_year"
   ]
  },
  {
   "cell_type": "code",
   "execution_count": null,
   "metadata": {},
   "outputs": [],
   "source": [
    "tweets_count_per_year.plot(kind=\"bar\",figsize=(8,6))\n",
    "\n",
    "plt.xlabel(\"Tweet's years\")\n",
    "plt.ylabel(\"Tweet's count\")\n",
    "plt.title(\"Tweet's count per years\");"
   ]
  },
  {
   "cell_type": "markdown",
   "metadata": {},
   "source": [
    "Our dataset span over to little years to make a good observation about how the tweets evolved over the years, so we cannot know how the interest generated by [@dog_rates](https://twitter.com/dog_rates) account evolved over the year .      \n",
    "But we can still observe that [@WeRateDogs](https://twitter.com/dog_rates) have a high increase of tweets in 2016 compared to 2015 and 2017. This can be explained by the viral tweet [they're good dogs Brent](http://knowyourmeme.com/memes/theyre-good-dogs-brent) which happen on September 2016."
   ]
  },
  {
   "cell_type": "code",
   "execution_count": null,
   "metadata": {},
   "outputs": [],
   "source": []
  },
  {
   "cell_type": "code",
   "execution_count": null,
   "metadata": {},
   "outputs": [],
   "source": []
  },
  {
   "cell_type": "markdown",
   "metadata": {},
   "source": [
    "#### Is a particular dog's stage more likely to raise higher level of interest ?\n",
    "\n",
    "In order to have an answer for this question, we will explore the relationship between the dog's stages and the retweets count.\n",
    "\n",
    "\n",
    "TODO : review this part : use mean instead of sum on  retweet_count to answer the question here"
   ]
  },
  {
   "cell_type": "code",
   "execution_count": null,
   "metadata": {},
   "outputs": [],
   "source": [
    "# Number of retweets count per dog's stage\n",
    "retweets_per_stage_count = tweets_master_df[ [\"stage\",\"retweet_count\"] ].groupby(\"stage\").sum() \\\n",
    "                                                                    .loc[:,\"retweet_count\"]  \\\n",
    "                                                                    .sort_values(ascending=False)\n",
    "retweets_per_stage_count"
   ]
  },
  {
   "cell_type": "code",
   "execution_count": null,
   "metadata": {},
   "outputs": [],
   "source": [
    "# Plot the number of retweets count per dog's stage\n",
    "retweets_per_stage_count.plot(kind=\"bar\", figsize=(8,6))\n",
    "\n",
    "plt.xlabel(\"Dog's stages\")\n",
    "plt.ylabel(\"Retweets count\")\n",
    "plt.title(\"Retweets count per dog's stages\");"
   ]
  },
  {
   "cell_type": "markdown",
   "metadata": {},
   "source": [
    "Putting aside the dogs of unknow stage, we can observe that most of the dogs in the tweets are either pupper or doggo, while puppo and floofer are not represented as much as the first two stages.         \n",
    "A pie chart will help us better observe the proportion of each stage in the tweets count. For a better observation, we will drop the results of unknow dog's stages."
   ]
  },
  {
   "cell_type": "code",
   "execution_count": null,
   "metadata": {},
   "outputs": [],
   "source": [
    "retweets_per_stage_count.drop(\"others\").plot(kind=\"pie\", \n",
    "                                             autopct='%1.1f%%',\n",
    "                                             explode=[0.01, 0.01,0.01,0.01,],\n",
    "                                             figsize=(8,8),\n",
    "                                             legend=True\n",
    "                                            )\n",
    "\n",
    "plt.ylabel(\"Retweets count\")\n",
    "plt.title(\"Level of interested raised by each dog's stages\");"
   ]
  },
  {
   "cell_type": "markdown",
   "metadata": {},
   "source": [
    "The above chart let us easily confirm that majority of interest are raised either by doggo or pupper."
   ]
  },
  {
   "cell_type": "markdown",
   "metadata": {},
   "source": [
    "We will now analyze the proportion in order to confirm our finding, since our previous result may have be misleaded by the fact that there is more post on a specific dog's stage."
   ]
  },
  {
   "cell_type": "code",
   "execution_count": null,
   "metadata": {},
   "outputs": [],
   "source": [
    "# Retweets count's mean per dog's stage\n",
    "retweets_per_stage = tweets_master_df[ [\"stage\",\"retweet_count\"] ].groupby(\"stage\").mean() \\\n",
    "                                                                    .loc[:,\"retweet_count\"]  \\\n",
    "                                                                    .sort_values(ascending=False)\n",
    "retweets_per_stage"
   ]
  },
  {
   "cell_type": "code",
   "execution_count": null,
   "metadata": {},
   "outputs": [],
   "source": [
    "retweets_per_stage.plot(kind=\"pie\", \n",
    "                        autopct='%1.1f%%',\n",
    "                        explode=[0.01, 0.01,0.01,0.01,0.01],\n",
    "                        figsize=(8,8),\n",
    "                        legend=True\n",
    "                        )\n",
    "\n",
    "plt.ylabel(\"Retweets count's mean\")\n",
    "plt.title(\"Level of interested raised by each dog's stages\");"
   ]
  },
  {
   "cell_type": "markdown",
   "metadata": {},
   "source": [
    "We can safely conclude that puppo and doggo raise a larger level of interest, followed by floofer."
   ]
  },
  {
   "cell_type": "code",
   "execution_count": null,
   "metadata": {},
   "outputs": [],
   "source": []
  },
  {
   "cell_type": "markdown",
   "metadata": {},
   "source": [
    "#### Is a particular dog's stage most likely to be loved ?\n",
    "\n",
    "We will explore the relationship between the dog's stages and the score."
   ]
  },
  {
   "cell_type": "code",
   "execution_count": null,
   "metadata": {},
   "outputs": [],
   "source": [
    "tweets_master_df.sample(3).T"
   ]
  },
  {
   "cell_type": "code",
   "execution_count": null,
   "metadata": {},
   "outputs": [],
   "source": []
  },
  {
   "cell_type": "code",
   "execution_count": null,
   "metadata": {},
   "outputs": [],
   "source": [
    "tweets_master_df[\"rating_denominator\"].unique()"
   ]
  },
  {
   "cell_type": "code",
   "execution_count": null,
   "metadata": {},
   "outputs": [],
   "source": [
    "tweets_master_df[\"rating_denominator\"].value_counts()"
   ]
  },
  {
   "cell_type": "markdown",
   "metadata": {},
   "source": [
    "We can observe that nearly all ratings denominator are 10."
   ]
  },
  {
   "cell_type": "code",
   "execution_count": null,
   "metadata": {},
   "outputs": [],
   "source": []
  },
  {
   "cell_type": "code",
   "execution_count": null,
   "metadata": {},
   "outputs": [],
   "source": [
    "tweets_master_df[\"rating_numerator\"].unique()"
   ]
  },
  {
   "cell_type": "code",
   "execution_count": null,
   "metadata": {},
   "outputs": [],
   "source": [
    "tweets_master_df[\"rating_numerator\"].value_counts()"
   ]
  },
  {
   "cell_type": "code",
   "execution_count": null,
   "metadata": {},
   "outputs": [],
   "source": []
  },
  {
   "cell_type": "markdown",
   "metadata": {},
   "source": [
    "Our quick search over the net to understand the meaning behing the dogs rating was unsuccessful. So we will not work on the meaning behind the numerator/denomitor, but on the basis of the rating value itself."
   ]
  },
  {
   "cell_type": "code",
   "execution_count": null,
   "metadata": {},
   "outputs": [],
   "source": [
    "tweets_master_df[\"rating\"] = tweets_master_df[\"rating_numerator\"] / tweets_master_df[\"rating_denominator\"]\n",
    "tweets_master_df.sample(3).T"
   ]
  },
  {
   "cell_type": "markdown",
   "metadata": {},
   "source": [
    "Let's observe the rating we have in our dataset"
   ]
  },
  {
   "cell_type": "code",
   "execution_count": null,
   "metadata": {
    "scrolled": true
   },
   "outputs": [],
   "source": [
    "tweets_master_df[\"rating\"].unique()"
   ]
  },
  {
   "cell_type": "code",
   "execution_count": null,
   "metadata": {},
   "outputs": [],
   "source": [
    "tweets_master_df[\"rating\"].value_counts()"
   ]
  },
  {
   "cell_type": "markdown",
   "metadata": {},
   "source": [
    "We have `inf` as value in our rating, which mean some of our `rating_denomitor` is 0. We will drop those samples in order to not be stuck when we will do some analysis"
   ]
  },
  {
   "cell_type": "code",
   "execution_count": null,
   "metadata": {},
   "outputs": [],
   "source": [
    "tweets_master_df[\"rating\"].nunique()"
   ]
  },
  {
   "cell_type": "code",
   "execution_count": null,
   "metadata": {},
   "outputs": [],
   "source": [
    "# Drop sample with 0 as value in rating_denomitor\n",
    "tweets_master_df = tweets_master_df[ tweets_master_df[\"rating_denominator\"]!=0 ]"
   ]
  },
  {
   "cell_type": "code",
   "execution_count": null,
   "metadata": {},
   "outputs": [],
   "source": [
    "# Making sure we don't have inf value anymore\n",
    "tweets_master_df[\"rating\"].unique()"
   ]
  },
  {
   "cell_type": "code",
   "execution_count": null,
   "metadata": {},
   "outputs": [],
   "source": []
  },
  {
   "cell_type": "markdown",
   "metadata": {},
   "source": [
    "Now we will observe how the ratings are distributed based on the dog's stages."
   ]
  },
  {
   "cell_type": "code",
   "execution_count": null,
   "metadata": {},
   "outputs": [],
   "source": [
    "# Mean rating per dog's stage\n",
    "mean_rating_per_stage = tweets_master_df.groupby(\"stage\") \\\n",
    "                                         .mean() \\\n",
    "                                         .drop(\"others\")  \\\n",
    "                                        .loc[:,\"rating\"]  \\\n",
    "                                       .sort_values(ascending=False)\n",
    "\n",
    "mean_rating_per_stage"
   ]
  },
  {
   "cell_type": "code",
   "execution_count": null,
   "metadata": {},
   "outputs": [],
   "source": [
    "# Plot the mean rating per dog's stage \n",
    "mean_rating_per_stage.plot(kind=\"bar\", figsize=(8,4))\n",
    "\n",
    "plt.xlabel(\"Dog's stages\")\n",
    "plt.ylabel(\"Mean rating\")\n",
    "plt.title(\"Favoritism in rating of a given stage compared to others\");"
   ]
  },
  {
   "cell_type": "markdown",
   "metadata": {},
   "source": [
    "From this plot, we can observe that the ratings per stage are nearly the same. We can conclude that there is no bias for/against a particular dog stage.            \n",
    "However, we can see that Puppo tend to a have higher rating compared to other stages, closely followed by Floofer and Doggo."
   ]
  },
  {
   "cell_type": "code",
   "execution_count": null,
   "metadata": {},
   "outputs": [],
   "source": []
  },
  {
   "cell_type": "markdown",
   "metadata": {},
   "source": [
    "#### Is the score influenced by the level of interest ?\n",
    "\n",
    "We will be interested here by the relationship between the rating and the retweet count."
   ]
  },
  {
   "cell_type": "code",
   "execution_count": null,
   "metadata": {},
   "outputs": [],
   "source": [
    "tweets_master_df.plot(kind=\"scatter\",x=\"retweet_count\",y=\"rating\")\n",
    "plt.xlabel(\"Retweets count\")\n",
    "plt.ylabel(\"Ratings\")\n",
    "plt.title(\"Relationship between retweets count and rating\");"
   ]
  },
  {
   "cell_type": "markdown",
   "metadata": {},
   "source": [
    "There is little linear correlation between the retweets count and the rating. So the ones is not (linearly) influenced by the other.                        \n",
    "We will also check the relationship between favorites count and the rating, to see if the rating is influenced by how much the dog was loved."
   ]
  },
  {
   "cell_type": "code",
   "execution_count": null,
   "metadata": {
    "scrolled": false
   },
   "outputs": [],
   "source": [
    "tweets_master_df.plot(kind=\"scatter\",x=\"favorite_count\",y=\"rating\")\n",
    "plt.xlabel(\"Favorites count\")\n",
    "plt.ylabel(\"Ratings\")\n",
    "plt.title(\"Relationship between favorites count and rating\");"
   ]
  },
  {
   "cell_type": "markdown",
   "metadata": {},
   "source": [
    "We can also notice that there is no (linear) relationship between the rating and the favorites count."
   ]
  },
  {
   "cell_type": "markdown",
   "metadata": {},
   "source": [
    "Based on the above two plots, we can safely conclude that the rating is not influenced by neither the favorites count nor the retweets count."
   ]
  },
  {
   "cell_type": "code",
   "execution_count": null,
   "metadata": {},
   "outputs": [],
   "source": []
  },
  {
   "cell_type": "code",
   "execution_count": null,
   "metadata": {},
   "outputs": [],
   "source": []
  },
  {
   "cell_type": "markdown",
   "metadata": {},
   "source": [
    "#### Is the ratings influenced by the day period ?\n",
    "\n",
    "Here, we are trying to determine if the day period (morning, miday, evening, afternoon, ...) somehow has an impact on the ratings."
   ]
  },
  {
   "cell_type": "markdown",
   "metadata": {},
   "source": [
    "Since we are going to work with day periods, we will create a new feature based on our available datas."
   ]
  },
  {
   "cell_type": "code",
   "execution_count": null,
   "metadata": {},
   "outputs": [],
   "source": [
    "tweets_master_df.head(3).T"
   ]
  },
  {
   "cell_type": "code",
   "execution_count": null,
   "metadata": {},
   "outputs": [],
   "source": [
    "# tweets_master_df[\"timestamp\"].value_counts()"
   ]
  },
  {
   "cell_type": "code",
   "execution_count": null,
   "metadata": {},
   "outputs": [],
   "source": [
    "tweets_master_df = operate_datetime_feature_engineering(tweets_master_df, datetime_column=\"timestamp\")\n",
    "tweets_master_df.sample(3).T"
   ]
  },
  {
   "cell_type": "code",
   "execution_count": null,
   "metadata": {},
   "outputs": [],
   "source": [
    "mean_rating_per_period = tweets_master_df.groupby(\"period\")  \\\n",
    "                                         .mean()   \\\n",
    "                                         .loc[:,\"rating\"]  \\\n",
    "                                         .sort_values(ascending=False)\n",
    "\n",
    "mean_rating_per_period"
   ]
  },
  {
   "cell_type": "markdown",
   "metadata": {},
   "source": [
    "We can already observe that theoretically, the best period to tweet a dog's post in order to maximize the chance of having a high rating is the Morning, followed by the Afternoon; worst case scenario, the post should be done at the start of Night. A chart will help us better observe the situation."
   ]
  },
  {
   "cell_type": "code",
   "execution_count": null,
   "metadata": {},
   "outputs": [],
   "source": [
    "mean_rating_per_period.plot(kind=\"bar\", figsize=(8,4))\n",
    "\n",
    "plt.xlabel(\"Day period\")\n",
    "plt.ylabel(\"Mean rating\")\n",
    "\n",
    "plt.title(\"Mean rating per day period\");"
   ]
  },
  {
   "cell_type": "markdown",
   "metadata": {},
   "source": [
    "The difference in ratings based on the day period may be related to the availability of the rater, that is to say how much time and care the rater can devote to evaluate the dog before providing a rating.\n",
    "\n",
    "We have deduced that the day period have impact on the rating. Now we will investigate if the number of images is likely to have an impact on the rating.\n",
    "\n",
    "<!-- Now we will push our investigation further to see how ratings vary based not only on day period but also the breed. -->"
   ]
  },
  {
   "cell_type": "code",
   "execution_count": null,
   "metadata": {},
   "outputs": [],
   "source": []
  },
  {
   "cell_type": "code",
   "execution_count": null,
   "metadata": {},
   "outputs": [],
   "source": []
  },
  {
   "cell_type": "markdown",
   "metadata": {},
   "source": [
    "#### Is the number of images associated wih a post help increase its rating ?\n",
    "\n",
    "We will investigate the mean rating based on the number of images per tweet."
   ]
  },
  {
   "cell_type": "code",
   "execution_count": null,
   "metadata": {},
   "outputs": [],
   "source": [
    "# Mean rating per dog images\n",
    "mean_rating_per_images = tweets_master_df.groupby(\"img_num\")  \\\n",
    "                                         .mean()   \\\n",
    "                                         .loc[:,\"rating\"]  \\\n",
    "                                         .sort_values(ascending=False)\n",
    "\n",
    "mean_rating_per_images"
   ]
  },
  {
   "cell_type": "code",
   "execution_count": null,
   "metadata": {},
   "outputs": [],
   "source": [
    "# Plot mean rating per dog images\n",
    "mean_rating_per_images.plot(kind=\"bar\", figsize=(8,4))\n",
    "\n",
    "plt.xlabel(\"Tweet images count\")\n",
    "plt.ylabel(\"Mean rating\")\n",
    "plt.title(\"Mean rating per tweet images count\")"
   ]
  },
  {
   "cell_type": "markdown",
   "metadata": {},
   "source": [
    "The number of images doesn't have a **major** impact in the rating given. But they do however have some little effect, since we can observe a slight increase in the mean rating each time the number of images is incremented. So when sending a post on WeRateDog, it is better to join 3-4 good images."
   ]
  },
  {
   "cell_type": "code",
   "execution_count": null,
   "metadata": {},
   "outputs": [],
   "source": []
  },
  {
   "cell_type": "markdown",
   "metadata": {},
   "source": [
    "#### Is a particular breed favored in ratings compared to others ?\n",
    "\n",
    "We will investigate the mean rating based on the breed in our dataset."
   ]
  },
  {
   "cell_type": "code",
   "execution_count": null,
   "metadata": {},
   "outputs": [],
   "source": [
    "# Mean rating per breed\n",
    "mean_rating_per_breed = tweets_master_df.groupby(\"breed\")  \\\n",
    "                                        .mean()  \\\n",
    "                                        .loc[:,\"rating\"] \\\n",
    "                                        .sort_values(ascending=False)\n",
    "\n",
    "mean_rating_per_breed"
   ]
  },
  {
   "cell_type": "code",
   "execution_count": null,
   "metadata": {},
   "outputs": [],
   "source": [
    "# Plot the mean rating per breed\n",
    "mean_rating_per_breed.plot(kind=\"bar\",figsize=(16,6))\n",
    "\n",
    "plt.xlabel(\"Breed\")\n",
    "plt.ylabel(\"Mean rating\")\n",
    "plt.title(\"Mean rating per breed\");"
   ]
  },
  {
   "cell_type": "markdown",
   "metadata": {},
   "source": [
    "The mean ratings per dog breed are nearly the same, except for `Clumber` and `Japanese_spaniel`. We will take a look at the data of those breeds in our dataset."
   ]
  },
  {
   "cell_type": "code",
   "execution_count": null,
   "metadata": {},
   "outputs": [],
   "source": [
    "targeted_breed = [\"Clumber\",\"Japanese_spaniel\"]\n",
    "\n",
    "tweets_master_df.query(\"breed in {}\".format(targeted_breed)).T"
   ]
  },
  {
   "cell_type": "markdown",
   "metadata": {},
   "source": [
    "We have only one entry for each of the breeds `Clumber` and `Japanese_spaniel`. So we can safely consider these ratings as exception that happen once in a while, a rating that cannot be generalise to the rest of our dataset."
   ]
  },
  {
   "cell_type": "markdown",
   "metadata": {},
   "source": [
    "Based on the above observations, we can deduce that the Reviewer has no bias toward a particular breed. As for the little difference in ratings for each breed, it should be related to how each breed usually take a pose on its photo. "
   ]
  },
  {
   "cell_type": "code",
   "execution_count": null,
   "metadata": {},
   "outputs": [],
   "source": []
  },
  {
   "cell_type": "markdown",
   "metadata": {
    "collapsed": true
   },
   "source": [
    "<a href=\"conclusion\"> </a>\n",
    "\n",
    "## Conclusion\n",
    "\n",
    "The dog's rating system on [WeRateDogs](https://twitter.com/dog_rates) is relatively fair. There is no to little bias when evaluating a dog.         \n",
    "We have identified some factors that can help score higher rating :\n",
    "* The best day's period to submit a dog's tweet are the morning and the afternoon.\n",
    "* The number of pictures to join to the tweet should be 03 or 04\n",
    "\n",
    "We have also seen that the majority of dogs are the stage of `puppo, doggo, or floofer`.\n"
   ]
  },
  {
   "cell_type": "code",
   "execution_count": null,
   "metadata": {},
   "outputs": [],
   "source": []
  },
  {
   "cell_type": "code",
   "execution_count": null,
   "metadata": {},
   "outputs": [],
   "source": []
  }
 ],
 "metadata": {
  "extensions": {
   "jupyter_dashboards": {
    "activeView": "report_default",
    "version": 1,
    "views": {
     "grid_default": {
      "cellMargin": 10,
      "defaultCellHeight": 20,
      "maxColumns": 12,
      "name": "grid",
      "type": "grid"
     },
     "report_default": {
      "name": "report",
      "type": "report"
     }
    }
   }
  },
  "kernelspec": {
   "display_name": "Python 3",
   "language": "python",
   "name": "python3"
  },
  "language_info": {
   "codemirror_mode": {
    "name": "ipython",
    "version": 3
   },
   "file_extension": ".py",
   "mimetype": "text/x-python",
   "name": "python",
   "nbconvert_exporter": "python",
   "pygments_lexer": "ipython3",
   "version": "3.8.8"
  }
 },
 "nbformat": 4,
 "nbformat_minor": 2
}
