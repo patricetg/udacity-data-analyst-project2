{
 "cells": [
  {
   "cell_type": "markdown",
   "metadata": {},
   "source": [
    "## Report: Activity report\n",
    "\n",
    "This document is the report of my Exploration Data Analysis of my second of [Udacity Data Analyst](https://www.udacity.com/course/data-analyst-nanodegree--nd002). It will give a summary of the insights I gained after exploring [WeRateDogs](https://twitter.com/dog_rates) dataset, a twitter account where dogs are given ratings for fun.\n",
    "\n",
    "The questions that were the target of my investigation are:\n",
    "\n",
    "1. How does the popularity of WeRateDogs evolved over the years ?\n",
    "1. Is a particular dog's stage is more likely to raise higher level of interest ? \n",
    "1. Is a particular dog's stage is more likely to be loved ?\n",
    "1. Is there a relationship between the level of interest and the score ?\n",
    "1. Are the ratings influenced by the posting period (morning, miday, evening, afternoon, ...) ?\n",
    "1. Is the number of images associated wih a post help increase its rating ?\n",
    "1. Is a particular dog's breed is more likely to be loved ?\n"
   ]
  },
  {
   "cell_type": "code",
   "execution_count": null,
   "metadata": {},
   "outputs": [],
   "source": []
  }
 ],
 "metadata": {
  "kernelspec": {
   "display_name": "Python 3",
   "language": "python",
   "name": "python3"
  },
  "language_info": {
   "codemirror_mode": {
    "name": "ipython",
    "version": 3
   },
   "file_extension": ".py",
   "mimetype": "text/x-python",
   "name": "python",
   "nbconvert_exporter": "python",
   "pygments_lexer": "ipython3",
   "version": "3.8.8"
  }
 },
 "nbformat": 4,
 "nbformat_minor": 2
}
