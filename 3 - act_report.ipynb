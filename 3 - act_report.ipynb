{
 "cells": [
  {
   "cell_type": "markdown",
   "metadata": {},
   "source": [
    "## Report: Activity report\n",
    "\n",
    "This document is the report of my Exploration Data Analysis of my second of [Udacity Data Analyst](https://www.udacity.com/course/data-analyst-nanodegree--nd002). It will give a summary of the insights I gained after exploring [WeRateDogs](https://twitter.com/dog_rates) dataset, a twitter account where dogs are given ratings for fun.\n",
    "\n",
    "The questions that were the target of my investigation are:\n",
    "\n",
    "1. How does the popularity of WeRateDogs evolved over the years ?                   \n",
    "    Here, I explored how the post's count evolved over the years. It appear that my data didn't span over enough years to give a confident answer, but I was still able to observe that the WeRateDogs account saw the highet number of tweets in 2016.            \n",
    "    \n",
    "1. Is a particular dog's stage is more likely to raise higher level of interest ? \n",
    "    we explorered the relationship between the dog's stages and the retweets count's mean. The goal here was to evaluate the level of interested raised by each dog's stages. Doggo and puppo are the most popular stages.      \n",
    "    \n",
    "1. Is a particular dog's stage is more likely to be loved ?                    \n",
    "    We analyzed the relationship between the dog's stages and the score. In order to achieve our goal, we create a new column containing the real value of the rating numerator divided by the rating denominator. We conclude after our analysis that the ratings are fair, and that the Reviwer show no bias toward a particular dog's stage.\n",
    "    \n",
    "1. Is there a relationship between the level of interest and the score ?                   \n",
    "    We were interested to know if the rating is influenced by (or correlated to) the retweet count. The answer after analysis was no. \n",
    "\n",
    "1. Are the ratings influenced by the posting period (morning, miday, evening, afternoon, ...) ?            \n",
    "    We investigated if the day period (morning, miday, evening, afternoon, ...) somehow has an impact on the ratings, and we were surprised to find that that was the case.\n",
    "\n",
    "1. Is the number of images associated wih a post help increase its rating ?                           \n",
    "    We confirmed after investigation that a high number of image has positive impact on the rating, and that 03 or 04 images should be joined to each tweet in order to increase the chance of having higher score.\n",
    "\n",
    "1. Is a particular dog's breed is more likely to be loved ?                   \n",
    "    We analyzed the relationship between the breed and the rating. And we observe that the breed has negligible influence on the rating.\n"
   ]
  },
  {
   "cell_type": "markdown",
   "metadata": {},
   "source": [
    "![Retweets per stage plot](images/retweets_per_stage_plot.png)"
   ]
  },
  {
   "cell_type": "markdown",
   "metadata": {},
   "source": [
    "![Mean ratings per day periods](images/mean_ratings_per_day_period.png)"
   ]
  },
  {
   "cell_type": "code",
   "execution_count": null,
   "metadata": {},
   "outputs": [],
   "source": []
  }
 ],
 "metadata": {
  "kernelspec": {
   "display_name": "Python 3",
   "language": "python",
   "name": "python3"
  },
  "language_info": {
   "codemirror_mode": {
    "name": "ipython",
    "version": 3
   },
   "file_extension": ".py",
   "mimetype": "text/x-python",
   "name": "python",
   "nbconvert_exporter": "python",
   "pygments_lexer": "ipython3",
   "version": "3.8.8"
  }
 },
 "nbformat": 4,
 "nbformat_minor": 2
}
